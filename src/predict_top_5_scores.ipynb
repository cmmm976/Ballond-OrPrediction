{
 "cells": [
  {
   "cell_type": "markdown",
   "metadata": {},
   "source": [
    "We will try to predict top 5 scores here"
   ]
  },
  {
   "cell_type": "code",
   "execution_count": 21,
   "metadata": {},
   "outputs": [],
   "source": [
    "import pandas as pd\n",
    "import numpy as np\n",
    "import matplotlib.pyplot as plt\n",
    "import seaborn as sns\n",
    "from tqdm import tqdm\n",
    "import warnings\n",
    "warnings.filterwarnings('ignore')\n",
    "sns.set()"
   ]
  },
  {
   "cell_type": "code",
   "execution_count": 75,
   "metadata": {},
   "outputs": [],
   "source": [
    "data = pd.read_csv(\"../data/merged_data.csv\")"
   ]
  },
  {
   "cell_type": "code",
   "execution_count": 76,
   "metadata": {},
   "outputs": [],
   "source": [
    "data.dropna(axis=0,subset=[\"%\"],inplace=True)\n",
    "data = data[data[\"Rang\"] <= 5]\n",
    "data.reset_index(drop=True,inplace=True)"
   ]
  },
  {
   "cell_type": "markdown",
   "metadata": {},
   "source": [
    "Encoding categorical variables"
   ]
  },
  {
   "cell_type": "code",
   "execution_count": 77,
   "metadata": {},
   "outputs": [],
   "source": [
    "X = data[['Nation', 'Pos', 'Age', 'Min_Playing', 'Gls', 'Ast',\n",
    "       'CrdY', 'CrdR','winner_Bundesliga',\n",
    "       'winner_C3', 'finalist_C3', 'winner_UCL', 'finalist_UCL',\n",
    "       'winner_Club WC', 'finalist_Club WC', 'winner_Copa America',\n",
    "       'finalist_Copa America', 'winner_Euro', 'finalist_Euro', 'winner_Liga',\n",
    "       'winner_Ligue 1', 'winner_PL', 'winner_Serie A', 'winner_WC',\n",
    "       'finalist_WC']]\n",
    "y = data[['%']].astype(float)"
   ]
  },
  {
   "cell_type": "code",
   "execution_count": 7,
   "metadata": {},
   "outputs": [],
   "source": [
    "import sklearn.preprocessing\n",
    "\n",
    "encoder = sklearn.preprocessing.OneHotEncoder(sparse=False)\n",
    "X = pd.concat([X,pd.DataFrame(encoder.fit_transform(X[['Pos']]),columns=encoder.categories_)],axis=1)\n",
    "X.drop(\"Pos\",axis=1,inplace=True)\n",
    "\n",
    "X = pd.concat([X,pd.DataFrame(encoder.fit_transform(X[['Nation']]),columns=encoder.categories_)],axis=1)\n",
    "X.drop(\"Nation\",axis=1,inplace=True)\n"
   ]
  },
  {
   "cell_type": "markdown",
   "metadata": {},
   "source": [
    "Train test split"
   ]
  },
  {
   "cell_type": "code",
   "execution_count": 8,
   "metadata": {},
   "outputs": [],
   "source": [
    "from sklearn.model_selection import train_test_split\n",
    "X_train, X_test, y_train, y_test = train_test_split(X, y, test_size=0.3, random_state=0)"
   ]
  },
  {
   "cell_type": "code",
   "execution_count": 97,
   "metadata": {},
   "outputs": [
    {
     "name": "stdout",
     "output_type": "stream",
     "text": [
      "(72, 45) (31, 45)\n"
     ]
    }
   ],
   "source": [
    "print(X_train.shape,X_test.shape)"
   ]
  },
  {
   "cell_type": "markdown",
   "metadata": {},
   "source": [
    "Preprocessing"
   ]
  },
  {
   "cell_type": "code",
   "execution_count": 9,
   "metadata": {},
   "outputs": [
    {
     "name": "stderr",
     "output_type": "stream",
     "text": [
      "C:\\Users\\charl\\miniconda3\\envs\\BallondOr\\lib\\site-packages\\sklearn\\utils\\validation.py:1675: FutureWarning: Feature names only support names that are all strings. Got feature names with dtypes: ['str', 'tuple']. An error will be raised in 1.2.\n",
      "  warnings.warn(\n",
      "C:\\Users\\charl\\miniconda3\\envs\\BallondOr\\lib\\site-packages\\sklearn\\utils\\validation.py:1675: FutureWarning: Feature names only support names that are all strings. Got feature names with dtypes: ['str', 'tuple']. An error will be raised in 1.2.\n",
      "  warnings.warn(\n",
      "C:\\Users\\charl\\miniconda3\\envs\\BallondOr\\lib\\site-packages\\sklearn\\utils\\validation.py:1675: FutureWarning: Feature names only support names that are all strings. Got feature names with dtypes: ['str', 'tuple']. An error will be raised in 1.2.\n",
      "  warnings.warn(\n",
      "C:\\Users\\charl\\miniconda3\\envs\\BallondOr\\lib\\site-packages\\sklearn\\utils\\validation.py:1675: FutureWarning: Feature names only support names that are all strings. Got feature names with dtypes: ['str', 'tuple']. An error will be raised in 1.2.\n",
      "  warnings.warn(\n"
     ]
    }
   ],
   "source": [
    "from sklearn.impute import KNNImputer\n",
    "imputer = KNNImputer(n_neighbors=3, weights=\"uniform\")\n",
    "X_train = pd.DataFrame(imputer.fit_transform(X_train),columns=X_train.columns)\n",
    "X_test = pd.DataFrame(imputer.fit_transform(X_test),columns=X_test.columns)"
   ]
  },
  {
   "cell_type": "markdown",
   "metadata": {},
   "source": [
    "Data Augmentation"
   ]
  },
  {
   "cell_type": "code",
   "execution_count": 10,
   "metadata": {},
   "outputs": [],
   "source": [
    "def noise(X, y, n, sigma):\n",
    "    _X = X.copy()\n",
    "    _y = y.copy()\n",
    "    for _ in range(n):\n",
    "        X = np.r_[X, _X + np.random.randn(*_X.shape)*sigma]\n",
    "        y = np.r_[y, _y]\n",
    "    return X, y"
   ]
  },
  {
   "cell_type": "code",
   "execution_count": 11,
   "metadata": {},
   "outputs": [],
   "source": [
    "X_train_augmented, y_train_augmented = noise(X_train, y_train,35, 2)"
   ]
  },
  {
   "cell_type": "code",
   "execution_count": 149,
   "metadata": {},
   "outputs": [
    {
     "data": {
      "text/plain": [
       "(2592, 45)"
      ]
     },
     "execution_count": 149,
     "metadata": {},
     "output_type": "execute_result"
    }
   ],
   "source": [
    "X_train_augmented.shape"
   ]
  },
  {
   "cell_type": "markdown",
   "metadata": {},
   "source": [
    "Model building"
   ]
  },
  {
   "cell_type": "code",
   "execution_count": 12,
   "metadata": {},
   "outputs": [],
   "source": [
    "from sklearn.linear_model import LinearRegression\n",
    "from sklearn.model_selection import cross_val_score\n",
    "\n",
    "linear_regression = cross_val_score(LinearRegression(), X_train_augmented, y_train_augmented, cv=10,scoring='neg_root_mean_squared_error')\n"
   ]
  },
  {
   "cell_type": "markdown",
   "metadata": {},
   "source": [
    "## Linear Regression"
   ]
  },
  {
   "cell_type": "code",
   "execution_count": 25,
   "metadata": {},
   "outputs": [
    {
     "name": "stdout",
     "output_type": "stream",
     "text": [
      "Validation RMSE : 9.584019262372525 (61.15124480676028% of the mean)\n",
      "[ 233  466  699  932 1166 1399 1632 1865 2098 2332]\n"
     ]
    },
    {
     "data": {
      "text/plain": [
       "<matplotlib.legend.Legend at 0x19db48ba430>"
      ]
     },
     "execution_count": 25,
     "metadata": {},
     "output_type": "execute_result"
    },
    {
     "data": {
      "image/png": "[encoded data removed]",
      "text/plain": [
       "<Figure size 432x288 with 1 Axes>"
      ]
     },
     "metadata": {},
     "output_type": "display_data"
    }
   ],
   "source": [
    "print(\"Validation RMSE : \"+str(abs(linear_regression.mean()))+ \" (\"+str(abs(linear_regression.mean()*100/y_train_augmented.mean()))+\"% of the mean)\")\n",
    "from sklearn.model_selection import learning_curve\n",
    "\n",
    "N, train_score, val_score = learning_curve(LinearRegression(), X_train_augmented,y_train_augmented, train_sizes=np.linspace(0.1,1,10),cv=10,scoring='neg_root_mean_squared_error')\n",
    "print(N)\n",
    "plt.plot(N[1:], abs(train_score.mean(axis=1))[1:],label=\"train\")\n",
    "plt.plot(N[1:], abs(val_score.mean(axis=1))[1:], label=\"validation\")\n",
    "plt.xlabel('train_sizes')\n",
    "plt.legend()"
   ]
  },
  {
   "cell_type": "markdown",
   "metadata": {},
   "source": [
    "#### Predicting with not augmented data :"
   ]
  },
  {
   "cell_type": "code",
   "execution_count": 33,
   "metadata": {},
   "outputs": [
    {
     "data": {
      "text/plain": [
       "74.45071868045434"
      ]
     },
     "execution_count": 33,
     "metadata": {},
     "output_type": "execute_result"
    }
   ],
   "source": [
    "abs(cross_val_score(LinearRegression(), X_train, y_train, cv=10,scoring='neg_root_mean_squared_error').mean()*100/y_train['%'].mean())"
   ]
  },
  {
   "cell_type": "markdown",
   "metadata": {},
   "source": [
    "**Data augmentation gives -13% on RMSE !**"
   ]
  },
  {
   "cell_type": "markdown",
   "metadata": {},
   "source": [
    "#### Standardizing data :"
   ]
  },
  {
   "cell_type": "code",
   "execution_count": 34,
   "metadata": {},
   "outputs": [],
   "source": [
    "numeric_variables = ['Age',           'Min_Playing',\n",
    "                         'Gls',                   'Ast',\n",
    "                        'CrdY',                  'CrdR']"
   ]
  },
  {
   "cell_type": "code",
   "execution_count": 40,
   "metadata": {},
   "outputs": [
    {
     "data": {
      "text/plain": [
       "dtype('float64')"
      ]
     },
     "execution_count": 40,
     "metadata": {},
     "output_type": "execute_result"
    }
   ],
   "source": [
    "X_train_augmented.dtype"
   ]
  },
  {
   "cell_type": "code",
   "execution_count": 43,
   "metadata": {},
   "outputs": [],
   "source": [
    "from sklearn.preprocessing import StandardScaler\n",
    "\n",
    "X_train_s = X_train\n",
    "X_train_s[numeric_variables] = StandardScaler().fit_transform(X_train[numeric_variables])"
   ]
  },
  {
   "cell_type": "code",
   "execution_count": 50,
   "metadata": {},
   "outputs": [
    {
     "data": {
      "text/html": [
       "<div>\n",
       "<style scoped>\n",
       "    .dataframe tbody tr th:only-of-type {\n",
       "        vertical-align: middle;\n",
       "    }\n",
       "\n",
       "    .dataframe tbody tr th {\n",
       "        vertical-align: top;\n",
       "    }\n",
       "\n",
       "    .dataframe thead th {\n",
       "        text-align: right;\n",
       "    }\n",
       "</style>\n",
       "<table border=\"1\" class=\"dataframe\">\n",
       "  <thead>\n",
       "    <tr style=\"text-align: right;\">\n",
       "      <th></th>\n",
       "      <th>Age</th>\n",
       "      <th>Min_Playing</th>\n",
       "      <th>Gls</th>\n",
       "      <th>Ast</th>\n",
       "      <th>CrdY</th>\n",
       "      <th>CrdR</th>\n",
       "      <th>winner_Bundesliga</th>\n",
       "      <th>winner_C3</th>\n",
       "      <th>finalist_C3</th>\n",
       "      <th>winner_UCL</th>\n",
       "      <th>...</th>\n",
       "      <th>(EGY,)</th>\n",
       "      <th>(ENG,)</th>\n",
       "      <th>(ESP,)</th>\n",
       "      <th>(FRA,)</th>\n",
       "      <th>(GER,)</th>\n",
       "      <th>(ITA,)</th>\n",
       "      <th>(NED,)</th>\n",
       "      <th>(POR,)</th>\n",
       "      <th>(SEN,)</th>\n",
       "      <th>(URU,)</th>\n",
       "    </tr>\n",
       "  </thead>\n",
       "  <tbody>\n",
       "    <tr>\n",
       "      <th>0</th>\n",
       "      <td>0.814999</td>\n",
       "      <td>-2.646787</td>\n",
       "      <td>-0.454344</td>\n",
       "      <td>-0.393277</td>\n",
       "      <td>-1.471918</td>\n",
       "      <td>-0.459795</td>\n",
       "      <td>1.0</td>\n",
       "      <td>0.0</td>\n",
       "      <td>0.0</td>\n",
       "      <td>0.0</td>\n",
       "      <td>...</td>\n",
       "      <td>0.0</td>\n",
       "      <td>0.0</td>\n",
       "      <td>0.0</td>\n",
       "      <td>0.0</td>\n",
       "      <td>0.0</td>\n",
       "      <td>0.0</td>\n",
       "      <td>1.0</td>\n",
       "      <td>0.0</td>\n",
       "      <td>0.0</td>\n",
       "      <td>0.0</td>\n",
       "    </tr>\n",
       "    <tr>\n",
       "      <th>1</th>\n",
       "      <td>1.368583</td>\n",
       "      <td>-0.497855</td>\n",
       "      <td>0.668153</td>\n",
       "      <td>-0.393277</td>\n",
       "      <td>-0.077469</td>\n",
       "      <td>-0.459795</td>\n",
       "      <td>0.0</td>\n",
       "      <td>0.0</td>\n",
       "      <td>0.0</td>\n",
       "      <td>1.0</td>\n",
       "      <td>...</td>\n",
       "      <td>0.0</td>\n",
       "      <td>0.0</td>\n",
       "      <td>0.0</td>\n",
       "      <td>0.0</td>\n",
       "      <td>0.0</td>\n",
       "      <td>0.0</td>\n",
       "      <td>0.0</td>\n",
       "      <td>1.0</td>\n",
       "      <td>0.0</td>\n",
       "      <td>0.0</td>\n",
       "    </tr>\n",
       "    <tr>\n",
       "      <th>2</th>\n",
       "      <td>3.306128</td>\n",
       "      <td>-0.207324</td>\n",
       "      <td>-1.336306</td>\n",
       "      <td>-1.639454</td>\n",
       "      <td>-1.471918</td>\n",
       "      <td>-0.459795</td>\n",
       "      <td>0.0</td>\n",
       "      <td>0.0</td>\n",
       "      <td>0.0</td>\n",
       "      <td>0.0</td>\n",
       "      <td>...</td>\n",
       "      <td>0.0</td>\n",
       "      <td>0.0</td>\n",
       "      <td>0.0</td>\n",
       "      <td>0.0</td>\n",
       "      <td>0.0</td>\n",
       "      <td>1.0</td>\n",
       "      <td>0.0</td>\n",
       "      <td>0.0</td>\n",
       "      <td>0.0</td>\n",
       "      <td>0.0</td>\n",
       "    </tr>\n",
       "    <tr>\n",
       "      <th>3</th>\n",
       "      <td>0.538207</td>\n",
       "      <td>0.589133</td>\n",
       "      <td>-0.855236</td>\n",
       "      <td>2.306774</td>\n",
       "      <td>-0.077469</td>\n",
       "      <td>-0.459795</td>\n",
       "      <td>0.0</td>\n",
       "      <td>0.0</td>\n",
       "      <td>0.0</td>\n",
       "      <td>1.0</td>\n",
       "      <td>...</td>\n",
       "      <td>0.0</td>\n",
       "      <td>0.0</td>\n",
       "      <td>1.0</td>\n",
       "      <td>0.0</td>\n",
       "      <td>0.0</td>\n",
       "      <td>0.0</td>\n",
       "      <td>0.0</td>\n",
       "      <td>0.0</td>\n",
       "      <td>0.0</td>\n",
       "      <td>0.0</td>\n",
       "    </tr>\n",
       "    <tr>\n",
       "      <th>4</th>\n",
       "      <td>1.368583</td>\n",
       "      <td>0.356207</td>\n",
       "      <td>-1.336306</td>\n",
       "      <td>-1.639454</td>\n",
       "      <td>-0.077469</td>\n",
       "      <td>1.487573</td>\n",
       "      <td>1.0</td>\n",
       "      <td>0.0</td>\n",
       "      <td>0.0</td>\n",
       "      <td>1.0</td>\n",
       "      <td>...</td>\n",
       "      <td>0.0</td>\n",
       "      <td>0.0</td>\n",
       "      <td>0.0</td>\n",
       "      <td>0.0</td>\n",
       "      <td>1.0</td>\n",
       "      <td>0.0</td>\n",
       "      <td>0.0</td>\n",
       "      <td>0.0</td>\n",
       "      <td>0.0</td>\n",
       "      <td>0.0</td>\n",
       "    </tr>\n",
       "    <tr>\n",
       "      <th>...</th>\n",
       "      <td>...</td>\n",
       "      <td>...</td>\n",
       "      <td>...</td>\n",
       "      <td>...</td>\n",
       "      <td>...</td>\n",
       "      <td>...</td>\n",
       "      <td>...</td>\n",
       "      <td>...</td>\n",
       "      <td>...</td>\n",
       "      <td>...</td>\n",
       "      <td>...</td>\n",
       "      <td>...</td>\n",
       "      <td>...</td>\n",
       "      <td>...</td>\n",
       "      <td>...</td>\n",
       "      <td>...</td>\n",
       "      <td>...</td>\n",
       "      <td>...</td>\n",
       "      <td>...</td>\n",
       "      <td>...</td>\n",
       "      <td>...</td>\n",
       "    </tr>\n",
       "    <tr>\n",
       "      <th>67</th>\n",
       "      <td>0.261415</td>\n",
       "      <td>1.618517</td>\n",
       "      <td>-1.015593</td>\n",
       "      <td>-1.224062</td>\n",
       "      <td>-1.123306</td>\n",
       "      <td>-0.459795</td>\n",
       "      <td>0.0</td>\n",
       "      <td>0.0</td>\n",
       "      <td>0.0</td>\n",
       "      <td>1.0</td>\n",
       "      <td>...</td>\n",
       "      <td>0.0</td>\n",
       "      <td>0.0</td>\n",
       "      <td>0.0</td>\n",
       "      <td>0.0</td>\n",
       "      <td>0.0</td>\n",
       "      <td>0.0</td>\n",
       "      <td>1.0</td>\n",
       "      <td>0.0</td>\n",
       "      <td>0.0</td>\n",
       "      <td>0.0</td>\n",
       "    </tr>\n",
       "    <tr>\n",
       "      <th>68</th>\n",
       "      <td>-0.015377</td>\n",
       "      <td>0.120777</td>\n",
       "      <td>-0.694879</td>\n",
       "      <td>-0.808669</td>\n",
       "      <td>-1.123306</td>\n",
       "      <td>-0.459795</td>\n",
       "      <td>0.0</td>\n",
       "      <td>0.0</td>\n",
       "      <td>0.0</td>\n",
       "      <td>1.0</td>\n",
       "      <td>...</td>\n",
       "      <td>0.0</td>\n",
       "      <td>0.0</td>\n",
       "      <td>1.0</td>\n",
       "      <td>0.0</td>\n",
       "      <td>0.0</td>\n",
       "      <td>0.0</td>\n",
       "      <td>0.0</td>\n",
       "      <td>0.0</td>\n",
       "      <td>0.0</td>\n",
       "      <td>0.0</td>\n",
       "    </tr>\n",
       "    <tr>\n",
       "      <th>69</th>\n",
       "      <td>-0.845754</td>\n",
       "      <td>0.301106</td>\n",
       "      <td>1.149223</td>\n",
       "      <td>2.306774</td>\n",
       "      <td>-0.426081</td>\n",
       "      <td>-0.459795</td>\n",
       "      <td>0.0</td>\n",
       "      <td>0.0</td>\n",
       "      <td>0.0</td>\n",
       "      <td>1.0</td>\n",
       "      <td>...</td>\n",
       "      <td>0.0</td>\n",
       "      <td>0.0</td>\n",
       "      <td>0.0</td>\n",
       "      <td>0.0</td>\n",
       "      <td>0.0</td>\n",
       "      <td>0.0</td>\n",
       "      <td>0.0</td>\n",
       "      <td>0.0</td>\n",
       "      <td>0.0</td>\n",
       "      <td>0.0</td>\n",
       "    </tr>\n",
       "    <tr>\n",
       "      <th>70</th>\n",
       "      <td>-0.292169</td>\n",
       "      <td>-0.537929</td>\n",
       "      <td>0.026726</td>\n",
       "      <td>1.268293</td>\n",
       "      <td>0.271143</td>\n",
       "      <td>-0.459795</td>\n",
       "      <td>0.0</td>\n",
       "      <td>0.0</td>\n",
       "      <td>0.0</td>\n",
       "      <td>1.0</td>\n",
       "      <td>...</td>\n",
       "      <td>0.0</td>\n",
       "      <td>0.0</td>\n",
       "      <td>0.0</td>\n",
       "      <td>0.0</td>\n",
       "      <td>0.0</td>\n",
       "      <td>0.0</td>\n",
       "      <td>0.0</td>\n",
       "      <td>0.0</td>\n",
       "      <td>0.0</td>\n",
       "      <td>0.0</td>\n",
       "    </tr>\n",
       "    <tr>\n",
       "      <th>71</th>\n",
       "      <td>1.368583</td>\n",
       "      <td>1.160178</td>\n",
       "      <td>-1.015593</td>\n",
       "      <td>-1.639454</td>\n",
       "      <td>0.968367</td>\n",
       "      <td>1.487573</td>\n",
       "      <td>0.0</td>\n",
       "      <td>0.0</td>\n",
       "      <td>0.0</td>\n",
       "      <td>0.0</td>\n",
       "      <td>...</td>\n",
       "      <td>0.0</td>\n",
       "      <td>0.0</td>\n",
       "      <td>0.0</td>\n",
       "      <td>0.0</td>\n",
       "      <td>0.0</td>\n",
       "      <td>1.0</td>\n",
       "      <td>0.0</td>\n",
       "      <td>0.0</td>\n",
       "      <td>0.0</td>\n",
       "      <td>0.0</td>\n",
       "    </tr>\n",
       "  </tbody>\n",
       "</table>\n",
       "<p>72 rows × 45 columns</p>\n",
       "</div>"
      ],
      "text/plain": [
       "         Age  Min_Playing       Gls       Ast      CrdY      CrdR  \\\n",
       "0   0.814999    -2.646787 -0.454344 -0.393277 -1.471918 -0.459795   \n",
       "1   1.368583    -0.497855  0.668153 -0.393277 -0.077469 -0.459795   \n",
       "2   3.306128    -0.207324 -1.336306 -1.639454 -1.471918 -0.459795   \n",
       "3   0.538207     0.589133 -0.855236  2.306774 -0.077469 -0.459795   \n",
       "4   1.368583     0.356207 -1.336306 -1.639454 -0.077469  1.487573   \n",
       "..       ...          ...       ...       ...       ...       ...   \n",
       "67  0.261415     1.618517 -1.015593 -1.224062 -1.123306 -0.459795   \n",
       "68 -0.015377     0.120777 -0.694879 -0.808669 -1.123306 -0.459795   \n",
       "69 -0.845754     0.301106  1.149223  2.306774 -0.426081 -0.459795   \n",
       "70 -0.292169    -0.537929  0.026726  1.268293  0.271143 -0.459795   \n",
       "71  1.368583     1.160178 -1.015593 -1.639454  0.968367  1.487573   \n",
       "\n",
       "    winner_Bundesliga  winner_C3  finalist_C3  winner_UCL  ...  (EGY,)  \\\n",
       "0                 1.0        0.0          0.0         0.0  ...     0.0   \n",
       "1                 0.0        0.0          0.0         1.0  ...     0.0   \n",
       "2                 0.0        0.0          0.0         0.0  ...     0.0   \n",
       "3                 0.0        0.0          0.0         1.0  ...     0.0   \n",
       "4                 1.0        0.0          0.0         1.0  ...     0.0   \n",
       "..                ...        ...          ...         ...  ...     ...   \n",
       "67                0.0        0.0          0.0         1.0  ...     0.0   \n",
       "68                0.0        0.0          0.0         1.0  ...     0.0   \n",
       "69                0.0        0.0          0.0         1.0  ...     0.0   \n",
       "70                0.0        0.0          0.0         1.0  ...     0.0   \n",
       "71                0.0        0.0          0.0         0.0  ...     0.0   \n",
       "\n",
       "    (ENG,)  (ESP,)  (FRA,)  (GER,)  (ITA,)  (NED,)  (POR,)  (SEN,)  (URU,)  \n",
       "0      0.0     0.0     0.0     0.0     0.0     1.0     0.0     0.0     0.0  \n",
       "1      0.0     0.0     0.0     0.0     0.0     0.0     1.0     0.0     0.0  \n",
       "2      0.0     0.0     0.0     0.0     1.0     0.0     0.0     0.0     0.0  \n",
       "3      0.0     1.0     0.0     0.0     0.0     0.0     0.0     0.0     0.0  \n",
       "4      0.0     0.0     0.0     1.0     0.0     0.0     0.0     0.0     0.0  \n",
       "..     ...     ...     ...     ...     ...     ...     ...     ...     ...  \n",
       "67     0.0     0.0     0.0     0.0     0.0     1.0     0.0     0.0     0.0  \n",
       "68     0.0     1.0     0.0     0.0     0.0     0.0     0.0     0.0     0.0  \n",
       "69     0.0     0.0     0.0     0.0     0.0     0.0     0.0     0.0     0.0  \n",
       "70     0.0     0.0     0.0     0.0     0.0     0.0     0.0     0.0     0.0  \n",
       "71     0.0     0.0     0.0     0.0     1.0     0.0     0.0     0.0     0.0  \n",
       "\n",
       "[72 rows x 45 columns]"
      ]
     },
     "execution_count": 50,
     "metadata": {},
     "output_type": "execute_result"
    }
   ],
   "source": [
    "X_train_s"
   ]
  },
  {
   "cell_type": "code",
   "execution_count": 49,
   "metadata": {},
   "outputs": [
    {
     "data": {
      "text/plain": [
       "74.45071868045423"
      ]
     },
     "execution_count": 49,
     "metadata": {},
     "output_type": "execute_result"
    }
   ],
   "source": [
    "abs(cross_val_score(LinearRegression(), X_train_s, y_train, cv=10,scoring='neg_root_mean_squared_error').mean()*100/y_train['%'].mean())"
   ]
  },
  {
   "cell_type": "markdown",
   "metadata": {},
   "source": [
    "Ridge Regression"
   ]
  },
  {
   "cell_type": "code",
   "execution_count": 26,
   "metadata": {},
   "outputs": [
    {
     "name": "stdout",
     "output_type": "stream",
     "text": [
      "6836.734693877551\n"
     ]
    }
   ],
   "source": [
    "from sklearn.linear_model import RidgeCV\n",
    "from sklearn.linear_model import Ridge\n",
    "\n",
    "ridge = RidgeCV(alphas = np.linspace(5000,50000),cv=10,scoring='neg_root_mean_squared_error').fit(X_train_augmented,y_train_augmented)\n",
    "print(ridge.alpha_)\n",
    "ridge = cross_val_score(Ridge(ridge.alpha_),X_train_augmented, y_train_augmented,cv=10,scoring='neg_root_mean_squared_error')"
   ]
  },
  {
   "cell_type": "code",
   "execution_count": 27,
   "metadata": {},
   "outputs": [
    {
     "name": "stdout",
     "output_type": "stream",
     "text": [
      "Validation RMSE : 9.549090078591595 (60.92837765574422% of the mean)\n",
      "[ 233  466  699  932 1166 1399 1632 1865 2098 2332]\n"
     ]
    },
    {
     "data": {
      "text/plain": [
       "<matplotlib.legend.Legend at 0x19db497f5b0>"
      ]
     },
     "execution_count": 27,
     "metadata": {},
     "output_type": "execute_result"
    },
    {
     "data": {
      "image/png": "[encoded data removed]",
      "text/plain": [
       "<Figure size 432x288 with 1 Axes>"
      ]
     },
     "metadata": {},
     "output_type": "display_data"
    }
   ],
   "source": [
    "print(\"Validation RMSE : \"+str(abs(ridge.mean()))+ \" (\"+str(abs(ridge.mean()*100/y_train_augmented.mean()))+\"% of the mean)\")\n",
    "\n",
    "N, train_score, val_score = learning_curve(Ridge(alpha=6836.734693877551), X_train_augmented,y_train_augmented, train_sizes=np.linspace(0.1,1,10),cv=10,scoring='neg_root_mean_squared_error')\n",
    "print(N)\n",
    "plt.plot(N[1:], abs(train_score.mean(axis=1))[1:],label=\"train\")\n",
    "plt.plot(N[1:], abs(val_score.mean(axis=1))[1:], label=\"validation\")\n",
    "plt.xlabel('train_sizes')\n",
    "plt.legend()"
   ]
  },
  {
   "cell_type": "markdown",
   "metadata": {},
   "source": [
    "Lasso regression"
   ]
  },
  {
   "cell_type": "code",
   "execution_count": 28,
   "metadata": {},
   "outputs": [
    {
     "name": "stdout",
     "output_type": "stream",
     "text": [
      "0.7142857142857144\n"
     ]
    }
   ],
   "source": [
    "from sklearn.linear_model import LassoCV\n",
    "from sklearn.linear_model import Lasso\n",
    "\n",
    "lasso = LassoCV(alphas = np.linspace(-5,5),random_state=0,cv=10).fit(X_train_augmented,y_train_augmented)\n",
    "print(lasso.alpha_)\n",
    "lasso = cross_val_score(Lasso(lasso.alpha_),X_train_augmented, y_train_augmented,cv=10,scoring='neg_root_mean_squared_error')"
   ]
  },
  {
   "cell_type": "code",
   "execution_count": 29,
   "metadata": {},
   "outputs": [
    {
     "name": "stdout",
     "output_type": "stream",
     "text": [
      "Validation RMSE : 9.551758046979613 (60.94540074215149% of the mean)\n",
      "[ 233  466  699  932 1166 1399 1632 1865 2098 2332]\n"
     ]
    },
    {
     "data": {
      "text/plain": [
       "<matplotlib.legend.Legend at 0x19db56be790>"
      ]
     },
     "execution_count": 29,
     "metadata": {},
     "output_type": "execute_result"
    },
    {
     "data": {
      "image/png": "[encoded data removed]",
      "text/plain": [
       "<Figure size 432x288 with 1 Axes>"
      ]
     },
     "metadata": {},
     "output_type": "display_data"
    }
   ],
   "source": [
    "print(\"Validation RMSE : \"+str(abs(lasso.mean()))+ \" (\"+str(abs(lasso.mean()*100/y_train_augmented.mean()))+\"% of the mean)\")\n",
    "\n",
    "N, train_score, val_score = learning_curve(Lasso(alpha=0.3061224489795915), X_train_augmented,y_train_augmented, train_sizes=np.linspace(0.1,1,10),cv=10,scoring='neg_root_mean_squared_error')\n",
    "print(N)\n",
    "plt.plot(N[1:], abs(train_score.mean(axis=1))[1:],label=\"train\")\n",
    "plt.plot(N[1:], abs(val_score.mean(axis=1))[1:], label=\"validation\")\n",
    "plt.xlabel('train_sizes')\n",
    "plt.legend()"
   ]
  },
  {
   "cell_type": "markdown",
   "metadata": {},
   "source": [
    "Polynomial Regression"
   ]
  },
  {
   "cell_type": "code",
   "execution_count": 30,
   "metadata": {},
   "outputs": [],
   "source": [
    "from sklearn.preprocessing import PolynomialFeatures\n",
    "from sklearn.model_selection import GridSearchCV"
   ]
  },
  {
   "cell_type": "code",
   "execution_count": 31,
   "metadata": {},
   "outputs": [],
   "source": [
    "poly = PolynomialFeatures(degree=2)\n",
    "X_train_augmented_ = poly.fit_transform(X_train_augmented)\n",
    "\n",
    "poly_regression = cross_val_score(LinearRegression(),X_train_augmented_,y_train_augmented,cv=10,scoring=\"neg_root_mean_squared_error\")"
   ]
  },
  {
   "cell_type": "code",
   "execution_count": 32,
   "metadata": {},
   "outputs": [
    {
     "name": "stdout",
     "output_type": "stream",
     "text": [
      "Validation RMSE : 12.137691374691315 (77.44505893855131% of the mean)\n",
      "[ 233  466  699  932 1166 1399 1632 1865 2098 2332]\n"
     ]
    },
    {
     "data": {
      "text/plain": [
       "<matplotlib.legend.Legend at 0x19db5755bb0>"
      ]
     },
     "execution_count": 32,
     "metadata": {},
     "output_type": "execute_result"
    },
    {
     "data": {
      "image/png": "[encoded data removed]",
      "text/plain": [
       "<Figure size 432x288 with 1 Axes>"
      ]
     },
     "metadata": {},
     "output_type": "display_data"
    }
   ],
   "source": [
    "print(\"Validation RMSE : \"+str(abs(poly_regression.mean()))+ \" (\"+str(abs(poly_regression.mean()*100/y_train_augmented.mean()))+\"% of the mean)\")\n",
    "\n",
    "N, train_score, val_score = learning_curve(LinearRegression(), X_train_augmented,y_train_augmented, train_sizes=np.linspace(0.1,1,10),cv=10,scoring='neg_root_mean_squared_error')\n",
    "print(N)\n",
    "plt.plot(N[1:], abs(train_score.mean(axis=1))[1:],label=\"train\")\n",
    "plt.plot(N[1:], abs(val_score.mean(axis=1))[1:], label=\"validation\")\n",
    "plt.xlabel('train_sizes')\n",
    "plt.legend()"
   ]
  },
  {
   "cell_type": "markdown",
   "metadata": {},
   "source": [
    "let's tyy to reduce model complexity (to reduce overfit) by doing an OrdinalEncoder instead of OneHotEncoder"
   ]
  },
  {
   "cell_type": "code",
   "execution_count": 51,
   "metadata": {},
   "outputs": [],
   "source": [
    "X = data[['Nation', 'Pos', 'Age', 'Min_Playing', 'Gls', 'Ast',\n",
    "       'CrdY', 'CrdR','winner_Bundesliga',\n",
    "       'winner_C3', 'finalist_C3', 'winner_UCL', 'finalist_UCL',\n",
    "       'winner_Club WC', 'finalist_Club WC', 'winner_Copa America',\n",
    "       'finalist_Copa America', 'winner_Euro', 'finalist_Euro', 'winner_Liga',\n",
    "       'winner_Ligue 1', 'winner_PL', 'winner_Serie A', 'winner_WC',\n",
    "       'finalist_WC']]\n",
    "y = data[['%']].astype(float)"
   ]
  },
  {
   "cell_type": "code",
   "execution_count": 59,
   "metadata": {},
   "outputs": [],
   "source": [
    "encoder = sklearn.preprocessing.OrdinalEncoder()\n",
    "X['Pos'] = encoder.fit_transform(X[['Pos']])\n",
    "X['Nation'] = encoder.fit_transform(X[['Nation']])"
   ]
  },
  {
   "cell_type": "markdown",
   "metadata": {},
   "source": [
    "train test split"
   ]
  },
  {
   "cell_type": "code",
   "execution_count": 61,
   "metadata": {},
   "outputs": [],
   "source": [
    "X_train, X_test, y_train, y_test = train_test_split(X,y,test_size=0.3,random_state=0)"
   ]
  },
  {
   "cell_type": "code",
   "execution_count": 63,
   "metadata": {},
   "outputs": [
    {
     "data": {
      "text/plain": [
       "(72, 25)"
      ]
     },
     "execution_count": 63,
     "metadata": {},
     "output_type": "execute_result"
    }
   ],
   "source": [
    "X_train.shape"
   ]
  },
  {
   "cell_type": "markdown",
   "metadata": {},
   "source": [
    "Preprocessing"
   ]
  },
  {
   "cell_type": "code",
   "execution_count": 62,
   "metadata": {},
   "outputs": [],
   "source": [
    "from sklearn.impute import KNNImputer\n",
    "imputer = KNNImputer(n_neighbors=3, weights=\"uniform\")\n",
    "X_train = pd.DataFrame(imputer.fit_transform(X_train),columns=X_train.columns)\n",
    "X_test = pd.DataFrame(imputer.fit_transform(X_test),columns=X_test.columns)"
   ]
  },
  {
   "cell_type": "markdown",
   "metadata": {},
   "source": [
    "Data augmentation"
   ]
  },
  {
   "cell_type": "code",
   "execution_count": 64,
   "metadata": {},
   "outputs": [],
   "source": [
    "X_train_augmented, y_train_augmented = noise(X_train, y_train,35, 2)"
   ]
  },
  {
   "cell_type": "code",
   "execution_count": 65,
   "metadata": {},
   "outputs": [
    {
     "data": {
      "text/plain": [
       "(2592, 25)"
      ]
     },
     "execution_count": 65,
     "metadata": {},
     "output_type": "execute_result"
    }
   ],
   "source": [
    "X_train_augmented.shape"
   ]
  },
  {
   "cell_type": "markdown",
   "metadata": {},
   "source": [
    "## Linear Regression"
   ]
  },
  {
   "cell_type": "code",
   "execution_count": 66,
   "metadata": {},
   "outputs": [],
   "source": [
    "linear_regression = cross_val_score(LinearRegression(), X_train_augmented, y_train_augmented, cv=10,scoring='neg_root_mean_squared_error')"
   ]
  },
  {
   "cell_type": "code",
   "execution_count": 67,
   "metadata": {},
   "outputs": [
    {
     "name": "stdout",
     "output_type": "stream",
     "text": [
      "Validation RMSE : 9.539762712120748 (60.86886399505069% of the mean)\n",
      "[ 233  466  699  932 1166 1399 1632 1865 2098 2332]\n"
     ]
    },
    {
     "data": {
      "text/plain": [
       "<matplotlib.legend.Legend at 0x19db57c21c0>"
      ]
     },
     "execution_count": 67,
     "metadata": {},
     "output_type": "execute_result"
    },
    {
     "data": {
      "image/png": "[encoded data removed]",
      "text/plain": [
       "<Figure size 432x288 with 1 Axes>"
      ]
     },
     "metadata": {},
     "output_type": "display_data"
    }
   ],
   "source": [
    "print(\"Validation RMSE : \"+str(abs(linear_regression.mean()))+ \" (\"+str(abs(linear_regression.mean()*100/y_train_augmented.mean()))+\"% of the mean)\")\n",
    "from sklearn.model_selection import learning_curve\n",
    "\n",
    "N, train_score, val_score = learning_curve(LinearRegression(), X_train_augmented,y_train_augmented, train_sizes=np.linspace(0.1,1,10),cv=10,scoring='neg_root_mean_squared_error')\n",
    "print(N)\n",
    "plt.plot(N[1:], abs(train_score.mean(axis=1))[1:],label=\"train\")\n",
    "plt.plot(N[1:], abs(val_score.mean(axis=1))[1:], label=\"validation\")\n",
    "plt.xlabel('train_sizes')\n",
    "plt.legend()"
   ]
  },
  {
   "cell_type": "markdown",
   "metadata": {},
   "source": [
    "## Ridge"
   ]
  },
  {
   "cell_type": "code",
   "execution_count": 69,
   "metadata": {},
   "outputs": [
    {
     "name": "stdout",
     "output_type": "stream",
     "text": [
      "3693.877551020408\n"
     ]
    }
   ],
   "source": [
    "from sklearn.linear_model import RidgeCV\n",
    "from sklearn.linear_model import Ridge\n",
    "\n",
    "ridge = RidgeCV(alphas = np.linspace(1000,5000),cv=10,scoring='neg_root_mean_squared_error').fit(X_train_augmented,y_train_augmented)\n",
    "print(ridge.alpha_)\n",
    "ridge = cross_val_score(Ridge(ridge.alpha_),X_train_augmented, y_train_augmented,cv=10,scoring='neg_root_mean_squared_error')"
   ]
  },
  {
   "cell_type": "code",
   "execution_count": 70,
   "metadata": {},
   "outputs": [
    {
     "name": "stdout",
     "output_type": "stream",
     "text": [
      "Validation RMSE : 9.528095945217547 (60.79442368984366% of the mean)\n",
      "[ 233  466  699  932 1166 1399 1632 1865 2098 2332]\n"
     ]
    },
    {
     "data": {
      "text/plain": [
       "<matplotlib.legend.Legend at 0x19db5a7b850>"
      ]
     },
     "execution_count": 70,
     "metadata": {},
     "output_type": "execute_result"
    },
    {
     "data": {
      "image/png": "[encoded data removed]",
      "text/plain": [
       "<Figure size 432x288 with 1 Axes>"
      ]
     },
     "metadata": {},
     "output_type": "display_data"
    }
   ],
   "source": [
    "print(\"Validation RMSE : \"+str(abs(ridge.mean()))+ \" (\"+str(abs(ridge.mean()*100/y_train_augmented.mean()))+\"% of the mean)\")\n",
    "\n",
    "N, train_score, val_score = learning_curve(Ridge(alpha=3693.877551020408), X_train_augmented,y_train_augmented, train_sizes=np.linspace(0.1,1,10),cv=10,scoring='neg_root_mean_squared_error')\n",
    "print(N)\n",
    "plt.plot(N[1:], abs(train_score.mean(axis=1))[1:],label=\"train\")\n",
    "plt.plot(N[1:], abs(val_score.mean(axis=1))[1:], label=\"validation\")\n",
    "plt.xlabel('train_sizes')\n",
    "plt.legend()"
   ]
  },
  {
   "cell_type": "markdown",
   "metadata": {},
   "source": [
    "## Lasso"
   ]
  },
  {
   "cell_type": "code",
   "execution_count": 71,
   "metadata": {},
   "outputs": [
    {
     "name": "stdout",
     "output_type": "stream",
     "text": [
      "0.3061224489795915\n"
     ]
    }
   ],
   "source": [
    "lasso = LassoCV(alphas = np.linspace(-5,5),random_state=0,cv=10).fit(X_train_augmented,y_train_augmented)\n",
    "print(lasso.alpha_)\n",
    "lasso = cross_val_score(Lasso(lasso.alpha_),X_train_augmented, y_train_augmented,cv=10,scoring='neg_root_mean_squared_error')"
   ]
  },
  {
   "cell_type": "code",
   "execution_count": 74,
   "metadata": {},
   "outputs": [
    {
     "name": "stdout",
     "output_type": "stream",
     "text": [
      "[ 233  466  699  932 1166 1399 1632 1865 2098 2332]\n",
      "Training RMSE : 9.481342237949985 (60.49610966099283% of the mean)\n",
      "Validation RMSE : 9.537453746541921 (60.85413154142181% of the mean)\n"
     ]
    },
    {
     "data": {
      "image/png": "[encoded data removed]",
      "text/plain": [
       "<Figure size 432x288 with 1 Axes>"
      ]
     },
     "metadata": {},
     "output_type": "display_data"
    }
   ],
   "source": [
    "N, train_score, val_score = learning_curve(Lasso(alpha=0.3061224489795915), X_train_augmented,y_train_augmented, train_sizes=np.linspace(0.1,1,10),cv=10,scoring='neg_root_mean_squared_error')\n",
    "print(N)\n",
    "plt.plot(N[1:], abs(train_score.mean(axis=1))[1:],label=\"train\")\n",
    "plt.plot(N[1:], abs(val_score.mean(axis=1))[1:], label=\"validation\")\n",
    "plt.xlabel('train_sizes')\n",
    "plt.legend()\n",
    "\n",
    "print(\"Training RMSE : \"+str(abs(train_score.mean(axis=1))[9])+ \" (\"+str(abs(train_score.mean(axis=1))[9]*100/y_train_augmented.mean())+\"% of the mean)\")\n",
    "print(\"Validation RMSE : \"+str(abs(lasso.mean()))+ \" (\"+str(abs(lasso.mean()*100/y_train_augmented.mean()))+\"% of the mean)\")"
   ]
  }
 ],
 "metadata": {
  "interpreter": {
   "hash": "497bebd2dbd0ffdbdef9e83b57ad8c72f27994afd6423698447e8e99fa9eec04"
  },
  "kernelspec": {
   "display_name": "Python 3.9.7 64-bit ('BallondOr': conda)",
   "language": "python",
   "name": "python3"
  },
  "language_info": {
   "codemirror_mode": {
    "name": "ipython",
    "version": 3
   },
   "file_extension": ".py",
   "mimetype": "text/x-python",
   "name": "python",
   "nbconvert_exporter": "python",
   "pygments_lexer": "ipython3",
   "version": "3.9.7"
  },
  "orig_nbformat": 4
 },
 "nbformat": 4,
 "nbformat_minor": 2
}

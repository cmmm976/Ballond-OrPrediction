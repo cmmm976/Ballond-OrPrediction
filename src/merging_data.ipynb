{
 "cells": [
  {
   "cell_type": "code",
   "execution_count": 1,
   "metadata": {},
   "outputs": [],
   "source": [
    "import pandas as pd\n",
    "from tqdm import tqdm"
   ]
  },
  {
   "cell_type": "code",
   "execution_count": 135,
   "metadata": {},
   "outputs": [],
   "source": [
    "#uploading players' stats\n",
    "data = pd.read_csv(\"../data/player_stats.csv\")\n",
    "data.drop(\"Unnamed: 0\",axis=1,inplace=True)"
   ]
  },
  {
   "cell_type": "code",
   "execution_count": 136,
   "metadata": {},
   "outputs": [],
   "source": [
    "#uploadings ballon d'or rankings\n",
    "ballonsdor = {}\n",
    "for year in range(1996,2020):\n",
    "    ballonsdor[year] = pd.read_csv(\"../data/bo_\"+str(year)+\".csv\")"
   ]
  },
  {
   "cell_type": "code",
   "execution_count": 137,
   "metadata": {},
   "outputs": [
    {
     "name": "stderr",
     "output_type": "stream",
     "text": [
      "100%|██████████| 24/24 [00:00<00:00, 1860.52it/s]"
     ]
    },
    {
     "name": "stdout",
     "output_type": "stream",
     "text": [
      "Points column not found in 2010, proceeding\n",
      "Points column not found in 2011, proceeding\n",
      "Points column not found in 2012, proceeding\n",
      "Points column not found in 2013, proceeding\n",
      "Points column not found in 2014, proceeding\n"
     ]
    },
    {
     "name": "stderr",
     "output_type": "stream",
     "text": [
      "\n"
     ]
    }
   ],
   "source": [
    "#forcing int type for points column\n",
    "for year in tqdm(range(1996,2020)):\n",
    "   try:\n",
    "    ballonsdor[year][\"Points\"] = ballonsdor[year][\"Points\"].astype(int)\n",
    "   except KeyError:\n",
    "     print(\"Points column not found in \"+str(year)+\", proceeding\")"
   ]
  },
  {
   "cell_type": "code",
   "execution_count": 138,
   "metadata": {},
   "outputs": [
    {
     "name": "stderr",
     "output_type": "stream",
     "text": [
      "100%|██████████| 24/24 [00:00<00:00, 2125.99it/s]"
     ]
    },
    {
     "name": "stdout",
     "output_type": "stream",
     "text": [
      "Points column not found in 2010, proceeding\n",
      "Points column not found in 2011, proceeding\n",
      "Points column not found in 2012, proceeding\n",
      "Points column not found in 2013, proceeding\n",
      "Points column not found in 2014, proceeding\n"
     ]
    },
    {
     "name": "stderr",
     "output_type": "stream",
     "text": [
      "\n"
     ]
    }
   ],
   "source": [
    "#normalizing points won for each year\n",
    "for df in tqdm(ballonsdor.keys()):\n",
    "  try:\n",
    "    ballonsdor[df][\"%\"] = ballonsdor[df][\"Points\"]*100/ballonsdor[df][\"Points\"].sum()\n",
    "  except KeyError:\n",
    "    print(\"Points column not found in \"+str(df)+\", proceeding\")\n",
    "  except TypeError:\n",
    "    continue"
   ]
  },
  {
   "cell_type": "code",
   "execution_count": 139,
   "metadata": {},
   "outputs": [],
   "source": [
    "#creating join key for player's stats\n",
    "data[\"BO_JK\"] = data[\"Season_End_Year\"].astype(str) + data[\"Player\"]"
   ]
  },
  {
   "cell_type": "code",
   "execution_count": 140,
   "metadata": {},
   "outputs": [
    {
     "name": "stderr",
     "output_type": "stream",
     "text": [
      "100%|██████████| 24/24 [00:00<00:00, 1717.89it/s]\n"
     ]
    }
   ],
   "source": [
    "#creating join keys for BO rankings\n",
    "for year in tqdm(ballonsdor):\n",
    "    try:\n",
    "        ballonsdor[year][\"BO_JK\"] = str(year) + ballonsdor[year][\"Nom\"]\n",
    "    except KeyError:\n",
    "        ballonsdor[year][\"BO_JK\"] = str(year) + ballonsdor[year][\"Joueur\"]"
   ]
  },
  {
   "cell_type": "code",
   "execution_count": 141,
   "metadata": {},
   "outputs": [],
   "source": [
    "#normalizing column names\n",
    "for year in ballonsdor:\n",
    "    try:    \n",
    "        ballonsdor[year][\"Nom\"] = ballonsdor[year][\"Joueur\"]\n",
    "        ballonsdor[year].drop(\"Joueur\",axis=1,inplace=True)\n",
    "    except KeyError:\n",
    "        continue\n",
    "\n",
    "for year in ballonsdor:\n",
    "    try:\n",
    "        ballonsdor[year][\"%\"] = ballonsdor[year][\"Pourcentage\"]\n",
    "    except KeyError:\n",
    "        continue\n",
    "\n",
    "for year in ballonsdor:\n",
    "    try:\n",
    "        ballonsdor[year][\"Pays\"] = ballonsdor[year][\"Équipe nationale\"]\n",
    "    except KeyError:\n",
    "        continue\n",
    "\n",
    "for year in ballonsdor:\n",
    "    try:\n",
    "        ballonsdor[year][\"%\"] = ballonsdor[year]['Pourcentage[6]']\n",
    "    except KeyError:\n",
    "        continue\n",
    "for year in ballonsdor:\n",
    "    try:\n",
    "        ballonsdor[year][\"Pays\"] = ballonsdor[year][\"Sélection nationale\"]\n",
    "    except KeyError:\n",
    "        continue\n",
    "for year in ballonsdor:\n",
    "    try:\n",
    "        ballonsdor[year][\"Pays\"] = ballonsdor[year][\"Nationalité\"]\n",
    "    except KeyError:\n",
    "        continue\n"
   ]
  },
  {
   "cell_type": "code",
   "execution_count": 142,
   "metadata": {},
   "outputs": [
    {
     "name": "stderr",
     "output_type": "stream",
     "text": [
      "C:\\Users\\charl\\miniconda3\\envs\\BallondOr\\lib\\site-packages\\pandas\\core\\frame.py:4906: SettingWithCopyWarning: \n",
      "A value is trying to be set on a copy of a slice from a DataFrame\n",
      "\n",
      "See the caveats in the documentation: https://pandas.pydata.org/pandas-docs/stable/user_guide/indexing.html#returning-a-view-versus-a-copy\n",
      "  return super().drop(\n"
     ]
    }
   ],
   "source": [
    "#append BO rankings together\n",
    "BO_rankings = ballonsdor[1996].head()\n",
    "BO_rankings.drop(0,inplace=True)\n",
    "for year in ballonsdor:\n",
    "    BO_rankings = BO_rankings.append(ballonsdor[year])"
   ]
  },
  {
   "cell_type": "code",
   "execution_count": 143,
   "metadata": {},
   "outputs": [
    {
     "data": {
      "text/plain": [
       "Rang                    46\n",
       "Nom                      0\n",
       "Pays                     0\n",
       "Club                     0\n",
       "Points                 155\n",
       "Pos 1                  683\n",
       "Pos 2                  676\n",
       "Pos 3                  665\n",
       "Pos 4                  663\n",
       "Pos 5                  652\n",
       "%                       13\n",
       "BO_JK                    0\n",
       "Sélection nationale    263\n",
       "Nationalité            541\n",
       "Rang[6]                686\n",
       "Pourcentage[6]         686\n",
       "Pourcentage            590\n",
       "Unnamed: 0             686\n",
       "Équipe nationale       686\n",
       "Poste                  649\n",
       "dtype: int64"
      ]
     },
     "execution_count": 143,
     "metadata": {},
     "output_type": "execute_result"
    }
   ],
   "source": [
    "BO_rankings.isna().sum()"
   ]
  },
  {
   "cell_type": "code",
   "execution_count": 147,
   "metadata": {},
   "outputs": [],
   "source": [
    "#drop useless/duplicate columns\n",
    "BO_rankings = BO_rankings[[\"Rang\",\"BO_JK\",\"Nom\",\"Pays\",\"Club\",\"%\"]]"
   ]
  },
  {
   "cell_type": "code",
   "execution_count": 145,
   "metadata": {},
   "outputs": [
    {
     "data": {
      "text/html": [
       "<div>\n",
       "<style scoped>\n",
       "    .dataframe tbody tr th:only-of-type {\n",
       "        vertical-align: middle;\n",
       "    }\n",
       "\n",
       "    .dataframe tbody tr th {\n",
       "        vertical-align: top;\n",
       "    }\n",
       "\n",
       "    .dataframe thead th {\n",
       "        text-align: right;\n",
       "    }\n",
       "</style>\n",
       "<table border=\"1\" class=\"dataframe\">\n",
       "  <thead>\n",
       "    <tr style=\"text-align: right;\">\n",
       "      <th></th>\n",
       "      <th>Rang</th>\n",
       "      <th>BO_JK</th>\n",
       "      <th>Nom</th>\n",
       "      <th>Pays</th>\n",
       "      <th>Club</th>\n",
       "      <th>%</th>\n",
       "    </tr>\n",
       "  </thead>\n",
       "  <tbody>\n",
       "    <tr>\n",
       "      <th>1</th>\n",
       "      <td>2.0</td>\n",
       "      <td>1996Ronaldo</td>\n",
       "      <td>Ronaldo</td>\n",
       "      <td>Brésil</td>\n",
       "      <td>PSV Eindhoven / FC Barcelone</td>\n",
       "      <td>18.69281</td>\n",
       "    </tr>\n",
       "    <tr>\n",
       "      <th>2</th>\n",
       "      <td>3.0</td>\n",
       "      <td>1996Alan Shearer</td>\n",
       "      <td>Alan Shearer</td>\n",
       "      <td>Angleterre</td>\n",
       "      <td>Blackburn Rovers / Newcastle United</td>\n",
       "      <td>13.986928</td>\n",
       "    </tr>\n",
       "    <tr>\n",
       "      <th>3</th>\n",
       "      <td>4.0</td>\n",
       "      <td>1996Alessandro Del Piero</td>\n",
       "      <td>Alessandro Del Piero</td>\n",
       "      <td>Italie</td>\n",
       "      <td>Juventus</td>\n",
       "      <td>9.019608</td>\n",
       "    </tr>\n",
       "    <tr>\n",
       "      <th>4</th>\n",
       "      <td>5.0</td>\n",
       "      <td>1996Jürgen Klinsmann</td>\n",
       "      <td>Jürgen Klinsmann</td>\n",
       "      <td>Allemagne</td>\n",
       "      <td>Bayern Munich</td>\n",
       "      <td>7.843137</td>\n",
       "    </tr>\n",
       "    <tr>\n",
       "      <th>0</th>\n",
       "      <td>1.0</td>\n",
       "      <td>1996Matthias Sammer</td>\n",
       "      <td>Matthias Sammer</td>\n",
       "      <td>Allemagne</td>\n",
       "      <td>Borussia Dortmund</td>\n",
       "      <td>18.823529</td>\n",
       "    </tr>\n",
       "    <tr>\n",
       "      <th>...</th>\n",
       "      <td>...</td>\n",
       "      <td>...</td>\n",
       "      <td>...</td>\n",
       "      <td>...</td>\n",
       "      <td>...</td>\n",
       "      <td>...</td>\n",
       "    </tr>\n",
       "    <tr>\n",
       "      <th>25</th>\n",
       "      <td>26.0</td>\n",
       "      <td>2019Karim Benzema</td>\n",
       "      <td>Karim Benzema</td>\n",
       "      <td>France</td>\n",
       "      <td>Real Madrid</td>\n",
       "      <td>0.035511</td>\n",
       "    </tr>\n",
       "    <tr>\n",
       "      <th>26</th>\n",
       "      <td>26.0</td>\n",
       "      <td>2019Georginio Wijnaldum</td>\n",
       "      <td>Georginio Wijnaldum</td>\n",
       "      <td>Pays-Bas</td>\n",
       "      <td>Liverpool FC</td>\n",
       "      <td>0.035511</td>\n",
       "    </tr>\n",
       "    <tr>\n",
       "      <th>27</th>\n",
       "      <td>28.0</td>\n",
       "      <td>2019João Félix</td>\n",
       "      <td>João Félix</td>\n",
       "      <td>Portugal</td>\n",
       "      <td>Benfica Lisbonne Atlético de Madrid</td>\n",
       "      <td>0.0</td>\n",
       "    </tr>\n",
       "    <tr>\n",
       "      <th>28</th>\n",
       "      <td>28.0</td>\n",
       "      <td>2019Marquinhos</td>\n",
       "      <td>Marquinhos</td>\n",
       "      <td>Brésil</td>\n",
       "      <td>Paris Saint-Germain</td>\n",
       "      <td>0.0</td>\n",
       "    </tr>\n",
       "    <tr>\n",
       "      <th>29</th>\n",
       "      <td>28.0</td>\n",
       "      <td>2019Donny van de Beek</td>\n",
       "      <td>Donny van de Beek</td>\n",
       "      <td>Pays-Bas</td>\n",
       "      <td>Ajax Amsterdam</td>\n",
       "      <td>0.0</td>\n",
       "    </tr>\n",
       "  </tbody>\n",
       "</table>\n",
       "<p>709 rows × 6 columns</p>\n",
       "</div>"
      ],
      "text/plain": [
       "    Rang                     BO_JK                   Nom        Pays  \\\n",
       "1    2.0               1996Ronaldo               Ronaldo      Brésil   \n",
       "2    3.0          1996Alan Shearer          Alan Shearer  Angleterre   \n",
       "3    4.0  1996Alessandro Del Piero  Alessandro Del Piero      Italie   \n",
       "4    5.0      1996Jürgen Klinsmann      Jürgen Klinsmann   Allemagne   \n",
       "0    1.0       1996Matthias Sammer       Matthias Sammer   Allemagne   \n",
       "..   ...                       ...                   ...         ...   \n",
       "25  26.0         2019Karim Benzema         Karim Benzema      France   \n",
       "26  26.0   2019Georginio Wijnaldum   Georginio Wijnaldum    Pays-Bas   \n",
       "27  28.0            2019João Félix            João Félix    Portugal   \n",
       "28  28.0            2019Marquinhos            Marquinhos      Brésil   \n",
       "29  28.0     2019Donny van de Beek     Donny van de Beek    Pays-Bas   \n",
       "\n",
       "                                   Club          %  \n",
       "1          PSV Eindhoven / FC Barcelone   18.69281  \n",
       "2   Blackburn Rovers / Newcastle United  13.986928  \n",
       "3                              Juventus   9.019608  \n",
       "4                         Bayern Munich   7.843137  \n",
       "0                     Borussia Dortmund  18.823529  \n",
       "..                                  ...        ...  \n",
       "25                          Real Madrid   0.035511  \n",
       "26                         Liverpool FC   0.035511  \n",
       "27  Benfica Lisbonne Atlético de Madrid        0.0  \n",
       "28                  Paris Saint-Germain        0.0  \n",
       "29                       Ajax Amsterdam        0.0  \n",
       "\n",
       "[709 rows x 6 columns]"
      ]
     },
     "execution_count": 145,
     "metadata": {},
     "output_type": "execute_result"
    }
   ],
   "source": [
    "BO_rankings"
   ]
  },
  {
   "cell_type": "code",
   "execution_count": 148,
   "metadata": {},
   "outputs": [
    {
     "name": "stderr",
     "output_type": "stream",
     "text": [
      "100%|██████████| 24/24 [00:00<00:00, 36.55it/s]\n"
     ]
    }
   ],
   "source": [
    "#joins\n",
    "for year in tqdm(ballonsdor):\n",
    "    new_data = data.merge(right=BO_rankings,on=\"BO_JK\",how=\"right\")"
   ]
  },
  {
   "cell_type": "code",
   "execution_count": 149,
   "metadata": {},
   "outputs": [],
   "source": [
    "new_data.dropna(subset=[\"Season_End_Year\"],inplace=True)\n",
    "new_data[\"Season_End_Year\"] = new_data[\"Season_End_Year\"].astype(int)"
   ]
  },
  {
   "cell_type": "markdown",
   "metadata": {},
   "source": [
    "1) créer clés squad_JK et country_JK dans new_data\n",
    "2) pour chaque .csv de cup winners, créer clés cup_JK_1 (winner) et cup_JK_2 (finalist)\n",
    "3) pour chaque cup de club, créer une colonne qui vaut 1 si la clé est trouvée, 0 sinon\n",
    "4) idem pour cup nationales"
   ]
  },
  {
   "cell_type": "code",
   "execution_count": 150,
   "metadata": {},
   "outputs": [],
   "source": [
    "#1) créer clés squad_JK et Nation_JK dans new_data\n",
    "new_data[\"Squad_JK\"] = new_data[\"Season_End_Year\"].astype(str) + new_data[\"Squad\"]\n",
    "new_data[\"Nation_JK\"] = new_data[\"Season_End_Year\"].astype(str) + new_data[\"Nation\"]"
   ]
  },
  {
   "cell_type": "code",
   "execution_count": 126,
   "metadata": {},
   "outputs": [],
   "source": [
    "competitions_winners = {}"
   ]
  },
  {
   "cell_type": "code",
   "execution_count": 151,
   "metadata": {},
   "outputs": [],
   "source": [
    "competitions_winners[\"Bundesliga\"] = pd.read_csv(\"../data/Bundesliga_winners.csv\")\n",
    "competitions_winners[\"C3\"] = pd.read_csv(\"../data/C3_Winners.csv\")\n",
    "competitions_winners[\"UCL\"] = pd.read_csv(\"../data/Champions_League_winners.csv\")\n",
    "competitions_winners[\"Club WC\"] = pd.read_csv(\"../data/club_world_cup_winners.csv\")\n",
    "competitions_winners[\"Copa America\"] = pd.read_csv(\"../data/copa_america_winners.csv\")\n",
    "competitions_winners[\"Euro\"] = pd.read_csv(\"../data/euro_winners.csv\")\n",
    "competitions_winners[\"Liga\"] = pd.read_csv(\"../data/Liga_winners.csv\")\n",
    "competitions_winners[\"Ligue 1\"] = pd.read_csv(\"../data/ligue1_winners.csv\")\n",
    "competitions_winners['PL'] = pd.read_csv(\"../data/PL_winners.csv\")\n",
    "competitions_winners['Serie A'] = pd.read_csv(\"../data/SerieA_winners.csv\")\n",
    "competitions_winners['WC'] = pd.read_csv('../data/WC_winners.csv')"
   ]
  },
  {
   "cell_type": "code",
   "execution_count": 152,
   "metadata": {},
   "outputs": [],
   "source": [
    "competitions_winners[\"Ligue 1\"][\"Winner\"] = competitions_winners[\"Ligue 1\"][\" Winner\"]\n",
    "competitions_winners[\"Ligue 1\"].drop(\" Winner\",axis=1,inplace=True)"
   ]
  },
  {
   "cell_type": "code",
   "execution_count": 153,
   "metadata": {},
   "outputs": [
    {
     "name": "stderr",
     "output_type": "stream",
     "text": [
      "100%|██████████| 11/11 [00:00<00:00, 410.92it/s]\n"
     ]
    }
   ],
   "source": [
    "#2) pour chaque .csv de cup winners, créer clés cup_JK_1 (winner) et cup_JK_2 (finalist)\n",
    "for competition in tqdm(competitions_winners.items()):\n",
    "    competitions_winners[competition[0]][competition[0]+\"_JK_1\"] = (competitions_winners[competition[0]][\"Year\"].astype(str) + competitions_winners[competition[0]][\"Winner\"]).apply(lambda x : x.strip())\n",
    "    try:\n",
    "        competitions_winners[competition[0]][competition[0]+\"_JK_2\"] = (competitions_winners[competition[0]][\"Year\"].astype(str) + competitions_winners[competition[0]][\"Finalist\"]).apply(lambda x : x.strip())\n",
    "    except KeyError:\n",
    "        continue\n",
    "    "
   ]
  },
  {
   "cell_type": "code",
   "execution_count": 154,
   "metadata": {},
   "outputs": [
    {
     "name": "stderr",
     "output_type": "stream",
     "text": [
      "100%|██████████| 11/11 [00:00<00:00, 18.85it/s]\n",
      "100%|██████████| 11/11 [00:00<00:00, 23.23it/s]\n"
     ]
    }
   ],
   "source": [
    "#3) pour chaque cup de club, créer une colonne dans new_data qui vaut 1 si la clé est trouvée, 0 sinon\n",
    "#doesn't work\n",
    "for competition in tqdm(competitions_winners.items()):\n",
    "    new_data[\"winner_\"+competition[0]] = new_data[\"Squad_JK\"].apply(lambda x : 1 if x in competition[1][competition[0]+'_JK_1'].unique() else 0)\n",
    "    try:\n",
    "        new_data[\"finalist_\"+competition[0]] = new_data[\"Squad_JK\"].apply(lambda x : 1 if x in competition[1][competition[0]+'_JK_2'].unique() else 0)\n",
    "    except KeyError:\n",
    "        continue\n",
    "\n",
    "#4) idem pour cup nationales\n",
    "for competition in tqdm(competitions_winners.items()):\n",
    "    new_data[\"winner_\"+competition[0]] = new_data[\"Nation_JK\"].apply(lambda x : 1 if x in competition[1][competition[0]+'_JK_1'].unique() else 0)\n",
    "    try:\n",
    "        new_data[\"finalist_\"+competition[0]] = new_data[\"Nation_JK\"].apply(lambda x : 1 if x in competition[1][competition[0]+'_JK_2'].unique() else 0)\n",
    "    except KeyError:\n",
    "        continue"
   ]
  },
  {
   "cell_type": "code",
   "execution_count": 155,
   "metadata": {},
   "outputs": [],
   "source": [
    "competitions_winners[\"Liga\"][\"Liga_JK_1\"] = competitions_winners[\"Liga\"][\"Liga_JK_1\"].apply(lambda x : x.strip())\n",
    "competitions_winners[\"Bundesliga\"][\"Bundesliga_JK_1\"] = competitions_winners[\"Bundesliga\"][\"Bundesliga_JK_1\"].apply(lambda x : x.strip())\n",
    "competitions_winners[\"C3\"][\"C3_JK_1\"] = competitions_winners[\"C3\"][\"C3_JK_1\"].apply(lambda x : x.strip())\n",
    "competitions_winners[\"C3\"][\"C3_JK_2\"] = competitions_winners[\"C3\"][\"C3_JK_2\"].apply(lambda x : x.strip())\n",
    "competitions_winners[\"Club WC\"][\"Club WC_JK_1\"] = competitions_winners[\"Club WC\"][\"Club WC_JK_1\"].apply(lambda x : x.strip())\n",
    "competitions_winners[\"Club WC\"][\"Club WC_JK_2\"] = competitions_winners[\"Club WC\"][\"Club WC_JK_1\"].apply(lambda x : x.strip())\n",
    "competitions_winners[\"UCL\"][\"UCL_JK_1\"] = competitions_winners[\"UCL\"][\"UCL_JK_1\"].apply(lambda x : x.strip())\n",
    "competitions_winners[\"UCL\"][\"UCL_JK_2\"] = competitions_winners[\"UCL\"][\"UCL_JK_2\"].apply(lambda x : x.strip())\n",
    "competitions_winners[\"Ligue 1\"][\"Ligue 1_JK_1\"] = competitions_winners[\"Ligue 1\"][\"Ligue 1_JK_1\"].apply(lambda x : x.strip())\n",
    "competitions_winners[\"PL\"][\"PL_JK_1\"] = competitions_winners[\"PL\"][\"PL_JK_1\"].apply(lambda x : x.strip())\n",
    "competitions_winners[\"Serie A\"][\"Serie A_JK_1\"] = competitions_winners[\"Serie A\"][\"Serie A_JK_1\"].apply(lambda x : x.strip())"
   ]
  },
  {
   "cell_type": "code",
   "execution_count": 156,
   "metadata": {},
   "outputs": [],
   "source": [
    "new_data[\"winner_UCL\"] = new_data[\"Squad_JK\"].apply(lambda x : 1 if x in competitions_winners['UCL']['UCL_JK_1'].unique() else 0)\n",
    "new_data[\"finalist_UCL\"] = new_data[\"Squad_JK\"].apply(lambda x : 1 if x in competitions_winners['UCL']['UCL_JK_2'].unique() else 0)\n",
    "new_data[\"winner_Bundesliga\"] = new_data[\"Squad_JK\"].apply(lambda x : 1 if x in competitions_winners['Bundesliga']['Bundesliga_JK_1'].unique() else 0)\n",
    "new_data[\"winner_C3\"] = new_data[\"Squad_JK\"].apply(lambda x : 1 if x in competitions_winners['C3']['C3_JK_1'].unique() else 0)\n",
    "new_data[\"finalist_C3\"] = new_data[\"Squad_JK\"].apply(lambda x : 1 if x in competitions_winners['C3']['C3_JK_2'].unique() else 0)\n",
    "new_data[\"winner_Club WC\"] = new_data[\"Squad_JK\"].apply(lambda x : 1 if x in competitions_winners['Club WC']['Club WC_JK_1'].unique() else 0)\n",
    "new_data[\"finalist_Club WC\"] = new_data[\"Squad_JK\"].apply(lambda x : 1 if x in competitions_winners['Club WC']['Club WC_JK_2'].unique() else 0)\n",
    "new_data[\"winner_Liga\"] = new_data[\"Squad_JK\"].apply(lambda x : 1 if x in competitions_winners['Liga']['Liga_JK_1'].unique() else 0)\n",
    "new_data[\"winner_Ligue 1\"] = new_data[\"Squad_JK\"].apply(lambda x : 1 if x in competitions_winners['Ligue 1']['Ligue 1_JK_1'].unique() else 0)\n",
    "new_data[\"winner_PL\"] = new_data[\"Squad_JK\"].apply(lambda x : 1 if x in competitions_winners['PL']['PL_JK_1'].unique() else 0)\n",
    "new_data[\"winner_Serie A\"] = new_data[\"Squad_JK\"].apply(lambda x : 1 if x in competitions_winners['Serie A']['Serie A_JK_1'].unique() else 0)"
   ]
  },
  {
   "cell_type": "code",
   "execution_count": 157,
   "metadata": {},
   "outputs": [
    {
     "data": {
      "text/html": [
       "<div>\n",
       "<style scoped>\n",
       "    .dataframe tbody tr th:only-of-type {\n",
       "        vertical-align: middle;\n",
       "    }\n",
       "\n",
       "    .dataframe tbody tr th {\n",
       "        vertical-align: top;\n",
       "    }\n",
       "\n",
       "    .dataframe thead th {\n",
       "        text-align: right;\n",
       "    }\n",
       "</style>\n",
       "<table border=\"1\" class=\"dataframe\">\n",
       "  <thead>\n",
       "    <tr style=\"text-align: right;\">\n",
       "      <th></th>\n",
       "      <th>Player</th>\n",
       "      <th>Squad</th>\n",
       "      <th>Season_End_Year</th>\n",
       "      <th>winner_UCL</th>\n",
       "      <th>winner_Liga</th>\n",
       "      <th>winner_Club WC</th>\n",
       "      <th>finalist_Euro</th>\n",
       "      <th>finalist_UCL</th>\n",
       "    </tr>\n",
       "  </thead>\n",
       "  <tbody>\n",
       "    <tr>\n",
       "      <th>258</th>\n",
       "      <td>Cristiano Ronaldo</td>\n",
       "      <td>Manchester Utd</td>\n",
       "      <td>2004</td>\n",
       "      <td>0</td>\n",
       "      <td>0</td>\n",
       "      <td>0</td>\n",
       "      <td>1</td>\n",
       "      <td>0</td>\n",
       "    </tr>\n",
       "    <tr>\n",
       "      <th>298</th>\n",
       "      <td>Cristiano Ronaldo</td>\n",
       "      <td>Manchester Utd</td>\n",
       "      <td>2005</td>\n",
       "      <td>0</td>\n",
       "      <td>0</td>\n",
       "      <td>0</td>\n",
       "      <td>0</td>\n",
       "      <td>0</td>\n",
       "    </tr>\n",
       "    <tr>\n",
       "      <th>316</th>\n",
       "      <td>Cristiano Ronaldo</td>\n",
       "      <td>Manchester Utd</td>\n",
       "      <td>2006</td>\n",
       "      <td>0</td>\n",
       "      <td>0</td>\n",
       "      <td>0</td>\n",
       "      <td>0</td>\n",
       "      <td>0</td>\n",
       "    </tr>\n",
       "    <tr>\n",
       "      <th>330</th>\n",
       "      <td>Cristiano Ronaldo</td>\n",
       "      <td>Manchester Utd</td>\n",
       "      <td>2007</td>\n",
       "      <td>0</td>\n",
       "      <td>0</td>\n",
       "      <td>0</td>\n",
       "      <td>0</td>\n",
       "      <td>0</td>\n",
       "    </tr>\n",
       "    <tr>\n",
       "      <th>364</th>\n",
       "      <td>Cristiano Ronaldo</td>\n",
       "      <td>Manchester Utd</td>\n",
       "      <td>2008</td>\n",
       "      <td>1</td>\n",
       "      <td>0</td>\n",
       "      <td>1</td>\n",
       "      <td>0</td>\n",
       "      <td>0</td>\n",
       "    </tr>\n",
       "    <tr>\n",
       "      <th>390</th>\n",
       "      <td>Cristiano Ronaldo</td>\n",
       "      <td>Manchester Utd</td>\n",
       "      <td>2009</td>\n",
       "      <td>0</td>\n",
       "      <td>0</td>\n",
       "      <td>0</td>\n",
       "      <td>0</td>\n",
       "      <td>1</td>\n",
       "    </tr>\n",
       "    <tr>\n",
       "      <th>424</th>\n",
       "      <td>Cristiano Ronaldo</td>\n",
       "      <td>Real Madrid</td>\n",
       "      <td>2010</td>\n",
       "      <td>0</td>\n",
       "      <td>0</td>\n",
       "      <td>0</td>\n",
       "      <td>0</td>\n",
       "      <td>0</td>\n",
       "    </tr>\n",
       "    <tr>\n",
       "      <th>443</th>\n",
       "      <td>Cristiano Ronaldo</td>\n",
       "      <td>Real Madrid</td>\n",
       "      <td>2011</td>\n",
       "      <td>0</td>\n",
       "      <td>0</td>\n",
       "      <td>0</td>\n",
       "      <td>0</td>\n",
       "      <td>0</td>\n",
       "    </tr>\n",
       "    <tr>\n",
       "      <th>466</th>\n",
       "      <td>Cristiano Ronaldo</td>\n",
       "      <td>Real Madrid</td>\n",
       "      <td>2012</td>\n",
       "      <td>0</td>\n",
       "      <td>1</td>\n",
       "      <td>0</td>\n",
       "      <td>0</td>\n",
       "      <td>0</td>\n",
       "    </tr>\n",
       "    <tr>\n",
       "      <th>508</th>\n",
       "      <td>Cristiano Ronaldo</td>\n",
       "      <td>Real Madrid</td>\n",
       "      <td>2013</td>\n",
       "      <td>0</td>\n",
       "      <td>0</td>\n",
       "      <td>0</td>\n",
       "      <td>0</td>\n",
       "      <td>0</td>\n",
       "    </tr>\n",
       "    <tr>\n",
       "      <th>551</th>\n",
       "      <td>Cristiano Ronaldo</td>\n",
       "      <td>Real Madrid</td>\n",
       "      <td>2014</td>\n",
       "      <td>1</td>\n",
       "      <td>0</td>\n",
       "      <td>1</td>\n",
       "      <td>0</td>\n",
       "      <td>0</td>\n",
       "    </tr>\n",
       "    <tr>\n",
       "      <th>575</th>\n",
       "      <td>Cristiano Ronaldo</td>\n",
       "      <td>Real Madrid</td>\n",
       "      <td>2015</td>\n",
       "      <td>0</td>\n",
       "      <td>0</td>\n",
       "      <td>0</td>\n",
       "      <td>0</td>\n",
       "      <td>0</td>\n",
       "    </tr>\n",
       "    <tr>\n",
       "      <th>597</th>\n",
       "      <td>Cristiano Ronaldo</td>\n",
       "      <td>Real Madrid</td>\n",
       "      <td>2016</td>\n",
       "      <td>1</td>\n",
       "      <td>0</td>\n",
       "      <td>1</td>\n",
       "      <td>0</td>\n",
       "      <td>0</td>\n",
       "    </tr>\n",
       "    <tr>\n",
       "      <th>628</th>\n",
       "      <td>Cristiano Ronaldo</td>\n",
       "      <td>Real Madrid</td>\n",
       "      <td>2017</td>\n",
       "      <td>1</td>\n",
       "      <td>1</td>\n",
       "      <td>1</td>\n",
       "      <td>0</td>\n",
       "      <td>0</td>\n",
       "    </tr>\n",
       "    <tr>\n",
       "      <th>659</th>\n",
       "      <td>Cristiano Ronaldo</td>\n",
       "      <td>Real Madrid</td>\n",
       "      <td>2018</td>\n",
       "      <td>1</td>\n",
       "      <td>0</td>\n",
       "      <td>1</td>\n",
       "      <td>0</td>\n",
       "      <td>0</td>\n",
       "    </tr>\n",
       "    <tr>\n",
       "      <th>692</th>\n",
       "      <td>Cristiano Ronaldo</td>\n",
       "      <td>Juventus</td>\n",
       "      <td>2019</td>\n",
       "      <td>0</td>\n",
       "      <td>0</td>\n",
       "      <td>0</td>\n",
       "      <td>0</td>\n",
       "      <td>0</td>\n",
       "    </tr>\n",
       "  </tbody>\n",
       "</table>\n",
       "</div>"
      ],
      "text/plain": [
       "                Player           Squad  Season_End_Year  winner_UCL  \\\n",
       "258  Cristiano Ronaldo  Manchester Utd             2004           0   \n",
       "298  Cristiano Ronaldo  Manchester Utd             2005           0   \n",
       "316  Cristiano Ronaldo  Manchester Utd             2006           0   \n",
       "330  Cristiano Ronaldo  Manchester Utd             2007           0   \n",
       "364  Cristiano Ronaldo  Manchester Utd             2008           1   \n",
       "390  Cristiano Ronaldo  Manchester Utd             2009           0   \n",
       "424  Cristiano Ronaldo     Real Madrid             2010           0   \n",
       "443  Cristiano Ronaldo     Real Madrid             2011           0   \n",
       "466  Cristiano Ronaldo     Real Madrid             2012           0   \n",
       "508  Cristiano Ronaldo     Real Madrid             2013           0   \n",
       "551  Cristiano Ronaldo     Real Madrid             2014           1   \n",
       "575  Cristiano Ronaldo     Real Madrid             2015           0   \n",
       "597  Cristiano Ronaldo     Real Madrid             2016           1   \n",
       "628  Cristiano Ronaldo     Real Madrid             2017           1   \n",
       "659  Cristiano Ronaldo     Real Madrid             2018           1   \n",
       "692  Cristiano Ronaldo        Juventus             2019           0   \n",
       "\n",
       "     winner_Liga  winner_Club WC  finalist_Euro  finalist_UCL  \n",
       "258            0               0              1             0  \n",
       "298            0               0              0             0  \n",
       "316            0               0              0             0  \n",
       "330            0               0              0             0  \n",
       "364            0               1              0             0  \n",
       "390            0               0              0             1  \n",
       "424            0               0              0             0  \n",
       "443            0               0              0             0  \n",
       "466            1               0              0             0  \n",
       "508            0               0              0             0  \n",
       "551            0               1              0             0  \n",
       "575            0               0              0             0  \n",
       "597            0               1              0             0  \n",
       "628            1               1              0             0  \n",
       "659            0               1              0             0  \n",
       "692            0               0              0             0  "
      ]
     },
     "execution_count": 157,
     "metadata": {},
     "output_type": "execute_result"
    }
   ],
   "source": [
    "new_data[new_data[\"Player\"] == \"Cristiano Ronaldo\"][[\"Player\",\"Squad\",\"Season_End_Year\",\"winner_UCL\",\"winner_Liga\",\"winner_Club WC\",\"finalist_Euro\",\"finalist_UCL\"]]"
   ]
  },
  {
   "cell_type": "code",
   "execution_count": 159,
   "metadata": {},
   "outputs": [],
   "source": [
    "new_data.to_csv(\"../data/merged_data.csv\",index=False)"
   ]
  }
 ],
 "metadata": {
  "interpreter": {
   "hash": "497bebd2dbd0ffdbdef9e83b57ad8c72f27994afd6423698447e8e99fa9eec04"
  },
  "kernelspec": {
   "display_name": "Python 3.9.7 64-bit ('BallondOr': conda)",
   "language": "python",
   "name": "python3"
  },
  "language_info": {
   "codemirror_mode": {
    "name": "ipython",
    "version": 3
   },
   "file_extension": ".py",
   "mimetype": "text/x-python",
   "name": "python",
   "nbconvert_exporter": "python",
   "pygments_lexer": "ipython3",
   "version": "3.9.7"
  },
  "orig_nbformat": 4
 },
 "nbformat": 4,
 "nbformat_minor": 2
}

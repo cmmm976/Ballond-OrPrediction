{
  "nbformat": 4,
  "nbformat_minor": 0,
  "metadata": {
    "interpreter": {
      "hash": "497bebd2dbd0ffdbdef9e83b57ad8c72f27994afd6423698447e8e99fa9eec04"
    },
    "kernelspec": {
      "display_name": "Python 3.9.7 64-bit ('BallondOr': conda)",
      "language": "python",
      "name": "python3"
    },
    "language_info": {
      "codemirror_mode": {
        "name": "ipython",
        "version": 3
      },
      "file_extension": ".py",
      "mimetype": "text/x-python",
      "name": "python",
      "nbconvert_exporter": "python",
      "pygments_lexer": "ipython3",
      "version": "3.9.7"
    },
    "orig_nbformat": 4,
    "colab": {
      "name": "predict_top_3_scores (2).ipynb",
      "provenance": [],
      "collapsed_sections": [],
      "machine_shape": "hm",
      "include_colab_link": true
    }
  },
  "cells": [
    {
      "cell_type": "markdown",
      "metadata": {
        "id": "view-in-github",
        "colab_type": "text"
      },
      "source": [
        "<a href=\"https://colab.research.google.com/github/cmnemoi/Ballond-OrPrediction/blob/main/predict_top_3_scores.ipynb\" target=\"_parent\"><img src=\"https://colab.research.google.com/assets/colab-badge.svg\" alt=\"Open In Colab\"/></a>"
      ]
    },
    {
      "cell_type": "markdown",
      "metadata": {
        "id": "3MZqX3Ll5B3A"
      },
      "source": [
        "We will try to predict top 3 scores here"
      ]
    },
    {
      "cell_type": "code",
      "metadata": {
        "id": "-cwBrFhH5B3E"
      },
      "source": [
        "import pandas as pd\n",
        "import numpy as np\n",
        "import matplotlib.pyplot as plt\n",
        "import seaborn as sns\n",
        "from tqdm import tqdm\n",
        "import warnings\n",
        "warnings.filterwarnings('ignore')\n",
        "sns.set()"
      ],
      "execution_count": null,
      "outputs": []
    },
    {
      "cell_type": "code",
      "metadata": {
        "id": "GC2nOspF5B3G"
      },
      "source": [
        "data = pd.read_csv(\"https://raw.githubusercontent.com/cmmm976/Ballond-OrPrediction/main/data/merged_data.csv\")"
      ],
      "execution_count": null,
      "outputs": []
    },
    {
      "cell_type": "code",
      "metadata": {
        "id": "ywB5IQrV5B3H"
      },
      "source": [
        "data.dropna(axis=0,subset=[\"%\"],inplace=True)\n",
        "data = data[data[\"Rang\"] <= 3]\n",
        "data.reset_index(drop=True,inplace=True)"
      ],
      "execution_count": null,
      "outputs": []
    },
    {
      "cell_type": "code",
      "metadata": {
        "colab": {
          "base_uri": "https://localhost:8080/"
        },
        "id": "Mwa2x77kI4HM",
        "outputId": "e45171d9-15bd-4f9d-f370-9624bc831ad7"
      },
      "source": [
        "data.shape"
      ],
      "execution_count": null,
      "outputs": [
        {
          "output_type": "execute_result",
          "data": {
            "text/plain": [
              "(59, 59)"
            ]
          },
          "metadata": {},
          "execution_count": 7
        }
      ]
    },
    {
      "cell_type": "markdown",
      "metadata": {
        "id": "uLlIvsIII6zT"
      },
      "source": [
        "Very low amount of data, let's make sure to make data representative in training and test sets with stratified splitting\n"
      ]
    },
    {
      "cell_type": "markdown",
      "metadata": {
        "id": "OK2AAqhF5B3I"
      },
      "source": [
        "# Encoding categorical variables"
      ]
    },
    {
      "cell_type": "code",
      "metadata": {
        "id": "-GRjUzGiJcvT"
      },
      "source": [
        "data['score_cat'] = pd.cut(data['%'].astype(float), \n",
        "                          bins=[5.,10., 15, 20., 25., 30., 35., np.inf],\n",
        "                          labels=[1, 2, 3, 4, 5,6,7])"
      ],
      "execution_count": null,
      "outputs": []
    },
    {
      "cell_type": "code",
      "metadata": {
        "colab": {
          "base_uri": "https://localhost:8080/"
        },
        "id": "sbCenO_uKe0A",
        "outputId": "10c58e02-edd6-4777-a8ae-dce803d7d568"
      },
      "source": [
        "data['score_cat'].head(5)"
      ],
      "execution_count": null,
      "outputs": [
        {
          "output_type": "execute_result",
          "data": {
            "text/plain": [
              "0    2\n",
              "1    3\n",
              "2    2\n",
              "3    5\n",
              "4    1\n",
              "Name: score_cat, dtype: category\n",
              "Categories (7, int64): [1 < 2 < 3 < 4 < 5 < 6 < 7]"
            ]
          },
          "metadata": {},
          "execution_count": 20
        }
      ]
    },
    {
      "cell_type": "code",
      "metadata": {
        "id": "8m5wWwd85B3I"
      },
      "source": [
        "X = data[['Nation', 'Pos', 'Age', 'Min_Playing', 'Gls', 'Ast',\n",
        "       'CrdY', 'CrdR','winner_Bundesliga',\n",
        "       'winner_C3', 'finalist_C3', 'winner_UCL', 'finalist_UCL',\n",
        "       'winner_Club WC', 'finalist_Club WC', 'winner_Copa America',\n",
        "       'finalist_Copa America', 'winner_Euro', 'finalist_Euro', 'winner_Liga',\n",
        "       'winner_Ligue 1', 'winner_PL', 'winner_Serie A', 'winner_WC',\n",
        "       'finalist_WC']]\n",
        "y = data[['%']].astype(float)"
      ],
      "execution_count": null,
      "outputs": []
    },
    {
      "cell_type": "code",
      "metadata": {
        "id": "xEosowfL5B3J"
      },
      "source": [
        "import sklearn.preprocessing\n",
        "\n",
        "encoder = sklearn.preprocessing.OrdinalEncoder()\n",
        "X['Pos'] = encoder.fit_transform(X[['Pos']])\n",
        "X['Nation'] = encoder.fit_transform(X[['Nation']])"
      ],
      "execution_count": null,
      "outputs": []
    },
    {
      "cell_type": "markdown",
      "metadata": {
        "id": "AGoNdfeR5B3J"
      },
      "source": [
        "## Train test split"
      ]
    },
    {
      "cell_type": "code",
      "metadata": {
        "id": "a4pJyaGF5B3K"
      },
      "source": [
        "from sklearn.model_selection import StratifiedShuffleSplit\n",
        "\n",
        "stratified_split = StratifiedShuffleSplit(n_splits=1, test_size=.3, random_state=0)\n",
        "\n",
        "for train_index, test_index in stratified_split.split(data, data['score_cat']):\n",
        "    strat_train_set = data.loc[train_index]\n",
        "    strat_test_set = data.loc[test_index]"
      ],
      "execution_count": null,
      "outputs": []
    },
    {
      "cell_type": "code",
      "metadata": {
        "colab": {
          "base_uri": "https://localhost:8080/"
        },
        "id": "J69cV3USLXpf",
        "outputId": "f6bb8d25-7a3c-4197-b16c-d445b8785a39"
      },
      "source": [
        "strat_test_set['score_cat'].value_counts() / len(strat_test_set)"
      ],
      "execution_count": null,
      "outputs": [
        {
          "output_type": "execute_result",
          "data": {
            "text/plain": [
              "3    0.277778\n",
              "4    0.222222\n",
              "2    0.166667\n",
              "6    0.111111\n",
              "5    0.111111\n",
              "7    0.055556\n",
              "1    0.055556\n",
              "Name: score_cat, dtype: float64"
            ]
          },
          "metadata": {},
          "execution_count": 54
        }
      ]
    },
    {
      "cell_type": "code",
      "metadata": {
        "colab": {
          "base_uri": "https://localhost:8080/"
        },
        "id": "rlvR3pAYLa-3",
        "outputId": "24a6b1ac-fb76-41b5-e3d4-fc37a99fb0bd"
      },
      "source": [
        "strat_train_set['score_cat'].value_counts() / len(strat_train_set)"
      ],
      "execution_count": null,
      "outputs": [
        {
          "output_type": "execute_result",
          "data": {
            "text/plain": [
              "3    0.317073\n",
              "4    0.219512\n",
              "2    0.170732\n",
              "7    0.073171\n",
              "6    0.073171\n",
              "5    0.073171\n",
              "1    0.073171\n",
              "Name: score_cat, dtype: float64"
            ]
          },
          "metadata": {},
          "execution_count": 55
        }
      ]
    },
    {
      "cell_type": "code",
      "metadata": {
        "colab": {
          "base_uri": "https://localhost:8080/",
          "height": 387
        },
        "id": "kFgIUB2NvLGL",
        "outputId": "7926d1f6-4439-437c-f128-387776a76f68"
      },
      "source": [
        "sns.displot(x=strat_train_set['%'].astype(float),kind=\"kde\")"
      ],
      "execution_count": null,
      "outputs": [
        {
          "output_type": "execute_result",
          "data": {
            "text/plain": [
              "<seaborn.axisgrid.FacetGrid at 0x7fed068aca90>"
            ]
          },
          "metadata": {},
          "execution_count": 152
        },
        {
          "output_type": "display_data",
          "data": {
            "image/png": "[encoded data removed]",
            "text/plain": [
              "<Figure size 360x360 with 1 Axes>"
            ]
          },
          "metadata": {
            "needs_background": "light"
          }
        }
      ]
    },
    {
      "cell_type": "code",
      "metadata": {
        "colab": {
          "base_uri": "https://localhost:8080/",
          "height": 387
        },
        "id": "gpcRjjj_wxQS",
        "outputId": "7a639d44-f9da-4e31-cccc-a51f61b55648"
      },
      "source": [
        "sns.displot(x=strat_test_set['%'].astype(float),kind=\"kde\")"
      ],
      "execution_count": null,
      "outputs": [
        {
          "output_type": "execute_result",
          "data": {
            "text/plain": [
              "<seaborn.axisgrid.FacetGrid at 0x7fed0bd46e90>"
            ]
          },
          "metadata": {},
          "execution_count": 153
        },
        {
          "output_type": "display_data",
          "data": {
            "image/png": "[encoded data removed]",
            "text/plain": [
              "<Figure size 360x360 with 1 Axes>"
            ]
          },
          "metadata": {
            "needs_background": "light"
          }
        }
      ]
    },
    {
      "cell_type": "markdown",
      "metadata": {
        "id": "PA04qMcdRXXx"
      },
      "source": [
        "Re-encoding"
      ]
    },
    {
      "cell_type": "code",
      "metadata": {
        "id": "_1JiMfWsQ_9x"
      },
      "source": [
        "X_train = strat_train_set[['Nation', 'Pos', 'Age', 'Min_Playing', 'Gls', 'Ast',\n",
        "       'CrdY', 'CrdR','winner_Bundesliga',\n",
        "       'winner_C3', 'finalist_C3', 'winner_UCL', 'finalist_UCL',\n",
        "       'winner_Club WC', 'finalist_Club WC', 'winner_Copa America',\n",
        "       'finalist_Copa America', 'winner_Euro', 'finalist_Euro', 'winner_Liga',\n",
        "       'winner_Ligue 1', 'winner_PL', 'winner_Serie A', 'winner_WC',\n",
        "       'finalist_WC']]\n",
        "X_test = strat_test_set[['Nation', 'Pos', 'Age', 'Min_Playing', 'Gls', 'Ast',\n",
        "       'CrdY', 'CrdR','winner_Bundesliga',\n",
        "       'winner_C3', 'finalist_C3', 'winner_UCL', 'finalist_UCL',\n",
        "       'winner_Club WC', 'finalist_Club WC', 'winner_Copa America',\n",
        "       'finalist_Copa America', 'winner_Euro', 'finalist_Euro', 'winner_Liga',\n",
        "       'winner_Ligue 1', 'winner_PL', 'winner_Serie A', 'winner_WC',\n",
        "       'finalist_WC']]\n",
        "y_train = strat_train_set[['%']].astype(float)\n",
        "y_test = strat_test_set[['%']].astype(float)"
      ],
      "execution_count": null,
      "outputs": []
    },
    {
      "cell_type": "code",
      "metadata": {
        "colab": {
          "base_uri": "https://localhost:8080/"
        },
        "id": "cZy9LCYySLd7",
        "outputId": "73d07135-5b2d-44b1-cab5-c329997b95fa"
      },
      "source": [
        "y_train['%'].mean() / y_test['%'].mean()"
      ],
      "execution_count": null,
      "outputs": [
        {
          "output_type": "execute_result",
          "data": {
            "text/plain": [
              "0.980930046755998"
            ]
          },
          "metadata": {},
          "execution_count": 9
        }
      ]
    },
    {
      "cell_type": "code",
      "metadata": {
        "colab": {
          "base_uri": "https://localhost:8080/"
        },
        "id": "6LyNm4QtSTh0",
        "outputId": "38af1ecc-3c2d-4f56-aa0f-2ba89bc5d078"
      },
      "source": [
        "y_train['%'].std() / y_test['%'].std()"
      ],
      "execution_count": null,
      "outputs": [
        {
          "output_type": "execute_result",
          "data": {
            "text/plain": [
              "1.2693621412447675"
            ]
          },
          "metadata": {},
          "execution_count": 81
        }
      ]
    },
    {
      "cell_type": "code",
      "metadata": {
        "id": "ISZlRHe5RZph"
      },
      "source": [
        "import sklearn.preprocessing\n",
        "\n",
        "encoder = sklearn.preprocessing.OrdinalEncoder()\n",
        "X_train['Pos'] = encoder.fit_transform(X_train[['Pos']])\n",
        "X_train['Nation'] = encoder.fit_transform(X_train[['Nation']])\n",
        "\n",
        "X_test['Pos'] = encoder.fit_transform(X_test[['Pos']])\n",
        "X_test['Nation'] = encoder.fit_transform(X_test[['Nation']])\n"
      ],
      "execution_count": null,
      "outputs": []
    },
    {
      "cell_type": "markdown",
      "metadata": {
        "id": "TuMja_lY5B3L"
      },
      "source": [
        "Preprocessing"
      ]
    },
    {
      "cell_type": "markdown",
      "metadata": {
        "id": "h4dkuK7U5B3L"
      },
      "source": [
        "Imputing missing values"
      ]
    },
    {
      "cell_type": "code",
      "metadata": {
        "id": "Ne9Mr-6P5B3M"
      },
      "source": [
        "from sklearn.impute import KNNImputer\n",
        "imputer = KNNImputer(n_neighbors=3, weights=\"uniform\")\n",
        "X_train = pd.DataFrame(imputer.fit_transform(X_train),columns=X_train.columns)\n",
        "X_test = pd.DataFrame(imputer.fit_transform(X_test),columns=X_test.columns)"
      ],
      "execution_count": null,
      "outputs": []
    },
    {
      "cell_type": "markdown",
      "metadata": {
        "id": "bV6s6XqD5B3M"
      },
      "source": [
        "Data Augmentation"
      ]
    },
    {
      "cell_type": "code",
      "metadata": {
        "id": "esmQot9e5B3N"
      },
      "source": [
        "def noise(X, y, n, sigma):\n",
        "    _X = X.copy()\n",
        "    _y = y.copy()\n",
        "    for _ in range(n):\n",
        "        X = np.r_[X, _X + np.random.randn(*_X.shape)*sigma]\n",
        "        y = np.r_[y, _y]\n",
        "    return X, y"
      ],
      "execution_count": null,
      "outputs": []
    },
    {
      "cell_type": "code",
      "metadata": {
        "id": "fNQRnh255B3N"
      },
      "source": [
        "X_train_augmented, y_train_augmented = noise(X_train, y_train,60, 2)\n",
        "X_train_augmented = pd.DataFrame(X_train_augmented,columns=X_train.columns)\n",
        "y_train_augmented = pd.DataFrame(y_train_augmented,columns=y_train.columns)"
      ],
      "execution_count": null,
      "outputs": []
    },
    {
      "cell_type": "code",
      "metadata": {
        "id": "urokotqv5B3N",
        "colab": {
          "base_uri": "https://localhost:8080/"
        },
        "outputId": "2b93d365-654d-4785-d763-1ee54bcdec1f"
      },
      "source": [
        "X_train_augmented.shape"
      ],
      "execution_count": null,
      "outputs": [
        {
          "output_type": "execute_result",
          "data": {
            "text/plain": [
              "(2501, 25)"
            ]
          },
          "metadata": {},
          "execution_count": 72
        }
      ]
    },
    {
      "cell_type": "code",
      "metadata": {
        "id": "wgzoT7zX5B3P"
      },
      "source": [
        ""
      ],
      "execution_count": null,
      "outputs": []
    },
    {
      "cell_type": "markdown",
      "metadata": {
        "id": "12h2wWsC5B3P"
      },
      "source": [
        "Standardisation"
      ]
    },
    {
      "cell_type": "code",
      "metadata": {
        "id": "RYRbyMEU5B3P"
      },
      "source": [
        "X_train_standardized = pd.DataFrame(sklearn.preprocessing.StandardScaler().fit_transform(X_train),columns=X_train.columns)\n",
        "X_train_augmented_standardized = pd.DataFrame(sklearn.preprocessing.StandardScaler().fit_transform(X_train_augmented),columns=X_train.columns)"
      ],
      "execution_count": null,
      "outputs": []
    },
    {
      "cell_type": "markdown",
      "metadata": {
        "id": "if6h0Lwy5B3Q"
      },
      "source": [
        "# Model building"
      ]
    },
    {
      "cell_type": "code",
      "metadata": {
        "id": "dBnd19985B3Q"
      },
      "source": [
        "from sklearn.model_selection import learning_curve\n",
        "\n",
        "def print_learning_curve(model,X=X_train_augmented_standardized,y=y_train_augmented,score='neg_root_mean_squared_error'):\n",
        "    N, train_score, val_score = learning_curve(model, X,y, train_sizes=np.linspace(0.1,1,10),cv=10,scoring=score)\n",
        "    plt.plot(N[1:], abs(train_score.mean(axis=1))[1:],label=\"train\")\n",
        "    plt.plot(N[1:], abs(val_score.mean(axis=1))[1:], label=\"validation\")\n",
        "    plt.xlabel('train_sizes')\n",
        "    plt.legend()\n",
        "\n",
        "    mean_train_score = abs(train_score.mean(axis=1))[9]\n",
        "    mean_val_score = abs(val_score.mean(axis=1))[9]\n",
        "\n",
        "    train_percent_of_mean = mean_train_score * 100 / y['%'].mean()\n",
        "    val_percent_of_mean = mean_val_score *100 / y['%'].mean()\n",
        "\n",
        "    # train_percent_of_std = abs(mean_train_score-y.std()) * 100 / y.std()\n",
        "    # val_percent_of_mean = mean_val_score * 100 / y.std()\n",
        "\n",
        "    print(\"Training RMSE : \"+str(mean_train_score)+ \" (\"+str(train_percent_of_mean)+\"% of the mean)\")\n",
        "    print(\"Validation RMSE : \"+str(mean_val_score)+ \" (\"+str(val_percent_of_mean)+\"% of the mean)\")"
      ],
      "execution_count": null,
      "outputs": []
    },
    {
      "cell_type": "code",
      "metadata": {
        "id": "aFo4rlnl5B3Q",
        "outputId": "9377f021-ecc8-4e4f-88b9-c207f7759e21"
      },
      "source": [
        "y_train_augmented.std()"
      ],
      "execution_count": null,
      "outputs": [
        {
          "data": {
            "text/plain": [
              "8.389949739771268"
            ]
          },
          "execution_count": 45,
          "metadata": {},
          "output_type": "execute_result"
        }
      ]
    },
    {
      "cell_type": "markdown",
      "metadata": {
        "id": "DzNw89-G5B3R"
      },
      "source": [
        "## Linear regression"
      ]
    },
    {
      "cell_type": "code",
      "metadata": {
        "id": "ISAQx30r5B3R",
        "colab": {
          "base_uri": "https://localhost:8080/",
          "height": 322
        },
        "outputId": "cb827255-58b0-44c0-bb41-64cf8e5fd1eb"
      },
      "source": [
        "from sklearn.linear_model import LinearRegression\n",
        "from sklearn.model_selection import learning_curve\n",
        "\n",
        "print_learning_curve(LinearRegression())"
      ],
      "execution_count": null,
      "outputs": [
        {
          "output_type": "stream",
          "name": "stdout",
          "text": [
            "Training RMSE : 8.054040831927843 (38.239568342570664% of the mean)\n",
            "Validation RMSE : 8.11872267190277 (38.546669547029346% of the mean)\n"
          ]
        },
        {
          "output_type": "display_data",
          "data": {
            "image/png": "[encoded data removed]",
            "text/plain": [
              "<Figure size 432x288 with 1 Axes>"
            ]
          },
          "metadata": {
            "needs_background": "light"
          }
        }
      ]
    },
    {
      "cell_type": "markdown",
      "metadata": {
        "id": "pShjVUZl5B3R"
      },
      "source": [
        "## Ridge Regression"
      ]
    },
    {
      "cell_type": "code",
      "metadata": {
        "id": "93jlXykv5B3R",
        "colab": {
          "base_uri": "https://localhost:8080/"
        },
        "outputId": "d8775939-0377-47a3-e29c-dbee79cde52f"
      },
      "source": [
        "from sklearn.linear_model import RidgeCV\n",
        "from sklearn.linear_model import Ridge\n",
        "\n",
        "ridge = RidgeCV(alphas = np.linspace(10,500),cv=10,scoring='neg_root_mean_squared_error').fit(X_train_augmented_standardized,y_train_augmented)\n",
        "print(ridge.alpha_)"
      ],
      "execution_count": null,
      "outputs": [
        {
          "output_type": "stream",
          "name": "stdout",
          "text": [
            "90.0\n"
          ]
        }
      ]
    },
    {
      "cell_type": "code",
      "metadata": {
        "id": "BKeNFXBk5B3S",
        "colab": {
          "base_uri": "https://localhost:8080/",
          "height": 322
        },
        "outputId": "30e8ce8d-4264-4a2a-d703-bbf410e1fccd"
      },
      "source": [
        "print_learning_curve(Ridge(alpha=90.0))"
      ],
      "execution_count": null,
      "outputs": [
        {
          "output_type": "stream",
          "name": "stdout",
          "text": [
            "Training RMSE : 8.055270608321155 (38.24540716551924% of the mean)\n",
            "Validation RMSE : 8.11748188183915 (38.54077843256561% of the mean)\n"
          ]
        },
        {
          "output_type": "display_data",
          "data": {
            "image/png": "[encoded data removed]",
            "text/plain": [
              "<Figure size 432x288 with 1 Axes>"
            ]
          },
          "metadata": {
            "needs_background": "light"
          }
        }
      ]
    },
    {
      "cell_type": "markdown",
      "metadata": {
        "id": "lJuRp5C75B3S"
      },
      "source": [
        "## Lasso Regression"
      ]
    },
    {
      "cell_type": "code",
      "metadata": {
        "id": "GEnktKuQ5B3S",
        "colab": {
          "base_uri": "https://localhost:8080/"
        },
        "outputId": "2e64faed-00d4-486e-a9ab-49b9cf8474a3"
      },
      "source": [
        "from sklearn.linear_model import LassoCV\n",
        "from sklearn.linear_model import Lasso\n",
        "\n",
        "lasso = LassoCV(alphas = np.linspace(-5,5),cv=10).fit(X_train_augmented_standardized,y_train_augmented)\n",
        "print(lasso.alpha_)"
      ],
      "execution_count": null,
      "outputs": [
        {
          "output_type": "stream",
          "name": "stdout",
          "text": [
            "0.1020408163265305\n"
          ]
        }
      ]
    },
    {
      "cell_type": "code",
      "metadata": {
        "id": "g0VxR7Hu5B3T",
        "colab": {
          "base_uri": "https://localhost:8080/",
          "height": 322
        },
        "outputId": "2a600272-e778-4033-9657-f184839d1780"
      },
      "source": [
        "print_learning_curve(Lasso(alpha=0.1020408163265305))"
      ],
      "execution_count": null,
      "outputs": [
        {
          "output_type": "stream",
          "name": "stdout",
          "text": [
            "Training RMSE : 8.067690773677509 (38.3043765414985% of the mean)\n",
            "Validation RMSE : 8.117981650135668 (38.543151269297994% of the mean)\n"
          ]
        },
        {
          "output_type": "display_data",
          "data": {
            "image/png": "[encoded data removed]",
            "text/plain": [
              "<Figure size 432x288 with 1 Axes>"
            ]
          },
          "metadata": {
            "needs_background": "light"
          }
        }
      ]
    },
    {
      "cell_type": "code",
      "metadata": {
        "id": "w96PcwIr5B3T",
        "colab": {
          "base_uri": "https://localhost:8080/",
          "height": 396
        },
        "outputId": "b54fa0df-21ee-4c82-d335-62dda741391d"
      },
      "source": [
        "lasso_coef = pd.Series(lasso.coef_,index=X.columns)\n",
        "\n",
        "lasso_coef.plot.bar()"
      ],
      "execution_count": null,
      "outputs": [
        {
          "output_type": "execute_result",
          "data": {
            "text/plain": [
              "<matplotlib.axes._subplots.AxesSubplot at 0x7fed0cc9c590>"
            ]
          },
          "metadata": {},
          "execution_count": 87
        },
        {
          "output_type": "display_data",
          "data": {
            "image/png": "[encoded data removed]",
            "text/plain": [
              "<Figure size 432x288 with 1 Axes>"
            ]
          },
          "metadata": {
            "needs_background": "light"
          }
        }
      ]
    },
    {
      "cell_type": "markdown",
      "metadata": {
        "id": "vLkX8ptM5B3U"
      },
      "source": [
        "## Polynomial regression"
      ]
    },
    {
      "cell_type": "code",
      "metadata": {
        "id": "pZoNubyV5B3U",
        "colab": {
          "base_uri": "https://localhost:8080/",
          "height": 322
        },
        "outputId": "31755fe0-0083-48cf-bddd-058cfb67daef"
      },
      "source": [
        "from sklearn.preprocessing import PolynomialFeatures\n",
        "\n",
        "poly = PolynomialFeatures(degree=2)\n",
        "X_train_poly = poly.fit_transform(X_train_augmented_standardized)\n",
        "\n",
        "print_learning_curve(LinearRegression(),X=X_train_poly)"
      ],
      "execution_count": null,
      "outputs": [
        {
          "output_type": "stream",
          "name": "stdout",
          "text": [
            "Training RMSE : 6.2989624311934795 (29.90667782810989% of the mean)\n",
            "Validation RMSE : 7.423004584873285 (35.243487965100556% of the mean)\n"
          ]
        },
        {
          "output_type": "display_data",
          "data": {
            "image/png": "[encoded data removed]",
            "text/plain": [
              "<Figure size 432x288 with 1 Axes>"
            ]
          },
          "metadata": {
            "needs_background": "light"
          }
        }
      ]
    },
    {
      "cell_type": "code",
      "metadata": {
        "id": "i4cXqVAL5B3U",
        "colab": {
          "base_uri": "https://localhost:8080/",
          "height": 322
        },
        "outputId": "85f0ede4-d161-4c4d-a64e-51dfe8441379"
      },
      "source": [
        "poly = PolynomialFeatures(degree=3)\n",
        "X_train_poly = poly.fit_transform(X_train_augmented_standardized)\n",
        "\n",
        "print_learning_curve(LinearRegression(),X=X_train_poly)"
      ],
      "execution_count": null,
      "outputs": [
        {
          "output_type": "stream",
          "name": "stdout",
          "text": [
            "Training RMSE : 7.75188835216753e-14 (3.6804986541859083e-13% of the mean)\n",
            "Validation RMSE : 18.464991143597114 (87.6694451288908% of the mean)\n"
          ]
        },
        {
          "output_type": "display_data",
          "data": {
            "image/png": "[encoded data removed]",
            "text/plain": [
              "<Figure size 432x288 with 1 Axes>"
            ]
          },
          "metadata": {
            "needs_background": "light"
          }
        }
      ]
    },
    {
      "cell_type": "markdown",
      "metadata": {
        "id": "ezoQZgIM5B3V"
      },
      "source": [
        "degree 2 : 6.13 -> 29% RMSE (validation)\n",
        " \n",
        "degree 3 : 21.75 -> 102% RMSE (validation)"
      ]
    },
    {
      "cell_type": "markdown",
      "metadata": {
        "id": "kXuliYBR5B3V"
      },
      "source": [
        "trying regularisation on R_3[X] regression"
      ]
    },
    {
      "cell_type": "code",
      "metadata": {
        "id": "1ZLEVImR5B3V"
      },
      "source": [
        "print_learning_curve(Ridge(alpha=5000),X_train_poly,y_train_augmented)"
      ],
      "execution_count": null,
      "outputs": []
    },
    {
      "cell_type": "code",
      "metadata": {
        "id": "rlYv6vZ45B3V",
        "colab": {
          "base_uri": "https://localhost:8080/"
        },
        "outputId": "26327d51-48a2-498f-960a-2b37d1375b25"
      },
      "source": [
        "from sklearn.model_selection import cross_val_score\n",
        "\n",
        "for a in tqdm(range(18,22)):\n",
        "    print(a/100,cross_val_score(Lasso(a/100),X_train_poly,y_train_augmented,cv=10,scoring=\"neg_root_mean_squared_error\").mean())"
      ],
      "execution_count": null,
      "outputs": [
        {
          "output_type": "stream",
          "name": "stderr",
          "text": [
            " 25%|██▌       | 1/4 [00:05<00:17,  5.90s/it]"
          ]
        },
        {
          "output_type": "stream",
          "name": "stdout",
          "text": [
            "0.18 -6.465328598069886\n"
          ]
        },
        {
          "output_type": "stream",
          "name": "stderr",
          "text": [
            "\r 50%|█████     | 2/4 [00:11<00:11,  5.94s/it]"
          ]
        },
        {
          "output_type": "stream",
          "name": "stdout",
          "text": [
            "0.19 -6.4638202210807005\n"
          ]
        },
        {
          "output_type": "stream",
          "name": "stderr",
          "text": [
            "\r 75%|███████▌  | 3/4 [00:17<00:05,  5.98s/it]"
          ]
        },
        {
          "output_type": "stream",
          "name": "stdout",
          "text": [
            "0.2 -6.465480923250605\n"
          ]
        },
        {
          "output_type": "stream",
          "name": "stderr",
          "text": [
            "100%|██████████| 4/4 [00:23<00:00,  5.93s/it]"
          ]
        },
        {
          "output_type": "stream",
          "name": "stdout",
          "text": [
            "0.21 -6.4694957685070635\n"
          ]
        },
        {
          "output_type": "stream",
          "name": "stderr",
          "text": [
            "\n"
          ]
        }
      ]
    },
    {
      "cell_type": "code",
      "metadata": {
        "id": "OS5wEZk25B3W",
        "colab": {
          "base_uri": "https://localhost:8080/",
          "height": 322
        },
        "outputId": "600b46e0-0864-4085-d9f8-db054d1be7a5"
      },
      "source": [
        "print_learning_curve(Lasso(alpha=0.19),X_train_poly,y_train_augmented)"
      ],
      "execution_count": null,
      "outputs": [
        {
          "output_type": "stream",
          "name": "stdout",
          "text": [
            "Training RMSE : 5.448228926486389 (25.86750262730891% of the mean)\n",
            "Validation RMSE : 6.467645083343515 (30.70756174957287% of the mean)\n"
          ]
        },
        {
          "output_type": "display_data",
          "data": {
            "image/png": "[encoded data removed]",
            "text/plain": [
              "<Figure size 432x288 with 1 Axes>"
            ]
          },
          "metadata": {
            "needs_background": "light"
          }
        }
      ]
    },
    {
      "cell_type": "markdown",
      "metadata": {
        "id": "NcJca9w05B3W"
      },
      "source": [
        "## Non linear methods"
      ]
    },
    {
      "cell_type": "code",
      "metadata": {
        "id": "lm_mhBqB5B3W",
        "colab": {
          "base_uri": "https://localhost:8080/",
          "height": 322
        },
        "outputId": "ebda7684-b2b5-4e77-f8fa-85b40a97217c"
      },
      "source": [
        "from sklearn.svm import SVR\n",
        "from sklearn.model_selection import GridSearchCV\n",
        "\n",
        "parameters = {\"C\":np.linspace(6,30)}\n",
        "\n",
        "svr = GridSearchCV(SVR(),parameters).fit(X_train_augmented_standardized,y_train_augmented)\n",
        "\n",
        "print_learning_curve(svr.best_estimator_)"
      ],
      "execution_count": null,
      "outputs": [
        {
          "output_type": "stream",
          "name": "stdout",
          "text": [
            "Training RMSE : 3.082357137756323 (14.634642272757157% of the mean)\n",
            "Validation RMSE : 7.122952574056141 (33.818878925563126% of the mean)\n"
          ]
        },
        {
          "output_type": "display_data",
          "data": {
            "image/png": "[encoded data removed]",
            "text/plain": [
              "<Figure size 432x288 with 1 Axes>"
            ]
          },
          "metadata": {
            "needs_background": "light"
          }
        }
      ]
    },
    {
      "cell_type": "code",
      "metadata": {
        "colab": {
          "base_uri": "https://localhost:8080/"
        },
        "id": "OXPq5I7lWeWY",
        "outputId": "92de61b1-b990-4cb8-9eb3-7beb28f403ef"
      },
      "source": [
        "svr.best_estimator_"
      ],
      "execution_count": null,
      "outputs": [
        {
          "output_type": "execute_result",
          "data": {
            "text/plain": [
              "SVR(C=30.0)"
            ]
          },
          "metadata": {},
          "execution_count": 102
        }
      ]
    },
    {
      "cell_type": "code",
      "metadata": {
        "id": "8onCETF55B3W"
      },
      "source": [
        "from sklearn.ensemble import RandomForestRegressor\n",
        "from sklearn.model_selection import GridSearchCV\n",
        "\n",
        "parameters = {'n_estimators':[500,1000],\n",
        "                'min_samples_leaf':[4,5,6],\n",
        "                'max_features':[\"sqrt\",X_train.shape[0]/3]}\n",
        "\n",
        "grid = GridSearchCV(RandomForestRegressor(),parameters).fit(X_train_augmented,y_train_augmented)"
      ],
      "execution_count": null,
      "outputs": []
    },
    {
      "cell_type": "code",
      "metadata": {
        "id": "P7EiooFD5B3W",
        "colab": {
          "base_uri": "https://localhost:8080/"
        },
        "outputId": "cd302990-fd98-4836-8630-60419cf26cd8"
      },
      "source": [
        "grid.best_estimator_"
      ],
      "execution_count": null,
      "outputs": [
        {
          "output_type": "execute_result",
          "data": {
            "text/plain": [
              "RandomForestRegressor(max_features='sqrt', min_samples_leaf=4,\n",
              "                      n_estimators=1000)"
            ]
          },
          "metadata": {},
          "execution_count": 104
        }
      ]
    },
    {
      "cell_type": "code",
      "metadata": {
        "id": "-L0XOWyK5B3X",
        "colab": {
          "base_uri": "https://localhost:8080/",
          "height": 322
        },
        "outputId": "e8f2de13-353f-45e4-bd22-30bea4d830d7"
      },
      "source": [
        "print_learning_curve(RandomForestRegressor(max_features='sqrt', min_samples_leaf=4,\n",
        "                      n_estimators=500,random_state=0))"
      ],
      "execution_count": null,
      "outputs": [
        {
          "output_type": "stream",
          "name": "stdout",
          "text": [
            "Training RMSE : 2.779808673911293 (13.198180389638976% of the mean)\n",
            "Validation RMSE : 4.544913049458669 (21.578672965855297% of the mean)\n"
          ]
        },
        {
          "output_type": "display_data",
          "data": {
            "image/png": "[encoded data removed]",
            "text/plain": [
              "<Figure size 432x288 with 1 Axes>"
            ]
          },
          "metadata": {
            "needs_background": "light"
          }
        }
      ]
    },
    {
      "cell_type": "code",
      "metadata": {
        "id": "HMW8JAoD5B3X",
        "colab": {
          "base_uri": "https://localhost:8080/",
          "height": 396
        },
        "outputId": "f4cc03fc-231d-422d-d5a6-7af8847f3a2f"
      },
      "source": [
        "importances = grid.best_estimator_.feature_importances_\n",
        "forest_importances = pd.Series(importances, index=X.columns)\n",
        "\n",
        "forest_importances.plot.bar()"
      ],
      "execution_count": null,
      "outputs": [
        {
          "output_type": "execute_result",
          "data": {
            "text/plain": [
              "<matplotlib.axes._subplots.AxesSubplot at 0x7fed0c195b10>"
            ]
          },
          "metadata": {},
          "execution_count": 106
        },
        {
          "output_type": "display_data",
          "data": {
            "image/png": "[encoded data removed]",
            "text/plain": [
              "<Figure size 432x288 with 1 Axes>"
            ]
          },
          "metadata": {
            "needs_background": "light"
          }
        }
      ]
    },
    {
      "cell_type": "code",
      "metadata": {
        "id": "WqV3yXwg5B3X"
      },
      "source": [
        "parameters = {'min_samples_leaf':[2,3,4],\n",
        "                'max_depth':[4,5,6,7,8,9,None],'n_estimators':[1000]}\n",
        "\n",
        "grid = GridSearchCV(RandomForestRegressor(),parameters).fit(X_train_augmented,y_train_augmented)"
      ],
      "execution_count": null,
      "outputs": []
    },
    {
      "cell_type": "code",
      "metadata": {
        "id": "Quk-_Hoe5B3X",
        "colab": {
          "base_uri": "https://localhost:8080/"
        },
        "outputId": "579119d3-700f-4767-ea22-a5e1e809be76"
      },
      "source": [
        "grid.best_estimator_"
      ],
      "execution_count": null,
      "outputs": [
        {
          "output_type": "execute_result",
          "data": {
            "text/plain": [
              "RandomForestRegressor(min_samples_leaf=2, n_estimators=1000)"
            ]
          },
          "metadata": {},
          "execution_count": 108
        }
      ]
    },
    {
      "cell_type": "code",
      "metadata": {
        "id": "aIUXFbI85B3Y"
      },
      "source": [
        "parameters = {'min_samples_leaf':[2],\n",
        "                'max_depth':[9,None],'n_estimators':[500]}\n",
        "\n",
        "grid = GridSearchCV(RandomForestRegressor(),parameters).fit(X_train_augmented,y_train_augmented)"
      ],
      "execution_count": null,
      "outputs": []
    },
    {
      "cell_type": "code",
      "metadata": {
        "id": "o6GTTeUW5B3Y"
      },
      "source": [
        "grid.best_estimator_"
      ],
      "execution_count": null,
      "outputs": []
    },
    {
      "cell_type": "code",
      "metadata": {
        "id": "3WP0SaSB5B3Y",
        "colab": {
          "base_uri": "https://localhost:8080/",
          "height": 322
        },
        "outputId": "c28b00d8-3eb5-4ad0-a758-65dc881f7a28"
      },
      "source": [
        "print_learning_curve(RandomForestRegressor(max_features='sqrt', min_samples_leaf=2, max_depth=None,\n",
        "                      n_estimators=1000,random_state=0))"
      ],
      "execution_count": null,
      "outputs": [
        {
          "output_type": "stream",
          "name": "stdout",
          "text": [
            "Training RMSE : 2.004910256763338 (9.519060603753024% of the mean)\n",
            "Validation RMSE : 4.276345809632604 (20.303549641276103% of the mean)\n"
          ]
        },
        {
          "output_type": "display_data",
          "data": {
            "image/png": "[encoded data removed]",
            "text/plain": [
              "<Figure size 432x288 with 1 Axes>"
            ]
          },
          "metadata": {
            "needs_background": "light"
          }
        }
      ]
    },
    {
      "cell_type": "markdown",
      "metadata": {
        "id": "W1aI5ea75B3Z"
      },
      "source": [
        "Trying to regularize by using only most important features"
      ]
    },
    {
      "cell_type": "code",
      "metadata": {
        "id": "eMl1W8cD5B3Z",
        "colab": {
          "base_uri": "https://localhost:8080/",
          "height": 322
        },
        "outputId": "d29c973b-dde3-43b9-b7df-48243d8e0d09"
      },
      "source": [
        "print_learning_curve(RandomForestRegressor(max_features='sqrt', min_samples_leaf=2, max_depth=None,\n",
        "                      n_estimators=1000,random_state=0),X=X_train_augmented[['Nation', 'Age', 'Min_Playing', 'Gls', 'Ast',\n",
        "       'CrdY']])"
      ],
      "execution_count": null,
      "outputs": [
        {
          "output_type": "stream",
          "name": "stdout",
          "text": [
            "Training RMSE : 1.08717642438742 (5.1617763118346724% of the mean)\n",
            "Validation RMSE : 2.076031738193768 (9.8567364122742% of the mean)\n"
          ]
        },
        {
          "output_type": "display_data",
          "data": {
            "image/png": "[encoded data removed]",
            "text/plain": [
              "<Figure size 432x288 with 1 Axes>"
            ]
          },
          "metadata": {
            "needs_background": "light"
          }
        }
      ]
    },
    {
      "cell_type": "code",
      "metadata": {
        "id": "79w6ki495B3a"
      },
      "source": [
        "parameters = {\n",
        "                'max_depth':np.arange(4,14)\n",
        "                }\n",
        "\n",
        "grid = GridSearchCV(RandomForestRegressor(n_estimators=1000,random_state=0,min_samples_leaf=2),parameters).fit(X_train_augmented[['Nation', 'Age', 'Min_Playing', 'Gls', 'Ast',\n",
        "       'CrdY']],y_train_augmented)"
      ],
      "execution_count": null,
      "outputs": []
    },
    {
      "cell_type": "code",
      "metadata": {
        "id": "NrHMUUPA5B3a",
        "colab": {
          "base_uri": "https://localhost:8080/"
        },
        "outputId": "ab91c1cd-0f33-4e0d-b6e5-203255807841"
      },
      "source": [
        "grid.best_estimator_"
      ],
      "execution_count": null,
      "outputs": [
        {
          "output_type": "execute_result",
          "data": {
            "text/plain": [
              "RandomForestRegressor(max_depth=13, min_samples_leaf=2, n_estimators=1000,\n",
              "                      random_state=0)"
            ]
          },
          "metadata": {},
          "execution_count": 119
        }
      ]
    },
    {
      "cell_type": "code",
      "metadata": {
        "colab": {
          "base_uri": "https://localhost:8080/"
        },
        "id": "uLOHfW-_nYbd",
        "outputId": "76c2864f-5abb-4881-db67-8054284c0ef9"
      },
      "source": [
        "from sklearn.model_selection import cross_val_score\n",
        "from sklearn.metrics import mean_squared_error\n",
        "\n",
        "print(\"Training RMSE : \"+str(np.sqrt(mean_squared_error(y_train_augmented, grid.best_estimator_.predict(X_train_augmented[['Nation', 'Age', 'Min_Playing', 'Gls', 'Ast',\n",
        "       'CrdY']])))))\n",
        "print(\"Validation RMSE : \"+str(abs(cross_val_score(grid.best_estimator_,X_train_augmented[['Nation', 'Age', 'Min_Playing', 'Gls', 'Ast',\n",
        "       'CrdY']],y_train_augmented,scoring=\"neg_root_mean_squared_error\").mean())))"
      ],
      "execution_count": null,
      "outputs": [
        {
          "output_type": "stream",
          "name": "stdout",
          "text": [
            "Training RMSE : 0.6965233501843479\n",
            "Validation RMSE : 1.4797024027935928\n"
          ]
        }
      ]
    },
    {
      "cell_type": "code",
      "metadata": {
        "id": "S-ACfTwC5B3b",
        "colab": {
          "base_uri": "https://localhost:8080/",
          "height": 322
        },
        "outputId": "01c03faa-fd53-4d50-a1a8-cbb518cb07f6"
      },
      "source": [
        "from sklearn import tree\n",
        "\n",
        "print_learning_curve(tree.DecisionTreeRegressor(),X_train_augmented)"
      ],
      "execution_count": null,
      "outputs": [
        {
          "output_type": "stream",
          "name": "stdout",
          "text": [
            "Training RMSE : 1.3299830613931938e-14 (6.314591548753405e-14% of the mean)\n",
            "Validation RMSE : 2.5344384402363582 (12.033193519613473% of the mean)\n"
          ]
        },
        {
          "output_type": "display_data",
          "data": {
            "image/png": "[encoded data removed]",
            "text/plain": [
              "<Figure size 432x288 with 1 Axes>"
            ]
          },
          "metadata": {
            "needs_background": "light"
          }
        }
      ]
    },
    {
      "cell_type": "code",
      "metadata": {
        "id": "gfDypPAO5B3b"
      },
      "source": [
        "tree.plot_tree(tree.DecisionTreeRegressor().fit(X_train_augmented,y_train_augmented))"
      ],
      "execution_count": null,
      "outputs": []
    },
    {
      "cell_type": "code",
      "metadata": {
        "id": "J_wTgaxj5B3c",
        "colab": {
          "base_uri": "https://localhost:8080/",
          "height": 322
        },
        "outputId": "498ad1c0-2cc9-464f-f932-e28c440e001d"
      },
      "source": [
        "print_learning_curve(tree.DecisionTreeRegressor(),X_train_augmented[['Nation', 'Age', 'Min_Playing', 'Gls', 'Ast',\n",
        "       'CrdY']])"
      ],
      "execution_count": null,
      "outputs": [
        {
          "output_type": "stream",
          "name": "stdout",
          "text": [
            "Training RMSE : 1.3211203871539412e-14 (6.272512691153583e-14% of the mean)\n",
            "Validation RMSE : 2.1122403200942546 (10.02865018463582% of the mean)\n"
          ]
        },
        {
          "output_type": "display_data",
          "data": {
            "image/png": "[encoded data removed]",
            "text/plain": [
              "<Figure size 432x288 with 1 Axes>"
            ]
          },
          "metadata": {
            "needs_background": "light"
          }
        }
      ]
    },
    {
      "cell_type": "code",
      "metadata": {
        "id": "e5IcxUmv5B3c"
      },
      "source": [
        "tree.plot_tree(tree.DecisionTreeRegressor().fit(X_train_augmented,y_train_augmented))"
      ],
      "execution_count": null,
      "outputs": []
    },
    {
      "cell_type": "code",
      "metadata": {
        "id": "k1BSML4o5B3c"
      },
      "source": [
        "parameters = {'splitter':('best','random'),'max_depth':[9,10,11,12,13,14],'max_features':[\"auto\",\"sqrt\",\"log2\"]}\n",
        "\n",
        "grid = GridSearchCV(tree.DecisionTreeRegressor(),parameters).fit(X_train_augmented[['Nation', 'Age', 'Min_Playing', 'Gls', 'Ast',\n",
        "       'CrdY']],y_train_augmented)"
      ],
      "execution_count": null,
      "outputs": []
    },
    {
      "cell_type": "code",
      "metadata": {
        "id": "xFchv26A5B3c",
        "colab": {
          "base_uri": "https://localhost:8080/"
        },
        "outputId": "f36024ad-5dc1-4acd-c8fa-82e531439cec"
      },
      "source": [
        "grid.best_estimator_"
      ],
      "execution_count": null,
      "outputs": [
        {
          "output_type": "execute_result",
          "data": {
            "text/plain": [
              "DecisionTreeRegressor(max_depth=14, max_features='auto')"
            ]
          },
          "metadata": {},
          "execution_count": 126
        }
      ]
    },
    {
      "cell_type": "code",
      "metadata": {
        "id": "xxe_zsLw5B3c",
        "colab": {
          "base_uri": "https://localhost:8080/",
          "height": 322
        },
        "outputId": "6866fdd9-96b8-40ef-eccd-c5f7faeaadaf"
      },
      "source": [
        "print_learning_curve(tree.DecisionTreeRegressor(max_depth=14,splitter='best'),X_train_augmented[['Nation', 'Age', 'Min_Playing', 'Gls', 'Ast',\n",
        "       'CrdY']])"
      ],
      "execution_count": null,
      "outputs": [
        {
          "output_type": "stream",
          "name": "stdout",
          "text": [
            "Training RMSE : 0.10279242268370717 (0.4880454363640415% of the mean)\n",
            "Validation RMSE : 2.064478125393186 (9.80188131835165% of the mean)\n"
          ]
        },
        {
          "output_type": "display_data",
          "data": {
            "image/png": "[encoded data removed]",
            "text/plain": [
              "<Figure size 432x288 with 1 Axes>"
            ]
          },
          "metadata": {
            "needs_background": "light"
          }
        }
      ]
    },
    {
      "cell_type": "code",
      "metadata": {
        "id": "YWw2g4kf5B3d"
      },
      "source": [
        "from sklearn.ensemble import HistGradientBoostingRegressor\n",
        "from sklearn.model_selection import RandomizedSearchCV\n",
        "\n",
        "parameters = {'learning_rate':np.linspace(0.01,0.3),'max_iter':[10000],'max_depth':np.arange(3,12,1),'max_leaf_nodes':np.arange(20,3000,50)}\n",
        "\n",
        "random_search = RandomizedSearchCV(HistGradientBoostingRegressor(),parameters,n_jobs=-1)"
      ],
      "execution_count": null,
      "outputs": []
    },
    {
      "cell_type": "code",
      "metadata": {
        "id": "59FKoFPb5B3d"
      },
      "source": [
        "random_search = random_search.fit(X_train_augmented,y_train_augmented)"
      ],
      "execution_count": null,
      "outputs": []
    },
    {
      "cell_type": "code",
      "metadata": {
        "id": "f9S4DIzT5B3d"
      },
      "source": [
        "random_search.best_estimator_"
      ],
      "execution_count": null,
      "outputs": []
    },
    {
      "cell_type": "code",
      "metadata": {
        "id": "cuXwdOrz5B3d"
      },
      "source": [
        "print_learning_curve(HistGradientBoostingRegressor(learning_rate=0.04551020408163265, max_depth=8,\n",
        "                              max_iter=10000, max_leaf_nodes=256))"
      ],
      "execution_count": null,
      "outputs": []
    },
    {
      "cell_type": "code",
      "metadata": {
        "id": "_i_PALJV5B3e"
      },
      "source": [
        "model = HistGradientBoostingRegressor(learning_rate=0.04551020408163265, max_depth=8,\n",
        "                              max_iter=10000, max_leaf_nodes=256,l2_regularization=2).fit(X_train_augmented,y_train_augmented)"
      ],
      "execution_count": null,
      "outputs": []
    },
    {
      "cell_type": "markdown",
      "metadata": {
        "id": "o7w7t1dQ5B3e"
      },
      "source": [
        "categorical_features=[True,True,False,False,False,False,False,False,True,True,True,True,True,True,True,True,True,True,True,True,True,True,True,True,True]"
      ]
    },
    {
      "cell_type": "code",
      "metadata": {
        "id": "gAofFBZb5B3e"
      },
      "source": [
        "from sklearn.model_selection import cross_val_score\n",
        "from sklearn.model_selection import GridSearchCV\n",
        "\n",
        "parameters = {'l2_regularization':np.linspace(0,100),\"min_samples_leaf\":np.linspace(0,20)}\n",
        "\n",
        "grid = RandomizedSearchCV(HistGradientBoostingRegressor(learning_rate=0.04551020408163265, max_depth=8,\n",
        "                              max_iter=10000, max_leaf_nodes=256),parameters,n_jobs=-1)"
      ],
      "execution_count": null,
      "outputs": []
    },
    {
      "cell_type": "code",
      "metadata": {
        "id": "k3ABBM_J5B3e"
      },
      "source": [
        "grid = grid.fit(X_train_augmented,y_train_augmented)"
      ],
      "execution_count": null,
      "outputs": []
    },
    {
      "cell_type": "code",
      "metadata": {
        "id": "A6MdMZWP5B3e"
      },
      "source": [
        "grid.best_estimator_"
      ],
      "execution_count": null,
      "outputs": []
    },
    {
      "cell_type": "code",
      "metadata": {
        "id": "8Iim7tCJ5B3f"
      },
      "source": [
        "from sklearn.metrics import mean_squared_error,mean_absolute_error\n",
        "\n",
        "print(np.sqrt(mean_squared_error(y_train,grid.best_estimator_.predict(X_train))))\n",
        "np.sqrt(mean_absolute_error(y_train,grid.best_estimator_.predict(X_train)))"
      ],
      "execution_count": null,
      "outputs": []
    },
    {
      "cell_type": "code",
      "metadata": {
        "id": "Z40s1VtT5B3f"
      },
      "source": [
        "cross_val_score(HistGradientBoostingRegressor(l2_regularization=32.6530612244898,\n",
        "                              learning_rate=0.04551020408163265, max_depth=8,\n",
        "                              max_iter=10000, max_leaf_nodes=256,\n",
        "                              min_samples_leaf=4.081632653061225),X_train_augmented,y_train_augmented,cv=10,n_jobs=-1,scoring=\"neg_root_mean_squared_error\").mean()"
      ],
      "execution_count": null,
      "outputs": []
    },
    {
      "cell_type": "code",
      "metadata": {
        "id": "lTTzANHs5nUS"
      },
      "source": [
        "parameters = {'max_depth':np.arange(3,12,1),'max_leaf_nodes':np.arange(20,3000,10),'min_samples_leaf':np.arange(0,20,1),'l2_regularization':np.arange(0,100,1),\"min_samples_leaf\":np.arange(0,20,1)}\n",
        "\n",
        "grid = RandomizedSearchCV(HistGradientBoostingRegressor(learning_rate=0.05,max_iter=10000,early_stopping=True,random_state=0),parameters,n_jobs=-1,scoring=\"neg_root_mean_squared_error\",n_iter=100)"
      ],
      "execution_count": null,
      "outputs": []
    },
    {
      "cell_type": "code",
      "metadata": {
        "id": "07ptKR_S7MMb"
      },
      "source": [
        "grid = grid.fit(X_train_augmented,y_train_augmented)"
      ],
      "execution_count": null,
      "outputs": []
    },
    {
      "cell_type": "code",
      "metadata": {
        "colab": {
          "base_uri": "https://localhost:8080/"
        },
        "id": "_P1hSzrpL3_H",
        "outputId": "3a711c81-bd35-4436-8a73-beee0c0712f6"
      },
      "source": [
        "grid.best_estimator_"
      ],
      "execution_count": null,
      "outputs": [
        {
          "output_type": "execute_result",
          "data": {
            "text/plain": [
              "HistGradientBoostingRegressor(early_stopping=True, l2_regularization=7,\n",
              "                              learning_rate=0.05, max_depth=9, max_iter=10000,\n",
              "                              max_leaf_nodes=1560, min_samples_leaf=4,\n",
              "                              random_state=0)"
            ]
          },
          "metadata": {},
          "execution_count": 132
        }
      ]
    },
    {
      "cell_type": "code",
      "metadata": {
        "colab": {
          "base_uri": "https://localhost:8080/"
        },
        "id": "37-mMC3rta2C",
        "outputId": "9ebd8a04-93cf-428f-f4f3-a8e674d579ee"
      },
      "source": [
        "print(\"Training RMSE : \"+str(np.sqrt(mean_squared_error(y_train_augmented,grid.best_estimator_.predict(X_train_augmented)))))\n",
        "print(\"Validation RMSE : \"+ str(abs(cross_val_score(HistGradientBoostingRegressor(early_stopping=True, l2_regularization=7,\n",
        "                              learning_rate=0.05, max_depth=9, max_iter=10000,\n",
        "                              max_leaf_nodes=1560, min_samples_leaf=4,\n",
        "                              random_state=0),X_train_augmented,y_train_augmented,cv=10,n_jobs=-1,scoring=\"neg_root_mean_squared_error\").mean())))"
      ],
      "execution_count": null,
      "outputs": [
        {
          "output_type": "stream",
          "name": "stdout",
          "text": [
            "Training RMSE : 0.6458276989629633\n",
            "Validation RMSE : 1.7822641443582345\n"
          ]
        }
      ]
    },
    {
      "cell_type": "code",
      "metadata": {
        "id": "bz4heMiZMAGq"
      },
      "source": [
        "parameters = {'max_depth':np.arange(3,12,1),'max_leaf_nodes':np.arange(20,3000,10),'min_samples_leaf':np.arange(0,20,1),'l2_regularization':np.arange(0,100,1)}\n",
        "\n",
        "grid = RandomizedSearchCV(HistGradientBoostingRegressor(learning_rate=0.05,max_iter=10000,early_stopping=True,random_state=0),parameters,n_jobs=-1,scoring=\"neg_root_mean_squared_error\",n_iter=1000)"
      ],
      "execution_count": null,
      "outputs": []
    },
    {
      "cell_type": "code",
      "metadata": {
        "id": "2x-jMTWhMC4y"
      },
      "source": [
        "grid = grid.fit(X_train_augmented,y_train_augmented)"
      ],
      "execution_count": null,
      "outputs": []
    },
    {
      "cell_type": "code",
      "metadata": {
        "colab": {
          "base_uri": "https://localhost:8080/"
        },
        "id": "m0Je7GPlh-oV",
        "outputId": "d02ea578-db7c-4dd8-c960-a8ddd16c89c7"
      },
      "source": [
        "grid.best_estimator_"
      ],
      "execution_count": null,
      "outputs": [
        {
          "output_type": "execute_result",
          "data": {
            "text/plain": [
              "HistGradientBoostingRegressor(early_stopping=True, l2_regularization=13,\n",
              "                              learning_rate=0.05, max_depth=9, max_iter=10000,\n",
              "                              max_leaf_nodes=1350, min_samples_leaf=1,\n",
              "                              random_state=0)"
            ]
          },
          "metadata": {},
          "execution_count": 26
        }
      ]
    },
    {
      "cell_type": "code",
      "metadata": {
        "colab": {
          "base_uri": "https://localhost:8080/"
        },
        "id": "aP6jIldkizOT",
        "outputId": "554b8a91-ad5b-4760-b1f4-ab7b4f9c6295"
      },
      "source": [
        "print(\"Training RMSE : \"+str(np.sqrt(mean_squared_error(y_train_augmented,grid.best_estimator_.predict(X_train_augmented)))))\n",
        "print(\"Validation RMSE : \"+ str(abs(cross_val_score(HistGradientBoostingRegressor(early_stopping=True, l2_regularization=13,\n",
        "                              learning_rate=0.05, max_depth=9, max_iter=10000,\n",
        "                              max_leaf_nodes=1350, min_samples_leaf=1,\n",
        "                              random_state=0),X_train_augmented,y_train_augmented,cv=10,n_jobs=-1,scoring=\"neg_root_mean_squared_error\").mean())))"
      ],
      "execution_count": null,
      "outputs": [
        {
          "output_type": "stream",
          "name": "stdout",
          "text": [
            "Training RMSE : 0.5559899151990154\n",
            "Validation RMSE : 1.9171539535028095\n"
          ]
        }
      ]
    },
    {
      "cell_type": "code",
      "metadata": {
        "id": "7DZ_fqMvmgH8"
      },
      "source": [
        "test = HistGradientBoostingRegressor(early_stopping=True, l2_regularization=7,\n",
        "                              learning_rate=0.05, max_depth=9, max_iter=10000,\n",
        "                              max_leaf_nodes=1560, min_samples_leaf=4,\n",
        "                              random_state=0).fit(X_train_augmented[['Nation', 'Age', 'Min_Playing', 'Gls', 'Ast',\n",
        "       'CrdY']],y_train_augmented)"
      ],
      "execution_count": null,
      "outputs": []
    },
    {
      "cell_type": "code",
      "metadata": {
        "colab": {
          "base_uri": "https://localhost:8080/"
        },
        "id": "2m4kj08CnckK",
        "outputId": "4c85ec04-de07-4fef-f9bc-2b2c209a9230"
      },
      "source": [
        "print(\"Training RMSE : \"+str(abs(mean_squared_error(y_train_augmented,test.predict(X_train_augmented[['Nation', 'Age', 'Min_Playing', 'Gls', 'Ast',\n",
        "       'CrdY']])))))"
      ],
      "execution_count": null,
      "outputs": [
        {
          "output_type": "stream",
          "name": "stdout",
          "text": [
            "Training RMSE : 0.48288474686824984\n"
          ]
        }
      ]
    },
    {
      "cell_type": "code",
      "metadata": {
        "colab": {
          "base_uri": "https://localhost:8080/"
        },
        "id": "fzH2qaSBlRn4",
        "outputId": "fb586317-7363-4e10-e3da-8fccc91e6b2a"
      },
      "source": [
        "print(\"Validation RMSE : \"+ str(abs(cross_val_score(HistGradientBoostingRegressor(early_stopping=True, l2_regularization=13,\n",
        "                              learning_rate=0.05, max_depth=9, max_iter=10000,\n",
        "                              max_leaf_nodes=1350, min_samples_leaf=1,\n",
        "                              random_state=0),X_train_augmented[['Nation', 'Age', 'Min_Playing', 'Gls', 'Ast',\n",
        "       'CrdY']],y_train_augmented,cv=10,n_jobs=-1,scoring=\"neg_root_mean_squared_error\").mean())))"
      ],
      "execution_count": null,
      "outputs": [
        {
          "output_type": "stream",
          "name": "stdout",
          "text": [
            "Validation RMSE : 1.7518685690024274\n"
          ]
        }
      ]
    },
    {
      "cell_type": "code",
      "metadata": {
        "id": "3wMw_bLBn2yp"
      },
      "source": [
        "test = HistGradientBoostingRegressor(early_stopping=True, l2_regularization=13,\n",
        "                              learning_rate=0.05, max_depth=9, max_iter=10000,\n",
        "                              max_leaf_nodes=2^9, min_samples_leaf=1,\n",
        "                              random_state=0).fit(X_train_augmented[['Nation', 'Age', 'Min_Playing', 'Gls', 'Ast',\n",
        "       'CrdY']],y_train_augmented)"
      ],
      "execution_count": null,
      "outputs": []
    },
    {
      "cell_type": "code",
      "metadata": {
        "colab": {
          "base_uri": "https://localhost:8080/"
        },
        "id": "QTuWT0XHn-wy",
        "outputId": "4b46ef03-1e75-421b-e158-d1efb4379fbd"
      },
      "source": [
        "print(\"Training RMSE : \"+str(abs(mean_squared_error(y_train_augmented,test.predict(X_train_augmented[['Nation', 'Age', 'Min_Playing', 'Gls', 'Ast',\n",
        "       'CrdY']])))))\n",
        "print(\"Validation RMSE : \"+ str(abs(cross_val_score(test,X_train_augmented[['Nation', 'Age', 'Min_Playing', 'Gls', 'Ast',\n",
        "       'CrdY']],y_train_augmented,cv=10,n_jobs=-1,scoring=\"neg_root_mean_squared_error\").mean())))"
      ],
      "execution_count": null,
      "outputs": [
        {
          "output_type": "stream",
          "name": "stdout",
          "text": [
            "Training RMSE : 1.2849341447288003\n",
            "Validation RMSE : 1.8255532434418213\n"
          ]
        }
      ]
    },
    {
      "cell_type": "markdown",
      "metadata": {
        "id": "bRBjLVIvoVVy"
      },
      "source": [
        "## Comparaison des modèles"
      ]
    },
    {
      "cell_type": "code",
      "metadata": {
        "id": "aGADR7V1oYFr"
      },
      "source": [
        "from sklearn.linear_model import LinearRegression,Ridge,Lasso\n",
        "from sklearn.svm import SVR\n",
        "import sklearn.tree\n",
        "from sklearn.ensemble import RandomForestRegressor,HistGradientBoostingRegressor\n",
        "\n",
        "linear_regression = LinearRegression().fit(X_train_augmented_standardized,y_train_augmented)\n",
        "lasso = Ridge(alpha=90.0).fit(X_train_augmented_standardized,y_train_augmented)\n",
        "svr = SVR(C=6).fit(X_train_augmented_standardized,y_train_augmented)\n",
        "tree = sklearn.tree.DecisionTreeRegressor(max_depth=14,splitter='best').fit(X_train_augmented[['Nation', 'Age', 'Min_Playing', 'Gls', 'Ast',\n",
        "       'CrdY']],y_train_augmented)\n",
        "rf = RandomForestRegressor(max_features='sqrt', min_samples_leaf=2, max_depth=13,\n",
        "                      n_estimators=500,random_state=0).fit(X_train_augmented[['Nation', 'Age', 'Min_Playing', 'Gls', 'Ast',\n",
        "       'CrdY']],y_train_augmented)\n",
        "lightgbm = HistGradientBoostingRegressor(early_stopping=True, l2_regularization=13,\n",
        "                              learning_rate=0.05, max_depth=9, max_iter=10000,\n",
        "                              max_leaf_nodes=1350, min_samples_leaf=1,\n",
        "                              random_state=0).fit(X_train_augmented[['Nation', 'Age', 'Min_Playing', 'Gls', 'Ast',\n",
        "       'CrdY']],y_train_augmented)\n",
        "polynomial = Lasso(alpha=0.18).fit(X_train_poly,y_train_augmented)"
      ],
      "execution_count": null,
      "outputs": []
    },
    {
      "cell_type": "code",
      "metadata": {
        "colab": {
          "base_uri": "https://localhost:8080/"
        },
        "id": "CBIV_8dwrW_K",
        "outputId": "94fd7b42-7d14-441b-92e8-480cca696f2f"
      },
      "source": [
        "models = pd.Series([linear_regression, lasso, svr, tree, rf, lightgbm,polynomial],index=['linear_regression', 'lasso', 'svr', 'tree', 'rf', 'lightgbm','polynomial'])\n",
        "\n",
        "from sklearn.metrics import mean_squared_error, mean_absolute_error, median_absolute_error\n",
        "\n",
        "for i in range(3):\n",
        "  print(models.index[i] + \" training RMSE : \"+ str(np.sqrt(mean_squared_error(y_train_augmented, models[i].predict(X_train_augmented_standardized)))))\n",
        "  print(models.index[i] + \" test RMSE : \"+ str(np.sqrt(mean_squared_error(y_test, models[i].predict(X_test)))))\n",
        "\n",
        "  print(models.index[i] + \" training MAE : \"+ str(mean_absolute_error(y_train_augmented, models[i].predict(X_train_augmented_standardized))))\n",
        "  print(models.index[i] + \" test MAE : \"+ str(mean_absolute_error(y_test, models[i].predict(X_test))))\n",
        "\n",
        "  print(models.index[i] + \" training MedianAE : \"+ str(median_absolute_error(y_train_augmented, models[i].predict(X_train_augmented_standardized))))\n",
        "  print(models.index[i] + \" test MedianAE : \"+ str(median_absolute_error(y_test, models[i].predict(X_test)))+\"\\n\")\n",
        "\n",
        "\n",
        "for i in [3,4,5]:\n",
        "  print(models.index[i] + \" training RMSE : \"+ str(np.sqrt(mean_squared_error(y_train_augmented, models[i].predict(X_train_augmented[['Nation', 'Age', 'Min_Playing', 'Gls', 'Ast',\n",
        "       'CrdY']])))))\n",
        "  print(models.index[i] + \" test RMSE : \"+ str(np.sqrt(mean_squared_error(y_test, models[i].predict(X_test[['Nation', 'Age', 'Min_Playing', 'Gls', 'Ast',\n",
        "       'CrdY']])))))\n",
        "\n",
        "  print(models.index[i] + \" training MAE : \"+ str(mean_absolute_error(y_train_augmented, models[i].predict(X_train_augmented[['Nation', 'Age', 'Min_Playing', 'Gls', 'Ast',\n",
        "       'CrdY']]))))\n",
        "  print(models.index[i] + \" test MAE : \"+ str(mean_absolute_error(y_test, models[i].predict(X_test[['Nation', 'Age', 'Min_Playing', 'Gls', 'Ast',\n",
        "       'CrdY']]))))\n",
        "\n",
        "  print(models.index[i] + \" training MedianAE : \"+ str(median_absolute_error(y_train_augmented, models[i].predict(X_train_augmented[['Nation', 'Age', 'Min_Playing', 'Gls', 'Ast',\n",
        "       'CrdY']]))))\n",
        "  print(models.index[i] + \" test MedianAE : \"+ str(median_absolute_error(y_test, models[i].predict(X_test[['Nation', 'Age', 'Min_Playing', 'Gls', 'Ast',\n",
        "       'CrdY']])))+\"\\n\")"
      ],
      "execution_count": null,
      "outputs": [
        {
          "output_type": "stream",
          "name": "stdout",
          "text": [
            "linear_regression training RMSE : 8.060899654617302\n",
            "linear_regression test RMSE : 5826.999398127824\n",
            "linear_regression training MAE : 6.397085866030282\n",
            "linear_regression test MAE : 5526.750877658461\n",
            "linear_regression training MedianAE : 5.299113352550204\n",
            "linear_regression test MedianAE : 5899.951767493449\n",
            "\n",
            "lasso training RMSE : 8.061901176149936\n",
            "lasso test RMSE : 5657.669253396119\n",
            "lasso training MAE : 6.3842560298635584\n",
            "lasso test MAE : 5366.091516330892\n",
            "lasso training MedianAE : 5.258426895896587\n",
            "lasso test MedianAE : 5728.257856635986\n",
            "\n",
            "svr training RMSE : 6.2245934220671915\n",
            "svr test RMSE : 7.338933521356885\n",
            "svr training MAE : 3.480781068552646\n",
            "svr test MAE : 5.841575639021444\n",
            "svr training MedianAE : 1.050638881349947\n",
            "svr test MedianAE : 5.5720682872656715\n",
            "\n",
            "tree training RMSE : 1.5398989431549096e-14\n",
            "tree test RMSE : 11.625278243534359\n",
            "tree training MAE : 1.0810136383715239e-14\n",
            "tree test MAE : 9.072889578739803\n",
            "tree training MedianAE : 8.881784197001252e-15\n",
            "tree test MedianAE : 6.079615384615377\n",
            "\n",
            "rf training RMSE : 1.1547402221907688\n",
            "rf test RMSE : 7.992697751449751\n",
            "rf training MAE : 0.6883513480764538\n",
            "rf test MAE : 6.497350776558738\n",
            "rf training MedianAE : 0.3818477367559687\n",
            "rf test MedianAE : 5.985522118389021\n",
            "\n",
            "lightgbm training RMSE : 0.6914108914362926\n",
            "lightgbm test RMSE : 9.111579061433789\n",
            "lightgbm training MAE : 0.19045149081651178\n",
            "lightgbm test MAE : 7.427402032336322\n",
            "lightgbm training MedianAE : 0.057802907719132435\n",
            "lightgbm test MedianAE : 8.585056900889477\n",
            "\n"
          ]
        }
      ]
    },
    {
      "cell_type": "code",
      "metadata": {
        "colab": {
          "base_uri": "https://localhost:8080/",
          "height": 343
        },
        "id": "JZOU6Y9yxPOj",
        "outputId": "e702be40-7cb4-4dbf-d67b-91f416da192b"
      },
      "source": [
        "pd.DataFrame([y_test[['%']],pd.DataFrame(rf.predict(X_test[['Nation', 'Age', 'Min_Playing', 'Gls', 'Ast',\n",
        "       'CrdY']]))] ,columns=['true values'])"
      ],
      "execution_count": null,
      "outputs": [
        {
          "output_type": "error",
          "ename": "ValueError",
          "evalue": "ignored",
          "traceback": [
            "\u001b[0;31m---------------------------------------------------------------------------\u001b[0m",
            "\u001b[0;31mValueError\u001b[0m                                Traceback (most recent call last)",
            "\u001b[0;32m<ipython-input-170-4389aedd56b2>\u001b[0m in \u001b[0;36m<module>\u001b[0;34m()\u001b[0m\n\u001b[1;32m      1\u001b[0m pd.DataFrame([y_test[['%']],pd.DataFrame(rf.predict(X_test[['Nation', 'Age', 'Min_Playing', 'Gls', 'Ast',\n\u001b[0;32m----> 2\u001b[0;31m        'CrdY']]))] ,columns=['true values'])\n\u001b[0m",
            "\u001b[0;32m/usr/local/lib/python3.7/dist-packages/pandas/core/frame.py\u001b[0m in \u001b[0;36m__init__\u001b[0;34m(self, data, index, columns, dtype, copy)\u001b[0m\n\u001b[1;32m    521\u001b[0m                     \u001b[0mmgr\u001b[0m \u001b[0;34m=\u001b[0m \u001b[0marrays_to_mgr\u001b[0m\u001b[0;34m(\u001b[0m\u001b[0marrays\u001b[0m\u001b[0;34m,\u001b[0m \u001b[0mcolumns\u001b[0m\u001b[0;34m,\u001b[0m \u001b[0mindex\u001b[0m\u001b[0;34m,\u001b[0m \u001b[0mcolumns\u001b[0m\u001b[0;34m,\u001b[0m \u001b[0mdtype\u001b[0m\u001b[0;34m=\u001b[0m\u001b[0mdtype\u001b[0m\u001b[0;34m)\u001b[0m\u001b[0;34m\u001b[0m\u001b[0;34m\u001b[0m\u001b[0m\n\u001b[1;32m    522\u001b[0m                 \u001b[0;32melse\u001b[0m\u001b[0;34m:\u001b[0m\u001b[0;34m\u001b[0m\u001b[0;34m\u001b[0m\u001b[0m\n\u001b[0;32m--> 523\u001b[0;31m                     \u001b[0mmgr\u001b[0m \u001b[0;34m=\u001b[0m \u001b[0minit_ndarray\u001b[0m\u001b[0;34m(\u001b[0m\u001b[0mdata\u001b[0m\u001b[0;34m,\u001b[0m \u001b[0mindex\u001b[0m\u001b[0;34m,\u001b[0m \u001b[0mcolumns\u001b[0m\u001b[0;34m,\u001b[0m \u001b[0mdtype\u001b[0m\u001b[0;34m=\u001b[0m\u001b[0mdtype\u001b[0m\u001b[0;34m,\u001b[0m \u001b[0mcopy\u001b[0m\u001b[0;34m=\u001b[0m\u001b[0mcopy\u001b[0m\u001b[0;34m)\u001b[0m\u001b[0;34m\u001b[0m\u001b[0;34m\u001b[0m\u001b[0m\n\u001b[0m\u001b[1;32m    524\u001b[0m             \u001b[0;32melse\u001b[0m\u001b[0;34m:\u001b[0m\u001b[0;34m\u001b[0m\u001b[0;34m\u001b[0m\u001b[0m\n\u001b[1;32m    525\u001b[0m                 \u001b[0mmgr\u001b[0m \u001b[0;34m=\u001b[0m \u001b[0minit_dict\u001b[0m\u001b[0;34m(\u001b[0m\u001b[0;34m{\u001b[0m\u001b[0;34m}\u001b[0m\u001b[0;34m,\u001b[0m \u001b[0mindex\u001b[0m\u001b[0;34m,\u001b[0m \u001b[0mcolumns\u001b[0m\u001b[0;34m,\u001b[0m \u001b[0mdtype\u001b[0m\u001b[0;34m=\u001b[0m\u001b[0mdtype\u001b[0m\u001b[0;34m)\u001b[0m\u001b[0;34m\u001b[0m\u001b[0;34m\u001b[0m\u001b[0m\n",
            "\u001b[0;32m/usr/local/lib/python3.7/dist-packages/pandas/core/internals/construction.py\u001b[0m in \u001b[0;36minit_ndarray\u001b[0;34m(values, index, columns, dtype, copy)\u001b[0m\n\u001b[1;32m    188\u001b[0m     \u001b[0;31m# by definition an array here\u001b[0m\u001b[0;34m\u001b[0m\u001b[0;34m\u001b[0m\u001b[0;34m\u001b[0m\u001b[0m\n\u001b[1;32m    189\u001b[0m     \u001b[0;31m# the dtypes will be coerced to a single dtype\u001b[0m\u001b[0;34m\u001b[0m\u001b[0;34m\u001b[0m\u001b[0;34m\u001b[0m\u001b[0m\n\u001b[0;32m--> 190\u001b[0;31m     \u001b[0mvalues\u001b[0m \u001b[0;34m=\u001b[0m \u001b[0m_prep_ndarray\u001b[0m\u001b[0;34m(\u001b[0m\u001b[0mvalues\u001b[0m\u001b[0;34m,\u001b[0m \u001b[0mcopy\u001b[0m\u001b[0;34m=\u001b[0m\u001b[0mcopy\u001b[0m\u001b[0;34m)\u001b[0m\u001b[0;34m\u001b[0m\u001b[0;34m\u001b[0m\u001b[0m\n\u001b[0m\u001b[1;32m    191\u001b[0m \u001b[0;34m\u001b[0m\u001b[0m\n\u001b[1;32m    192\u001b[0m     \u001b[0;32mif\u001b[0m \u001b[0mdtype\u001b[0m \u001b[0;32mis\u001b[0m \u001b[0;32mnot\u001b[0m \u001b[0;32mNone\u001b[0m\u001b[0;34m:\u001b[0m\u001b[0;34m\u001b[0m\u001b[0;34m\u001b[0m\u001b[0m\n",
            "\u001b[0;32m/usr/local/lib/python3.7/dist-packages/pandas/core/internals/construction.py\u001b[0m in \u001b[0;36m_prep_ndarray\u001b[0;34m(values, copy)\u001b[0m\n\u001b[1;32m    322\u001b[0m         \u001b[0mvalues\u001b[0m \u001b[0;34m=\u001b[0m \u001b[0mvalues\u001b[0m\u001b[0;34m.\u001b[0m\u001b[0mreshape\u001b[0m\u001b[0;34m(\u001b[0m\u001b[0;34m(\u001b[0m\u001b[0mvalues\u001b[0m\u001b[0;34m.\u001b[0m\u001b[0mshape\u001b[0m\u001b[0;34m[\u001b[0m\u001b[0;36m0\u001b[0m\u001b[0;34m]\u001b[0m\u001b[0;34m,\u001b[0m \u001b[0;36m1\u001b[0m\u001b[0;34m)\u001b[0m\u001b[0;34m)\u001b[0m\u001b[0;34m\u001b[0m\u001b[0;34m\u001b[0m\u001b[0m\n\u001b[1;32m    323\u001b[0m     \u001b[0;32melif\u001b[0m \u001b[0mvalues\u001b[0m\u001b[0;34m.\u001b[0m\u001b[0mndim\u001b[0m \u001b[0;34m!=\u001b[0m \u001b[0;36m2\u001b[0m\u001b[0;34m:\u001b[0m\u001b[0;34m\u001b[0m\u001b[0;34m\u001b[0m\u001b[0m\n\u001b[0;32m--> 324\u001b[0;31m         \u001b[0;32mraise\u001b[0m \u001b[0mValueError\u001b[0m\u001b[0;34m(\u001b[0m\u001b[0;34mf\"Must pass 2-d input. shape={values.shape}\"\u001b[0m\u001b[0;34m)\u001b[0m\u001b[0;34m\u001b[0m\u001b[0;34m\u001b[0m\u001b[0m\n\u001b[0m\u001b[1;32m    325\u001b[0m \u001b[0;34m\u001b[0m\u001b[0m\n\u001b[1;32m    326\u001b[0m     \u001b[0;32mreturn\u001b[0m \u001b[0mvalues\u001b[0m\u001b[0;34m\u001b[0m\u001b[0;34m\u001b[0m\u001b[0m\n",
            "\u001b[0;31mValueError\u001b[0m: Must pass 2-d input. shape=(2, 18, 1)"
          ]
        }
      ]
    },
    {
      "cell_type": "code",
      "metadata": {
        "colab": {
          "base_uri": "https://localhost:8080/",
          "height": 319
        },
        "id": "vOTMwBbZyXay",
        "outputId": "1e9de6ac-cf13-4b5b-fe24-1e226a777eba"
      },
      "source": [
        "pd.concat(pd.DataFrame(rf.predict(X_test[['Nation', 'Age', 'Min_Playing', 'Gls', 'Ast',\n",
        "       'CrdY']]))"
      ],
      "execution_count": null,
      "outputs": [
        {
          "output_type": "error",
          "ename": "AttributeError",
          "evalue": "ignored",
          "traceback": [
            "\u001b[0;31m---------------------------------------------------------------------------\u001b[0m",
            "\u001b[0;31mAttributeError\u001b[0m                            Traceback (most recent call last)",
            "\u001b[0;32m<ipython-input-171-80a6e6352e8e>\u001b[0m in \u001b[0;36m<module>\u001b[0;34m()\u001b[0m\n\u001b[1;32m      1\u001b[0m pd.DataFrame(rf.predict(X_test[['Nation', 'Age', 'Min_Playing', 'Gls', 'Ast',\n\u001b[0;32m----> 2\u001b[0;31m        'CrdY']])).concat(y_test['%'])\n\u001b[0m",
            "\u001b[0;32m/usr/local/lib/python3.7/dist-packages/pandas/core/generic.py\u001b[0m in \u001b[0;36m__getattr__\u001b[0;34m(self, name)\u001b[0m\n\u001b[1;32m   5139\u001b[0m             \u001b[0;32mif\u001b[0m \u001b[0mself\u001b[0m\u001b[0;34m.\u001b[0m\u001b[0m_info_axis\u001b[0m\u001b[0;34m.\u001b[0m\u001b[0m_can_hold_identifiers_and_holds_name\u001b[0m\u001b[0;34m(\u001b[0m\u001b[0mname\u001b[0m\u001b[0;34m)\u001b[0m\u001b[0;34m:\u001b[0m\u001b[0;34m\u001b[0m\u001b[0;34m\u001b[0m\u001b[0m\n\u001b[1;32m   5140\u001b[0m                 \u001b[0;32mreturn\u001b[0m \u001b[0mself\u001b[0m\u001b[0;34m[\u001b[0m\u001b[0mname\u001b[0m\u001b[0;34m]\u001b[0m\u001b[0;34m\u001b[0m\u001b[0;34m\u001b[0m\u001b[0m\n\u001b[0;32m-> 5141\u001b[0;31m             \u001b[0;32mreturn\u001b[0m \u001b[0mobject\u001b[0m\u001b[0;34m.\u001b[0m\u001b[0m__getattribute__\u001b[0m\u001b[0;34m(\u001b[0m\u001b[0mself\u001b[0m\u001b[0;34m,\u001b[0m \u001b[0mname\u001b[0m\u001b[0;34m)\u001b[0m\u001b[0;34m\u001b[0m\u001b[0;34m\u001b[0m\u001b[0m\n\u001b[0m\u001b[1;32m   5142\u001b[0m \u001b[0;34m\u001b[0m\u001b[0m\n\u001b[1;32m   5143\u001b[0m     \u001b[0;32mdef\u001b[0m \u001b[0m__setattr__\u001b[0m\u001b[0;34m(\u001b[0m\u001b[0mself\u001b[0m\u001b[0;34m,\u001b[0m \u001b[0mname\u001b[0m\u001b[0;34m:\u001b[0m \u001b[0mstr\u001b[0m\u001b[0;34m,\u001b[0m \u001b[0mvalue\u001b[0m\u001b[0;34m)\u001b[0m \u001b[0;34m->\u001b[0m \u001b[0;32mNone\u001b[0m\u001b[0;34m:\u001b[0m\u001b[0;34m\u001b[0m\u001b[0;34m\u001b[0m\u001b[0m\n",
            "\u001b[0;31mAttributeError\u001b[0m: 'DataFrame' object has no attribute 'concat'"
          ]
        }
      ]
    }
  ]
}
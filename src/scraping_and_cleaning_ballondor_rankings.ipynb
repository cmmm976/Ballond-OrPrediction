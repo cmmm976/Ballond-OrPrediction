{
  "nbformat": 4,
  "nbformat_minor": 0,
  "metadata": {
    "colab": {
      "name": "scraping_and_cleaning_ballondor_rankings.ipynb",
      "provenance": [],
      "authorship_tag": "ABX9TyMjFcuiKgfyuv0SkYSjCT2m",
      "include_colab_link": true
    },
    "kernelspec": {
      "name": "python3",
      "display_name": "Python 3"
    },
    "language_info": {
      "name": "python"
    }
  },
  "cells": [
    {
      "cell_type": "markdown",
      "metadata": {
        "id": "view-in-github",
        "colab_type": "text"
      },
      "source": [
        "<a href=\"https://colab.research.google.com/github/cmmm976/Ballond-OrPrediction/blob/main/src/scraping_and_cleaning_ballondor_rankings.ipynb\" target=\"_parent\"><img src=\"https://colab.research.google.com/assets/colab-badge.svg\" alt=\"Open In Colab\"/></a>"
      ]
    },
    {
      "cell_type": "code",
      "metadata": {
        "id": "m8V9VblIiQ6a"
      },
      "source": [
        "import pandas as pd\n",
        "from bs4 import BeautifulSoup\n",
        "import urllib.request\n",
        "from tqdm import tqdm"
      ],
      "execution_count": null,
      "outputs": []
    },
    {
      "cell_type": "code",
      "metadata": {
        "id": "JcHX4KhxmjSE"
      },
      "source": [
        "ballonsdor = {}"
      ],
      "execution_count": null,
      "outputs": []
    },
    {
      "cell_type": "code",
      "metadata": {
        "colab": {
          "base_uri": "https://localhost:8080/"
        },
        "id": "FuimkIqmnT01",
        "outputId": "a17ed55c-3eb9-4741-f00b-27081aa7d8db"
      },
      "source": [
        "#scrapping 1995-2019 ballons d'or \n",
        "for year in tqdm(range(1995,2020)):\n",
        "  df_name = \"bo_\"+str(year)\n",
        "  ballonsdor[df_name] = pd.read_html('https://fr.wikipedia.org/wiki/Ballon_d%27or_'+str(year),attrs={\"class\":\"wikitable\"})[0]"
      ],
      "execution_count": null,
      "outputs": [
        {
          "output_type": "stream",
          "name": "stderr",
          "text": [
            "100%|██████████| 25/25 [00:09<00:00,  2.74it/s]\n"
          ]
        }
      ]
    },
    {
      "cell_type": "code",
      "metadata": {
        "colab": {
          "base_uri": "https://localhost:8080/"
        },
        "id": "28pdQgxwtIcA",
        "outputId": "2b346d70-aa08-49c5-83ee-5206b6808954"
      },
      "source": [
        "#adding missing rows for 2011-2015 BOs\n",
        "for year in tqdm(range(2011,2014)):\n",
        "  df_name = \"bo_\"+str(year)\n",
        "  ballonsdor[df_name] = ballonsdor[df_name].append(pd.read_html('https://fr.wikipedia.org/wiki/Ballon_d%27or_'+str(year),attrs={\"class\":\"wikitable\"})[1],ignore_index=True)\n",
        "\n",
        "ballonsdor[\"bo_2014\"] = ballonsdor[\"bo_2014\"].append(pd.read_html('https://fr.wikipedia.org/wiki/Ballon_d%27or_'+str(2014),attrs={\"class\":\"wikitable sortable\"})[0],ignore_index=True)\n",
        "ballonsdor[\"bo_2015\"] = ballonsdor[\"bo_2015\"].append(pd.read_html('https://fr.wikipedia.org/wiki/Ballon_d%27or_'+str(2015),attrs={\"class\":\"wikitable sortable\"})[0],ignore_index=True)"
      ],
      "execution_count": null,
      "outputs": [
        {
          "output_type": "stream",
          "name": "stderr",
          "text": [
            "100%|██████████| 3/3 [00:00<00:00,  5.52it/s]\n"
          ]
        }
      ]
    },
    {
      "cell_type": "code",
      "metadata": {
        "id": "kbo9y3QxrrQZ"
      },
      "source": [
        "#normalizing column names\n",
        "ballonsdor[\"bo_1998\"].rename(columns={\"Points[1]\": \"Points\",\"Rang[1]\": \"Rang\"},inplace=True)\n",
        "ballonsdor[\"bo_2002\"].rename(columns={\"Points[1]\": \"Points\",\"Rang[1]\": \"Rang\"},inplace=True)\n",
        "ballonsdor[\"bo_2003\"].rename(columns={\"Points[1]\": \"Points\",\"Rang[1]\": \"Rang\"},inplace=True)\n",
        "ballonsdor[\"bo_2006\"].rename(columns={0: \"Rang\",1:\"Nom\",2:\"Club\",3:\"Nationalité\",4:\"Points\"},inplace=True)\n",
        "ballonsdor[\"bo_2007\"].rename(columns={0: \"Rang\",1:\"Nom\",2:\"Club\",3:\"Nationalité\",4:\"Points\"},inplace=True)\n",
        "ballonsdor[\"bo_2008\"].rename(columns={0: \"Rang\",1:\"Nom\",2:\"Club\",3:\"Nationalité\",4:\"Points\"},inplace=True)\n",
        "ballonsdor[\"bo_2009\"].rename(columns={0: \"Rang\",1:\"Nom\",2:\"Club\",3:\"Nationalité\",4:\"Points\"},inplace=True)"
      ],
      "execution_count": null,
      "outputs": []
    },
    {
      "cell_type": "code",
      "metadata": {
        "id": "9hjIyUTUs0EI"
      },
      "source": [
        "#dropping useless rows\n",
        "ballonsdor[\"bo_2006\"].drop(0,inplace=True)\n",
        "ballonsdor[\"bo_2007\"].drop(0,inplace=True)\n",
        "ballonsdor[\"bo_2008\"].drop(0,inplace=True)\n",
        "ballonsdor[\"bo_2009\"].drop(0,inplace=True)"
      ],
      "execution_count": null,
      "outputs": []
    },
    {
      "cell_type": "code",
      "metadata": {
        "colab": {
          "base_uri": "https://localhost:8080/"
        },
        "id": "yA0sCoWSwBnm",
        "outputId": "2b174013-f12f-4444-c11d-7db674f2a422"
      },
      "source": [
        "#forcing int type for points column\n",
        "for year in tqdm(range(1995,2020)):\n",
        "   df_name = \"bo_\"+str(year)\n",
        "   try:\n",
        "    ballonsdor[df_name][\"Points\"].astype(int)\n",
        "   except KeyError:\n",
        "     print(\"Points column not found in \"+df_name+\", proceeding\")"
      ],
      "execution_count": null,
      "outputs": [
        {
          "output_type": "stream",
          "name": "stderr",
          "text": [
            "100%|██████████| 25/25 [00:00<00:00, 3389.17it/s]"
          ]
        },
        {
          "output_type": "stream",
          "name": "stdout",
          "text": [
            "Points column not found in bo_2010, proceeding\n",
            "Points column not found in bo_2011, proceeding\n",
            "Points column not found in bo_2012, proceeding\n",
            "Points column not found in bo_2013, proceeding\n",
            "Points column not found in bo_2014, proceeding\n"
          ]
        },
        {
          "output_type": "stream",
          "name": "stderr",
          "text": [
            "\n"
          ]
        }
      ]
    },
    {
      "cell_type": "code",
      "metadata": {
        "colab": {
          "base_uri": "https://localhost:8080/"
        },
        "id": "IAeeKtA8oVp8",
        "outputId": "573f1200-a1ac-4bcb-bb63-891c8f81c7a4"
      },
      "source": [
        "#normalizing points won for each year\n",
        "for df in tqdm(ballonsdor.keys()):\n",
        "  try:\n",
        "    ballonsdor[df][\"%\"] = ballonsdor[df][\"Points\"]/ballonsdor[df][\"Points\"].sum()\n",
        "  except KeyError:\n",
        "    print(\"Points column not found in \"+df+\", proceeding\")\n",
        "  except TypeError:\n",
        "    continue"
      ],
      "execution_count": null,
      "outputs": [
        {
          "output_type": "stream",
          "name": "stderr",
          "text": [
            "100%|██████████| 25/25 [00:00<00:00, 1399.44it/s]"
          ]
        },
        {
          "output_type": "stream",
          "name": "stdout",
          "text": [
            "Points column not found in bo_2010, proceeding\n",
            "Points column not found in bo_2011, proceeding\n",
            "Points column not found in bo_2012, proceeding\n",
            "Points column not found in bo_2013, proceeding\n",
            "Points column not found in bo_2014, proceeding\n"
          ]
        },
        {
          "output_type": "stream",
          "name": "stderr",
          "text": [
            "\n"
          ]
        }
      ]
    },
    {
      "cell_type": "code",
      "metadata": {
        "id": "RD5U2IpfpP97"
      },
      "source": [
        "#fixing name column\n",
        "ballonsdor[\"bo_2011\"][\"Nom\"] = ballonsdor[\"bo_2011\"][\"Nom[3]\"]\n",
        "ballonsdor[\"bo_2011\"].loc[0,\"Nom\"] = \"Lionel Messi\"\n",
        "ballonsdor[\"bo_2011\"].loc[1,\"Nom\"] = \"Cristiano Ronaldo\"\n",
        "ballonsdor[\"bo_2011\"].loc[2,\"Nom\"] = \"Xavi\"\n",
        "ballonsdor[\"bo_2011\"].drop(\"Nom[3]\",axis=1,inplace=True)\n",
        "ballonsdor[\"bo_2011\"].drop_duplicates(inplace=True)"
      ],
      "execution_count": null,
      "outputs": []
    },
    {
      "cell_type": "code",
      "metadata": {
        "colab": {
          "base_uri": "https://localhost:8080/"
        },
        "id": "NTiA6Qmh0qO6",
        "outputId": "2811bd04-b4fe-4b70-b399-e294a45b52e8"
      },
      "source": [
        "#export data\n",
        "for df in tqdm(ballonsdor.items()):\n",
        "    print(df[0],type(df[1]))\n",
        "    df[1].to_csv(df[0]+\".csv\",index=False)"
      ],
      "execution_count": 163,
      "outputs": [
        {
          "output_type": "stream",
          "name": "stderr",
          "text": [
            "100%|██████████| 25/25 [00:00<00:00, 594.35it/s]"
          ]
        },
        {
          "output_type": "stream",
          "name": "stdout",
          "text": [
            "bo_1995 <class 'pandas.core.frame.DataFrame'>\n",
            "bo_1996 <class 'pandas.core.frame.DataFrame'>\n",
            "bo_1997 <class 'pandas.core.frame.DataFrame'>\n",
            "bo_1998 <class 'pandas.core.frame.DataFrame'>\n",
            "bo_1999 <class 'pandas.core.frame.DataFrame'>\n",
            "bo_2000 <class 'pandas.core.frame.DataFrame'>\n",
            "bo_2001 <class 'pandas.core.frame.DataFrame'>\n",
            "bo_2002 <class 'pandas.core.frame.DataFrame'>\n",
            "bo_2003 <class 'pandas.core.frame.DataFrame'>\n",
            "bo_2004 <class 'pandas.core.frame.DataFrame'>\n",
            "bo_2005 <class 'pandas.core.frame.DataFrame'>\n",
            "bo_2006 <class 'pandas.core.frame.DataFrame'>\n",
            "bo_2007 <class 'pandas.core.frame.DataFrame'>\n",
            "bo_2008 <class 'pandas.core.frame.DataFrame'>\n",
            "bo_2009 <class 'pandas.core.frame.DataFrame'>\n",
            "bo_2010 <class 'pandas.core.frame.DataFrame'>\n",
            "bo_2011 <class 'pandas.core.frame.DataFrame'>\n",
            "bo_2012 <class 'pandas.core.frame.DataFrame'>\n",
            "bo_2013 <class 'pandas.core.frame.DataFrame'>\n",
            "bo_2014 <class 'pandas.core.frame.DataFrame'>\n",
            "bo_2015 <class 'pandas.core.frame.DataFrame'>\n",
            "bo_2016 <class 'pandas.core.frame.DataFrame'>\n",
            "bo_2017 <class 'pandas.core.frame.DataFrame'>\n",
            "bo_2018 <class 'pandas.core.frame.DataFrame'>\n",
            "bo_2019 <class 'pandas.core.frame.DataFrame'>\n"
          ]
        },
        {
          "output_type": "stream",
          "name": "stderr",
          "text": [
            "\n"
          ]
        }
      ]
    }
  ]
}
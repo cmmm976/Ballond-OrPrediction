{
 "cells": [
  {
   "cell_type": "code",
   "execution_count": 15,
   "metadata": {},
   "outputs": [],
   "source": [
    "import pandas as pd\n",
    "import matplotlib.pyplot as plt\n",
    "import seaborn as sns\n",
    "from tqdm import tqdm\n",
    "sns.set()"
   ]
  },
  {
   "cell_type": "code",
   "execution_count": 18,
   "metadata": {},
   "outputs": [],
   "source": [
    "#uploading players' stats\n",
    "data = pd.read_csv(\"player_stats.csv\")\n",
    "data.drop(\"Unnamed: 0\",axis=1,inplace=True)"
   ]
  },
  {
   "cell_type": "code",
   "execution_count": 116,
   "metadata": {},
   "outputs": [],
   "source": [
    "#uploadings ballon d'or rankings\n",
    "ballonsdor = {}\n",
    "for year in range(1996,2020):\n",
    "    ballonsdor[year] = pd.read_csv(\"bo_\"+str(year)+\".csv\")"
   ]
  },
  {
   "cell_type": "code",
   "execution_count": 117,
   "metadata": {},
   "outputs": [
    {
     "name": "stderr",
     "output_type": "stream",
     "text": [
      "100%|██████████| 24/24 [00:00<00:00, 2393.44it/s]"
     ]
    },
    {
     "name": "stdout",
     "output_type": "stream",
     "text": [
      "Points column not found in 2010, proceeding\n",
      "Points column not found in 2011, proceeding\n",
      "Points column not found in 2012, proceeding\n",
      "Points column not found in 2013, proceeding\n",
      "Points column not found in 2014, proceeding\n"
     ]
    },
    {
     "name": "stderr",
     "output_type": "stream",
     "text": [
      "\n"
     ]
    }
   ],
   "source": [
    "#forcing int type for points column\n",
    "for year in tqdm(range(1996,2020)):\n",
    "   try:\n",
    "    ballonsdor[year][\"Points\"] = ballonsdor[year][\"Points\"].astype(int)\n",
    "   except KeyError:\n",
    "     print(\"Points column not found in \"+str(year)+\", proceeding\")"
   ]
  },
  {
   "cell_type": "code",
   "execution_count": 118,
   "metadata": {},
   "outputs": [
    {
     "name": "stderr",
     "output_type": "stream",
     "text": [
      "100%|██████████| 24/24 [00:00<00:00, 2376.60it/s]"
     ]
    },
    {
     "name": "stdout",
     "output_type": "stream",
     "text": [
      "Points column not found in 2010, proceeding\n",
      "Points column not found in 2011, proceeding\n",
      "Points column not found in 2012, proceeding\n",
      "Points column not found in 2013, proceeding\n",
      "Points column not found in 2014, proceeding\n"
     ]
    },
    {
     "name": "stderr",
     "output_type": "stream",
     "text": [
      "\n"
     ]
    }
   ],
   "source": [
    "#normalizing points won for each year\n",
    "for df in tqdm(ballonsdor.keys()):\n",
    "  try:\n",
    "    ballonsdor[df][\"%\"] = ballonsdor[df][\"Points\"]/ballonsdor[df][\"Points\"].sum()\n",
    "  except KeyError:\n",
    "    print(\"Points column not found in \"+str(df)+\", proceeding\")\n",
    "  except TypeError:\n",
    "    continue"
   ]
  },
  {
   "cell_type": "code",
   "execution_count": 119,
   "metadata": {},
   "outputs": [],
   "source": [
    "#creating join key for player's stats\n",
    "data[\"BO_JK\"] = data[\"Season_End_Year\"].astype(str) + data[\"Player\"]"
   ]
  },
  {
   "cell_type": "code",
   "execution_count": 120,
   "metadata": {},
   "outputs": [
    {
     "name": "stderr",
     "output_type": "stream",
     "text": [
      "100%|██████████| 24/24 [00:00<00:00, 1543.28it/s]\n"
     ]
    }
   ],
   "source": [
    "#creating join keys for BO rankings\n",
    "for year in tqdm(ballonsdor):\n",
    "    try:\n",
    "        ballonsdor[year][\"BO_JK\"] = str(year) + ballonsdor[year][\"Nom\"]\n",
    "    except KeyError:\n",
    "        ballonsdor[year][\"BO_JK\"] = str(year) + ballonsdor[year][\"Joueur\"]"
   ]
  },
  {
   "cell_type": "code",
   "execution_count": 121,
   "metadata": {},
   "outputs": [],
   "source": [
    "#normalizing column names\n",
    "for year in ballonsdor:\n",
    "    try:    \n",
    "        ballonsdor[year][\"Nom\"] = ballonsdor[year][\"Joueur\"]\n",
    "        ballonsdor[year].drop(\"Joueur\",axis=1,inplace=True)\n",
    "    except KeyError:\n",
    "        continue\n",
    "\n",
    "for year in ballonsdor:\n",
    "    try:\n",
    "        ballonsdor[year][\"%\"] = ballonsdor[year][\"Pourcentage\"]\n",
    "    except KeyError:\n",
    "        continue\n",
    "\n",
    "for year in ballonsdor:\n",
    "    try:\n",
    "        ballonsdor[year][\"Pays\"] = ballonsdor[year][\"Équipe nationale\"]\n",
    "    except KeyError:\n",
    "        continue\n",
    "\n",
    "for year in ballonsdor:\n",
    "    try:\n",
    "        ballonsdor[year][\"%\"] = ballonsdor[year]['Pourcentage[6]']\n",
    "    except KeyError:\n",
    "        continue\n",
    "for year in ballonsdor:\n",
    "    try:\n",
    "        ballonsdor[year][\"Pays\"] = ballonsdor[year][\"Sélection nationale\"]\n",
    "    except KeyError:\n",
    "        continue\n",
    "for year in ballonsdor:\n",
    "    try:\n",
    "        ballonsdor[year][\"Pays\"] = ballonsdor[year][\"Nationalité\"]\n",
    "    except KeyError:\n",
    "        continue\n"
   ]
  },
  {
   "cell_type": "code",
   "execution_count": 123,
   "metadata": {},
   "outputs": [
    {
     "name": "stderr",
     "output_type": "stream",
     "text": [
      "C:\\Users\\charl\\miniconda3\\envs\\BallondOr\\lib\\site-packages\\pandas\\core\\frame.py:4906: SettingWithCopyWarning: \n",
      "A value is trying to be set on a copy of a slice from a DataFrame\n",
      "\n",
      "See the caveats in the documentation: https://pandas.pydata.org/pandas-docs/stable/user_guide/indexing.html#returning-a-view-versus-a-copy\n",
      "  return super().drop(\n"
     ]
    }
   ],
   "source": [
    "#append BO rankings together\n",
    "BO_rankings = ballonsdor[1996].head()\n",
    "BO_rankings.drop(0,inplace=True)\n",
    "for year in ballonsdor:\n",
    "    BO_rankings = BO_rankings.append(ballonsdor[year])"
   ]
  },
  {
   "cell_type": "code",
   "execution_count": 124,
   "metadata": {},
   "outputs": [
    {
     "data": {
      "text/plain": [
       "Rang                    46\n",
       "Nom                      0\n",
       "Pays                     0\n",
       "Club                     0\n",
       "Points                 155\n",
       "Pos 1                  683\n",
       "Pos 2                  676\n",
       "Pos 3                  665\n",
       "Pos 4                  663\n",
       "Pos 5                  652\n",
       "%                       13\n",
       "BO_JK                    0\n",
       "Sélection nationale    263\n",
       "Nationalité            541\n",
       "Rang[6]                686\n",
       "Pourcentage[6]         686\n",
       "Pourcentage            590\n",
       "Unnamed: 0             686\n",
       "Équipe nationale       686\n",
       "Poste                  649\n",
       "dtype: int64"
      ]
     },
     "execution_count": 124,
     "metadata": {},
     "output_type": "execute_result"
    }
   ],
   "source": [
    "BO_rankings.isna().sum()"
   ]
  },
  {
   "cell_type": "code",
   "execution_count": 125,
   "metadata": {},
   "outputs": [],
   "source": [
    "#drop useless/duplicate columns\n",
    "BO_rankings = BO_rankings[[\"BO_JK\",\"Nom\",\"Pays\",\"Club\",\"%\"]]"
   ]
  },
  {
   "cell_type": "code",
   "execution_count": 126,
   "metadata": {},
   "outputs": [
    {
     "data": {
      "text/html": [
       "<div>\n",
       "<style scoped>\n",
       "    .dataframe tbody tr th:only-of-type {\n",
       "        vertical-align: middle;\n",
       "    }\n",
       "\n",
       "    .dataframe tbody tr th {\n",
       "        vertical-align: top;\n",
       "    }\n",
       "\n",
       "    .dataframe thead th {\n",
       "        text-align: right;\n",
       "    }\n",
       "</style>\n",
       "<table border=\"1\" class=\"dataframe\">\n",
       "  <thead>\n",
       "    <tr style=\"text-align: right;\">\n",
       "      <th></th>\n",
       "      <th>BO_JK</th>\n",
       "      <th>Nom</th>\n",
       "      <th>Pays</th>\n",
       "      <th>Club</th>\n",
       "      <th>%</th>\n",
       "    </tr>\n",
       "  </thead>\n",
       "  <tbody>\n",
       "    <tr>\n",
       "      <th>1</th>\n",
       "      <td>1996Ronaldo</td>\n",
       "      <td>Ronaldo</td>\n",
       "      <td>Brésil</td>\n",
       "      <td>PSV Eindhoven / FC Barcelone</td>\n",
       "      <td>0.186928</td>\n",
       "    </tr>\n",
       "    <tr>\n",
       "      <th>2</th>\n",
       "      <td>1996Alan Shearer</td>\n",
       "      <td>Alan Shearer</td>\n",
       "      <td>Angleterre</td>\n",
       "      <td>Blackburn Rovers / Newcastle United</td>\n",
       "      <td>0.139869</td>\n",
       "    </tr>\n",
       "    <tr>\n",
       "      <th>3</th>\n",
       "      <td>1996Alessandro Del Piero</td>\n",
       "      <td>Alessandro Del Piero</td>\n",
       "      <td>Italie</td>\n",
       "      <td>Juventus</td>\n",
       "      <td>0.090196</td>\n",
       "    </tr>\n",
       "    <tr>\n",
       "      <th>4</th>\n",
       "      <td>1996Jürgen Klinsmann</td>\n",
       "      <td>Jürgen Klinsmann</td>\n",
       "      <td>Allemagne</td>\n",
       "      <td>Bayern Munich</td>\n",
       "      <td>0.078431</td>\n",
       "    </tr>\n",
       "    <tr>\n",
       "      <th>0</th>\n",
       "      <td>1996Matthias Sammer</td>\n",
       "      <td>Matthias Sammer</td>\n",
       "      <td>Allemagne</td>\n",
       "      <td>Borussia Dortmund</td>\n",
       "      <td>0.188235</td>\n",
       "    </tr>\n",
       "    <tr>\n",
       "      <th>...</th>\n",
       "      <td>...</td>\n",
       "      <td>...</td>\n",
       "      <td>...</td>\n",
       "      <td>...</td>\n",
       "      <td>...</td>\n",
       "    </tr>\n",
       "    <tr>\n",
       "      <th>25</th>\n",
       "      <td>2019Karim Benzema</td>\n",
       "      <td>Karim Benzema</td>\n",
       "      <td>France</td>\n",
       "      <td>Real Madrid</td>\n",
       "      <td>0.000355</td>\n",
       "    </tr>\n",
       "    <tr>\n",
       "      <th>26</th>\n",
       "      <td>2019Georginio Wijnaldum</td>\n",
       "      <td>Georginio Wijnaldum</td>\n",
       "      <td>Pays-Bas</td>\n",
       "      <td>Liverpool FC</td>\n",
       "      <td>0.000355</td>\n",
       "    </tr>\n",
       "    <tr>\n",
       "      <th>27</th>\n",
       "      <td>2019João Félix</td>\n",
       "      <td>João Félix</td>\n",
       "      <td>Portugal</td>\n",
       "      <td>Benfica Lisbonne Atlético de Madrid</td>\n",
       "      <td>0.0</td>\n",
       "    </tr>\n",
       "    <tr>\n",
       "      <th>28</th>\n",
       "      <td>2019Marquinhos</td>\n",
       "      <td>Marquinhos</td>\n",
       "      <td>Brésil</td>\n",
       "      <td>Paris Saint-Germain</td>\n",
       "      <td>0.0</td>\n",
       "    </tr>\n",
       "    <tr>\n",
       "      <th>29</th>\n",
       "      <td>2019Donny van de Beek</td>\n",
       "      <td>Donny van de Beek</td>\n",
       "      <td>Pays-Bas</td>\n",
       "      <td>Ajax Amsterdam</td>\n",
       "      <td>0.0</td>\n",
       "    </tr>\n",
       "  </tbody>\n",
       "</table>\n",
       "<p>709 rows × 5 columns</p>\n",
       "</div>"
      ],
      "text/plain": [
       "                       BO_JK                   Nom        Pays  \\\n",
       "1                1996Ronaldo               Ronaldo      Brésil   \n",
       "2           1996Alan Shearer          Alan Shearer  Angleterre   \n",
       "3   1996Alessandro Del Piero  Alessandro Del Piero      Italie   \n",
       "4       1996Jürgen Klinsmann      Jürgen Klinsmann   Allemagne   \n",
       "0        1996Matthias Sammer       Matthias Sammer   Allemagne   \n",
       "..                       ...                   ...         ...   \n",
       "25         2019Karim Benzema         Karim Benzema      France   \n",
       "26   2019Georginio Wijnaldum   Georginio Wijnaldum    Pays-Bas   \n",
       "27            2019João Félix            João Félix    Portugal   \n",
       "28            2019Marquinhos            Marquinhos      Brésil   \n",
       "29     2019Donny van de Beek     Donny van de Beek    Pays-Bas   \n",
       "\n",
       "                                   Club         %  \n",
       "1          PSV Eindhoven / FC Barcelone  0.186928  \n",
       "2   Blackburn Rovers / Newcastle United  0.139869  \n",
       "3                              Juventus  0.090196  \n",
       "4                         Bayern Munich  0.078431  \n",
       "0                     Borussia Dortmund  0.188235  \n",
       "..                                  ...       ...  \n",
       "25                          Real Madrid  0.000355  \n",
       "26                         Liverpool FC  0.000355  \n",
       "27  Benfica Lisbonne Atlético de Madrid       0.0  \n",
       "28                  Paris Saint-Germain       0.0  \n",
       "29                       Ajax Amsterdam       0.0  \n",
       "\n",
       "[709 rows x 5 columns]"
      ]
     },
     "execution_count": 126,
     "metadata": {},
     "output_type": "execute_result"
    }
   ],
   "source": [
    "BO_rankings"
   ]
  },
  {
   "cell_type": "code",
   "execution_count": 127,
   "metadata": {},
   "outputs": [
    {
     "name": "stderr",
     "output_type": "stream",
     "text": [
      "100%|██████████| 24/24 [00:00<00:00, 38.39it/s]\n"
     ]
    }
   ],
   "source": [
    "#joins\n",
    "for year in tqdm(ballonsdor):\n",
    "    new_data = data.merge(right=BO_rankings,on=\"BO_JK\",how=\"right\")"
   ]
  },
  {
   "cell_type": "code",
   "execution_count": 135,
   "metadata": {},
   "outputs": [],
   "source": [
    "new_data.dropna(subset=[\"Season_End_Year\"],inplace=True)"
   ]
  },
  {
   "cell_type": "markdown",
   "metadata": {},
   "source": [
    "1) créer clés squad_JK et country_JK dans new_data\n",
    "2) pour chaque .csv de cup winners, créer clés cup_JK_1 (winner) et cup_JK_2 (finalist)\n",
    "3) pour chaque cup de club, créer une colonne qui vaut 1 si la clé est trouvée, 0 sinon\n",
    "4) idem pour cup nationales"
   ]
  },
  {
   "cell_type": "code",
   "execution_count": 186,
   "metadata": {},
   "outputs": [],
   "source": [
    "#1) créer clés squad_JK et Nation_JK dans new_data\n",
    "new_data[\"Squad_JK\"] = new_data[\"Season_End_Year\"].astype(str) + new_data[\"Squad\"]\n",
    "new_data[\"Nation_JK\"] = new_data[\"Season_End_Year\"].astype(str) + new_data[\"Nation\"]"
   ]
  },
  {
   "cell_type": "code",
   "execution_count": 183,
   "metadata": {},
   "outputs": [],
   "source": [
    "competitions_winners = {}"
   ]
  },
  {
   "cell_type": "code",
   "execution_count": 220,
   "metadata": {},
   "outputs": [],
   "source": [
    "competitions_winners[\"Bundesliga\"] = pd.read_csv(\"Bundesliga_winners.csv\")\n",
    "competitions_winners[\"C3\"] = pd.read_csv(\"C3_Winners.csv\")\n",
    "competitions_winners[\"UCL\"] = pd.read_csv(\"Champions_League_winners.csv\")\n",
    "competitions_winners[\"Club WC\"] = pd.read_csv(\"club_world_cup_winners.csv\")\n",
    "competitions_winners[\"Copa America\"] = pd.read_csv(\"copa_america_winners.csv\")\n",
    "competitions_winners[\"Euro\"] = pd.read_csv(\"euro_winners.csv\")\n",
    "competitions_winners[\"Liga\"] = pd.read_csv(\"Liga_winners.csv\")\n",
    "competitions_winners[\"Ligue 1\"] = pd.read_csv(\"ligue1_winners.csv\")\n",
    "competitions_winners['PL'] = pd.read_csv(\"PL_winners.csv\")\n",
    "competitions_winners['Serie A'] = pd.read_csv(\"SerieA_winners.csv\")\n",
    "competitions_winners['WC'] = pd.read_csv('WC_winners.csv')"
   ]
  },
  {
   "cell_type": "code",
   "execution_count": 224,
   "metadata": {},
   "outputs": [
    {
     "name": "stderr",
     "output_type": "stream",
     "text": [
      "100%|██████████| 11/11 [00:00<00:00, 1338.94it/s]\n"
     ]
    }
   ],
   "source": [
    "#2) pour chaque .csv de cup winners, créer clés cup_JK_1 (winner) et cup_JK_2 (finalist)\n",
    "for competition in tqdm(competitions_winners.items()):\n",
    "    competitions_winners[competition[0]][competition[0]+\"_JK_1\"] = competitions_winners[competition[0]][\"Year\"].astype(str) + competitions_winners[competition[0]][\"Winner\"]\n",
    "    try:\n",
    "        competitions_winners[competition[0]][competition[0]+\"_JK_2\"] = competitions_winners[competition[0]][\"Year\"].astype(str) + competitions_winners[competition[0]][\"Finalist\"]\n",
    "    except KeyError:\n",
    "        continue"
   ]
  },
  {
   "cell_type": "code",
   "execution_count": 238,
   "metadata": {},
   "outputs": [
    {
     "name": "stderr",
     "output_type": "stream",
     "text": [
      "100%|██████████| 11/11 [00:00<00:00, 26.53it/s]\n",
      "100%|██████████| 11/11 [00:00<00:00, 25.92it/s]\n"
     ]
    }
   ],
   "source": [
    "#3) pour chaque cup de club, créer une colonne dans new_data qui vaut 1 si la clé est trouvée, 0 sinon\n",
    "for competition in tqdm(competitions_winners.items()):\n",
    "    new_data[\"winner_\"+competition[0]] = new_data[\"Squad_JK\"].apply(lambda x : 1 if x in competition[1][competition[0]+'_JK_1'].unique() else 0)\n",
    "    try:\n",
    "        new_data[\"finalist_\"+competition[0]] = new_data[\"Squad_JK\"].apply(lambda x : 1 if x in competition[1][competition[0]+'_JK_2'].unique() else 0)\n",
    "    except KeyError:\n",
    "        continue\n",
    "\n",
    "#4) idem pour cup nationales\n",
    "for competition in tqdm(competitions_winners.items()):\n",
    "    new_data[\"winner_\"+competition[0]] = new_data[\"Nation_JK\"].apply(lambda x : 1 if x in competition[1][competition[0]+'_JK_1'].unique() else 0)\n",
    "    try:\n",
    "        new_data[\"finalist_\"+competition[0]] = new_data[\"Nation_JK\"].apply(lambda x : 1 if x in competition[1][competition[0]+'_JK_2'].unique() else 0)\n",
    "    except KeyError:\n",
    "        continue"
   ]
  },
  {
   "cell_type": "code",
   "execution_count": 241,
   "metadata": {},
   "outputs": [
    {
     "data": {
      "text/html": [
       "<div>\n",
       "<style scoped>\n",
       "    .dataframe tbody tr th:only-of-type {\n",
       "        vertical-align: middle;\n",
       "    }\n",
       "\n",
       "    .dataframe tbody tr th {\n",
       "        vertical-align: top;\n",
       "    }\n",
       "\n",
       "    .dataframe thead th {\n",
       "        text-align: right;\n",
       "    }\n",
       "</style>\n",
       "<table border=\"1\" class=\"dataframe\">\n",
       "  <thead>\n",
       "    <tr style=\"text-align: right;\">\n",
       "      <th></th>\n",
       "      <th>Season_End_Year</th>\n",
       "      <th>Squad</th>\n",
       "      <th>Comp</th>\n",
       "      <th>Player</th>\n",
       "      <th>Nation</th>\n",
       "      <th>Pos</th>\n",
       "      <th>Age</th>\n",
       "      <th>Born</th>\n",
       "      <th>MP_Playing</th>\n",
       "      <th>Starts_Playing</th>\n",
       "      <th>...</th>\n",
       "      <th>winner_Copa America</th>\n",
       "      <th>finalist_Copa America</th>\n",
       "      <th>winner_Euro</th>\n",
       "      <th>finalist_Euro</th>\n",
       "      <th>winner_Liga</th>\n",
       "      <th>winner_Ligue 1</th>\n",
       "      <th>winner_PL</th>\n",
       "      <th>winner_Serie A</th>\n",
       "      <th>winner_WC</th>\n",
       "      <th>finalist_WC</th>\n",
       "    </tr>\n",
       "  </thead>\n",
       "  <tbody>\n",
       "    <tr>\n",
       "      <th>1</th>\n",
       "      <td>1996</td>\n",
       "      <td>Blackburn</td>\n",
       "      <td>Premier League</td>\n",
       "      <td>Alan Shearer</td>\n",
       "      <td>ENG</td>\n",
       "      <td>FW</td>\n",
       "      <td>24.0</td>\n",
       "      <td>1970.0</td>\n",
       "      <td>35.0</td>\n",
       "      <td>35.0</td>\n",
       "      <td>...</td>\n",
       "      <td>0</td>\n",
       "      <td>0</td>\n",
       "      <td>0</td>\n",
       "      <td>0</td>\n",
       "      <td>0</td>\n",
       "      <td>0</td>\n",
       "      <td>0</td>\n",
       "      <td>0</td>\n",
       "      <td>0</td>\n",
       "      <td>0</td>\n",
       "    </tr>\n",
       "    <tr>\n",
       "      <th>2</th>\n",
       "      <td>1996</td>\n",
       "      <td>Juventus</td>\n",
       "      <td>Serie A</td>\n",
       "      <td>Alessandro Del Piero</td>\n",
       "      <td>ITA</td>\n",
       "      <td>FW,MF</td>\n",
       "      <td>20.0</td>\n",
       "      <td>1974.0</td>\n",
       "      <td>29.0</td>\n",
       "      <td>25.0</td>\n",
       "      <td>...</td>\n",
       "      <td>0</td>\n",
       "      <td>0</td>\n",
       "      <td>0</td>\n",
       "      <td>0</td>\n",
       "      <td>0</td>\n",
       "      <td>0</td>\n",
       "      <td>0</td>\n",
       "      <td>0</td>\n",
       "      <td>0</td>\n",
       "      <td>0</td>\n",
       "    </tr>\n",
       "    <tr>\n",
       "      <th>3</th>\n",
       "      <td>1996</td>\n",
       "      <td>Bayern Munich</td>\n",
       "      <td>Bundesliga</td>\n",
       "      <td>Jürgen Klinsmann</td>\n",
       "      <td>GER</td>\n",
       "      <td>FW</td>\n",
       "      <td>31.0</td>\n",
       "      <td>1964.0</td>\n",
       "      <td>32.0</td>\n",
       "      <td>32.0</td>\n",
       "      <td>...</td>\n",
       "      <td>0</td>\n",
       "      <td>0</td>\n",
       "      <td>1</td>\n",
       "      <td>0</td>\n",
       "      <td>0</td>\n",
       "      <td>0</td>\n",
       "      <td>0</td>\n",
       "      <td>0</td>\n",
       "      <td>0</td>\n",
       "      <td>0</td>\n",
       "    </tr>\n",
       "    <tr>\n",
       "      <th>4</th>\n",
       "      <td>1996</td>\n",
       "      <td>Dortmund</td>\n",
       "      <td>Bundesliga</td>\n",
       "      <td>Matthias Sammer</td>\n",
       "      <td>GER</td>\n",
       "      <td>DF,MF</td>\n",
       "      <td>27.0</td>\n",
       "      <td>1967.0</td>\n",
       "      <td>22.0</td>\n",
       "      <td>22.0</td>\n",
       "      <td>...</td>\n",
       "      <td>0</td>\n",
       "      <td>0</td>\n",
       "      <td>1</td>\n",
       "      <td>0</td>\n",
       "      <td>0</td>\n",
       "      <td>0</td>\n",
       "      <td>0</td>\n",
       "      <td>0</td>\n",
       "      <td>0</td>\n",
       "      <td>0</td>\n",
       "    </tr>\n",
       "    <tr>\n",
       "      <th>6</th>\n",
       "      <td>1996</td>\n",
       "      <td>Blackburn</td>\n",
       "      <td>Premier League</td>\n",
       "      <td>Alan Shearer</td>\n",
       "      <td>ENG</td>\n",
       "      <td>FW</td>\n",
       "      <td>24.0</td>\n",
       "      <td>1970.0</td>\n",
       "      <td>35.0</td>\n",
       "      <td>35.0</td>\n",
       "      <td>...</td>\n",
       "      <td>0</td>\n",
       "      <td>0</td>\n",
       "      <td>0</td>\n",
       "      <td>0</td>\n",
       "      <td>0</td>\n",
       "      <td>0</td>\n",
       "      <td>0</td>\n",
       "      <td>0</td>\n",
       "      <td>0</td>\n",
       "      <td>0</td>\n",
       "    </tr>\n",
       "    <tr>\n",
       "      <th>...</th>\n",
       "      <td>...</td>\n",
       "      <td>...</td>\n",
       "      <td>...</td>\n",
       "      <td>...</td>\n",
       "      <td>...</td>\n",
       "      <td>...</td>\n",
       "      <td>...</td>\n",
       "      <td>...</td>\n",
       "      <td>...</td>\n",
       "      <td>...</td>\n",
       "      <td>...</td>\n",
       "      <td>...</td>\n",
       "      <td>...</td>\n",
       "      <td>...</td>\n",
       "      <td>...</td>\n",
       "      <td>...</td>\n",
       "      <td>...</td>\n",
       "      <td>...</td>\n",
       "      <td>...</td>\n",
       "      <td>...</td>\n",
       "      <td>...</td>\n",
       "    </tr>\n",
       "    <tr>\n",
       "      <th>713</th>\n",
       "      <td>2019</td>\n",
       "      <td>Napoli</td>\n",
       "      <td>Serie A</td>\n",
       "      <td>Kalidou Koulibaly</td>\n",
       "      <td>SEN</td>\n",
       "      <td>DF</td>\n",
       "      <td>27.0</td>\n",
       "      <td>1991.0</td>\n",
       "      <td>35.0</td>\n",
       "      <td>35.0</td>\n",
       "      <td>...</td>\n",
       "      <td>0</td>\n",
       "      <td>0</td>\n",
       "      <td>0</td>\n",
       "      <td>0</td>\n",
       "      <td>0</td>\n",
       "      <td>0</td>\n",
       "      <td>0</td>\n",
       "      <td>0</td>\n",
       "      <td>0</td>\n",
       "      <td>0</td>\n",
       "    </tr>\n",
       "    <tr>\n",
       "      <th>714</th>\n",
       "      <td>2019</td>\n",
       "      <td>Barcelona</td>\n",
       "      <td>La Liga</td>\n",
       "      <td>Marc-André ter Stegen</td>\n",
       "      <td>GER</td>\n",
       "      <td>GK</td>\n",
       "      <td>26.0</td>\n",
       "      <td>1992.0</td>\n",
       "      <td>35.0</td>\n",
       "      <td>35.0</td>\n",
       "      <td>...</td>\n",
       "      <td>0</td>\n",
       "      <td>0</td>\n",
       "      <td>0</td>\n",
       "      <td>0</td>\n",
       "      <td>0</td>\n",
       "      <td>0</td>\n",
       "      <td>0</td>\n",
       "      <td>0</td>\n",
       "      <td>0</td>\n",
       "      <td>0</td>\n",
       "    </tr>\n",
       "    <tr>\n",
       "      <th>715</th>\n",
       "      <td>2019</td>\n",
       "      <td>Real Madrid</td>\n",
       "      <td>La Liga</td>\n",
       "      <td>Karim Benzema</td>\n",
       "      <td>FRA</td>\n",
       "      <td>FW</td>\n",
       "      <td>30.0</td>\n",
       "      <td>1987.0</td>\n",
       "      <td>36.0</td>\n",
       "      <td>35.0</td>\n",
       "      <td>...</td>\n",
       "      <td>0</td>\n",
       "      <td>0</td>\n",
       "      <td>0</td>\n",
       "      <td>0</td>\n",
       "      <td>0</td>\n",
       "      <td>0</td>\n",
       "      <td>0</td>\n",
       "      <td>0</td>\n",
       "      <td>0</td>\n",
       "      <td>0</td>\n",
       "    </tr>\n",
       "    <tr>\n",
       "      <th>716</th>\n",
       "      <td>2019</td>\n",
       "      <td>Liverpool</td>\n",
       "      <td>Premier League</td>\n",
       "      <td>Georginio Wijnaldum</td>\n",
       "      <td>NED</td>\n",
       "      <td>MF</td>\n",
       "      <td>27.0</td>\n",
       "      <td>1990.0</td>\n",
       "      <td>35.0</td>\n",
       "      <td>32.0</td>\n",
       "      <td>...</td>\n",
       "      <td>0</td>\n",
       "      <td>0</td>\n",
       "      <td>0</td>\n",
       "      <td>0</td>\n",
       "      <td>0</td>\n",
       "      <td>0</td>\n",
       "      <td>0</td>\n",
       "      <td>0</td>\n",
       "      <td>0</td>\n",
       "      <td>0</td>\n",
       "    </tr>\n",
       "    <tr>\n",
       "      <th>718</th>\n",
       "      <td>2019</td>\n",
       "      <td>Paris S-G</td>\n",
       "      <td>Ligue 1</td>\n",
       "      <td>Marquinhos</td>\n",
       "      <td>BRA</td>\n",
       "      <td>DF,MF</td>\n",
       "      <td>24.0</td>\n",
       "      <td>1994.0</td>\n",
       "      <td>30.0</td>\n",
       "      <td>30.0</td>\n",
       "      <td>...</td>\n",
       "      <td>1</td>\n",
       "      <td>0</td>\n",
       "      <td>0</td>\n",
       "      <td>0</td>\n",
       "      <td>0</td>\n",
       "      <td>0</td>\n",
       "      <td>0</td>\n",
       "      <td>0</td>\n",
       "      <td>0</td>\n",
       "      <td>0</td>\n",
       "    </tr>\n",
       "  </tbody>\n",
       "</table>\n",
       "<p>619 rows × 60 columns</p>\n",
       "</div>"
      ],
      "text/plain": [
       "     Season_End_Year          Squad            Comp                 Player  \\\n",
       "1               1996      Blackburn  Premier League           Alan Shearer   \n",
       "2               1996       Juventus         Serie A   Alessandro Del Piero   \n",
       "3               1996  Bayern Munich      Bundesliga       Jürgen Klinsmann   \n",
       "4               1996       Dortmund      Bundesliga        Matthias Sammer   \n",
       "6               1996      Blackburn  Premier League           Alan Shearer   \n",
       "..               ...            ...             ...                    ...   \n",
       "713             2019         Napoli         Serie A      Kalidou Koulibaly   \n",
       "714             2019      Barcelona         La Liga  Marc-André ter Stegen   \n",
       "715             2019    Real Madrid         La Liga          Karim Benzema   \n",
       "716             2019      Liverpool  Premier League    Georginio Wijnaldum   \n",
       "718             2019      Paris S-G         Ligue 1             Marquinhos   \n",
       "\n",
       "    Nation    Pos   Age    Born  MP_Playing  Starts_Playing  ...  \\\n",
       "1      ENG     FW  24.0  1970.0        35.0            35.0  ...   \n",
       "2      ITA  FW,MF  20.0  1974.0        29.0            25.0  ...   \n",
       "3      GER     FW  31.0  1964.0        32.0            32.0  ...   \n",
       "4      GER  DF,MF  27.0  1967.0        22.0            22.0  ...   \n",
       "6      ENG     FW  24.0  1970.0        35.0            35.0  ...   \n",
       "..     ...    ...   ...     ...         ...             ...  ...   \n",
       "713    SEN     DF  27.0  1991.0        35.0            35.0  ...   \n",
       "714    GER     GK  26.0  1992.0        35.0            35.0  ...   \n",
       "715    FRA     FW  30.0  1987.0        36.0            35.0  ...   \n",
       "716    NED     MF  27.0  1990.0        35.0            32.0  ...   \n",
       "718    BRA  DF,MF  24.0  1994.0        30.0            30.0  ...   \n",
       "\n",
       "     winner_Copa America  finalist_Copa America  winner_Euro  finalist_Euro  \\\n",
       "1                      0                      0            0              0   \n",
       "2                      0                      0            0              0   \n",
       "3                      0                      0            1              0   \n",
       "4                      0                      0            1              0   \n",
       "6                      0                      0            0              0   \n",
       "..                   ...                    ...          ...            ...   \n",
       "713                    0                      0            0              0   \n",
       "714                    0                      0            0              0   \n",
       "715                    0                      0            0              0   \n",
       "716                    0                      0            0              0   \n",
       "718                    1                      0            0              0   \n",
       "\n",
       "     winner_Liga  winner_Ligue 1  winner_PL  winner_Serie A  winner_WC  \\\n",
       "1              0               0          0               0          0   \n",
       "2              0               0          0               0          0   \n",
       "3              0               0          0               0          0   \n",
       "4              0               0          0               0          0   \n",
       "6              0               0          0               0          0   \n",
       "..           ...             ...        ...             ...        ...   \n",
       "713            0               0          0               0          0   \n",
       "714            0               0          0               0          0   \n",
       "715            0               0          0               0          0   \n",
       "716            0               0          0               0          0   \n",
       "718            0               0          0               0          0   \n",
       "\n",
       "     finalist_WC  \n",
       "1              0  \n",
       "2              0  \n",
       "3              0  \n",
       "4              0  \n",
       "6              0  \n",
       "..           ...  \n",
       "713            0  \n",
       "714            0  \n",
       "715            0  \n",
       "716            0  \n",
       "718            0  \n",
       "\n",
       "[619 rows x 60 columns]"
      ]
     },
     "execution_count": 241,
     "metadata": {},
     "output_type": "execute_result"
    }
   ],
   "source": [
    "new_data"
   ]
  },
  {
   "cell_type": "code",
   "execution_count": 181,
   "metadata": {},
   "outputs": [],
   "source": [
    "test[\"won_UCL\"] = test[\"Squad_JK\"].apply(lambda x : 1 if x in UCL_winners['UCL_JK_1'].unique() else 0)"
   ]
  },
  {
   "cell_type": "code",
   "execution_count": 182,
   "metadata": {},
   "outputs": [
    {
     "data": {
      "text/plain": [
       "1      0\n",
       "2      1\n",
       "3      0\n",
       "4      0\n",
       "6      0\n",
       "      ..\n",
       "713    0\n",
       "714    0\n",
       "715    0\n",
       "716    1\n",
       "718    0\n",
       "Name: won_UCL, Length: 619, dtype: int64"
      ]
     },
     "execution_count": 182,
     "metadata": {},
     "output_type": "execute_result"
    }
   ],
   "source": [
    "test[\"won_UCL\"]"
   ]
  },
  {
   "cell_type": "code",
   "execution_count": 180,
   "metadata": {},
   "outputs": [
    {
     "data": {
      "text/plain": [
       "'1995Ajax Amsterdam'"
      ]
     },
     "execution_count": 180,
     "metadata": {},
     "output_type": "execute_result"
    }
   ],
   "source": [
    "UCL_winners[\"UCL_JK_1\"]"
   ]
  },
  {
   "cell_type": "code",
   "execution_count": 166,
   "metadata": {},
   "outputs": [
    {
     "data": {
      "text/plain": [
       "array([0], dtype=int64)"
      ]
     },
     "execution_count": 166,
     "metadata": {},
     "output_type": "execute_result"
    }
   ],
   "source": [
    "test[\"won_UCL\"].unique()"
   ]
  }
 ],
 "metadata": {
  "interpreter": {
   "hash": "497bebd2dbd0ffdbdef9e83b57ad8c72f27994afd6423698447e8e99fa9eec04"
  },
  "kernelspec": {
   "display_name": "Python 3.9.7 64-bit ('BallondOr': conda)",
   "language": "python",
   "name": "python3"
  },
  "language_info": {
   "codemirror_mode": {
    "name": "ipython",
    "version": 3
   },
   "file_extension": ".py",
   "mimetype": "text/x-python",
   "name": "python",
   "nbconvert_exporter": "python",
   "pygments_lexer": "ipython3",
   "version": "3.9.7"
  },
  "orig_nbformat": 4
 },
 "nbformat": 4,
 "nbformat_minor": 2
}
